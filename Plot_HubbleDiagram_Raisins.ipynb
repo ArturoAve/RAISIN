{
 "cells": [
  {
   "cell_type": "markdown",
   "metadata": {},
   "source": [
    "# Plot Hubble diagram\n",
    "\n",
    "RAISINs and/or low-z samples\n",
    "\n",
    "    Version 1.5\n",
    "- including the distance moduli of RAISIN-1 optical data estimated from SNANA."
   ]
  },
  {
   "cell_type": "markdown",
   "metadata": {},
   "source": [
    "# User interface"
   ]
  },
  {
   "cell_type": "code",
   "execution_count": 1,
   "metadata": {
    "collapsed": false
   },
   "outputs": [],
   "source": [
    "# Peculiar velocity. This is used only in the part where I compute\n",
    "# the intrinsic dispersion. 150 km/s is the value I used to GP fit each SN\n",
    "sigma_vpec = 150     # km/s. Usual options (150, 200, 300, 400)\n",
    "\n",
    "#--------------------------------------------\n",
    "\n",
    "# Samples to plot: RAISIN-1 and or RAISIN-2\n",
    "LowzSample=False\n",
    "RAISIN_1_Sample=False\n",
    "RAISIN_2_Sample=False\n",
    "RAISIN1_Snana = True\n",
    "\n",
    "# LOW-Z sub-sample:\n",
    "# Sample = 'CfA'\n",
    "# Sample = 'CSP'\n",
    "# Sample = 'Others'\n",
    "Sample = 'AllSamples'\n",
    "\n",
    "BandType = 'Optical'\n",
    "# BandType = 'OpticalNIR'\n",
    "\n",
    "#----------------------\n",
    "\n",
    "PrintNameOutliers = True\n",
    "PrintRMS = False\n",
    "\"\"\"\n",
    "PrintNameOutliers = False\n",
    "PrintRMS = False\n",
    "\"\"\"\n",
    "\n",
    "#------ (Fixed) ----------------\n",
    "\n",
    "# Intervals for plotting the Hubble diagram\n",
    "# x_interval = (0, 0.065)\n",
    "# x_interval = (0, 0.7)\n",
    "\n",
    "# y_interval = (-1.2, 1.2)\n",
    "y_interval = (-1, 1)\n",
    "\n",
    "#----------------------\n",
    "\n",
    "# Quality Cutoffs for the low-z sample\n",
    "zcmbMin = 0.0;  zcmbMax = 0.06\n",
    "dm15Min = 0.80;  dm15Max = 1.60\n",
    "EBVhostMax = 0.4\n",
    "EBV_mwMax  = 1\n",
    "\n",
    "################################\n",
    "\n",
    "#--- Fixed values ---\n",
    "cc = 299792.458  # Speed of light (km/s)\n"
   ]
  },
  {
   "cell_type": "code",
   "execution_count": 2,
   "metadata": {
    "collapsed": false
   },
   "outputs": [
    {
     "name": "stdout",
     "output_type": "stream",
     "text": [
      "# Directories of the distance-modulus files for the low-z sample:\n",
      "/Users/arturo/Dropbox/Research/SoftwareResearch/Snoopy/AndyLCComp/all/Snoopy_FromMag/2_4RAISINs_old/AllSamples/Optical/\n",
      " \n",
      "# RAISIN-1:\n",
      "/Users/arturo/Dropbox/Research/Articulos/12_RAISINs/RAISINs/RAISIN_1/Data/2017/Snoopy/Optical/Fit/\n",
      " \n",
      "# RAISIN-2:\n",
      "/Users/arturo/Dropbox/Research/Articulos/12_RAISINs/RAISINs/RAISIN_2/Data/2017_03_30/Snoopy_zp27.5/Optical/Fit/\n",
      " \n",
      "# RAISIN-1 (SNANA, optical):\n",
      "/Users/arturo/Dropbox/Research/Articulos/12_RAISINs/RAISINs/RAISIN_1/Data/2017/DavidJones/SNANA_SALT2_fit/\n"
     ]
    }
   ],
   "source": [
    "# Defining the directories\n",
    "MainDir = '/Users/arturo/Dropbox/Research/Articulos/12_RAISINs/RAISINs/'\n",
    "\n",
    "Dir_raisin_1 = MainDir+'RAISIN_1/Data/2017/Snoopy/'+BandType+'/Fit/'\n",
    "Dir_raisin_2 = MainDir+'RAISIN_2/Data/2017_03_30/Snoopy_zp27.5/'+BandType+'/Fit/'\n",
    "Dir_raisin1_snana = MainDir+'RAISIN_1/Data/2017/DavidJones/SNANA_SALT2_fit/'\n",
    "\n",
    "DirSaveOutput= MainDir+'Plots/HubbleDiag/'\n",
    "\n",
    "# Low-z data\n",
    "DirLowzData = '/Users/arturo/Dropbox/Research/SoftwareResearch/Snoopy/AndyLCComp/\\\n",
    "all/Snoopy_FromMag/2_4RAISINs_old/' \n",
    "DirMuData_lowz = DirLowzData+Sample+'/'+BandType+'/'\n",
    "\n",
    "# Visualizing the directories\n",
    "print '# Directories of the distance-modulus files for the low-z sample:'\n",
    "print DirMuData_lowz\n",
    "print ' '\n",
    "print '# RAISIN-1:'\n",
    "print Dir_raisin_1\n",
    "print ' '\n",
    "print '# RAISIN-2:'\n",
    "print Dir_raisin_2\n",
    "print ' '\n",
    "print '# RAISIN-1 (SNANA, optical):'\n",
    "print Dir_raisin1_snana"
   ]
  },
  {
   "cell_type": "markdown",
   "metadata": {},
   "source": [
    "------"
   ]
  },
  {
   "cell_type": "markdown",
   "metadata": {},
   "source": [
    "# Automatic"
   ]
  },
  {
   "cell_type": "code",
   "execution_count": 3,
   "metadata": {
    "collapsed": true
   },
   "outputs": [],
   "source": [
    "import numpy as np\n",
    "from matplotlib import pyplot as plt\n",
    "from scipy.integrate import quad as intquad\n",
    "\n",
    "# import os\n",
    "# import glob # To read the name of the files in a given directory"
   ]
  },
  {
   "cell_type": "code",
   "execution_count": 4,
   "metadata": {
    "collapsed": true
   },
   "outputs": [],
   "source": [
    "# Defining some values\n",
    "if RAISIN1_Snana == True:\n",
    "    HoFix = 70  \n",
    "    OmMFix = 0.3 # Omega_Matter\n",
    "    OmLFix = 0.7 # Omega_Lambda\n",
    "    wFix = -1 # Dark energy EoS\n",
    "else:\n",
    "    HoFix = 72  \n",
    "    OmMFix = 0.28 # Omega_Matter\n",
    "    OmLFix = 0.72 # Omega_Lambda\n",
    "    wFix = -1 # Dark energy EoS\n",
    "    \n",
    "# Hubble constant (km/(s Mpc)):\n",
    "#    - 70 : SNANA-SALT2 default value\n",
    "#    - 72 : SNoopy  default value\n",
    "#    - 73.24: Adam Riess Cepheid values. This is what I use in the low-z paper."
   ]
  },
  {
   "cell_type": "markdown",
   "metadata": {},
   "source": [
    "### Defining directories"
   ]
  },
  {
   "cell_type": "code",
   "execution_count": 5,
   "metadata": {
    "collapsed": false
   },
   "outputs": [
    {
     "name": "stdout",
     "output_type": "stream",
     "text": [
      "Dir to save the outputs:\n",
      "/Users/arturo/Dropbox/Research/Articulos/12_RAISINs/RAISINs/Plots/HubbleDiag/\n",
      " \n"
     ]
    }
   ],
   "source": [
    "# Create directory\n",
    "\n",
    "#- Force the creation of the directory to save the outputs.\n",
    "#- \"If the subdirectory does not exist then create it\"\n",
    "import os # To use command line like instructions\n",
    "if not os.path.exists(DirSaveOutput): os.makedirs(DirSaveOutput)\n",
    "\n",
    "\n",
    "# Visualizing the directories\n",
    "print 'Dir to save the outputs:'\n",
    "print DirSaveOutput\n",
    "print ' '"
   ]
  },
  {
   "cell_type": "code",
   "execution_count": 6,
   "metadata": {
    "collapsed": false
   },
   "outputs": [],
   "source": [
    "# Read the distance modulus file\n",
    "\n",
    "\"\"\" \n",
    "Mu_lowz = np.genfromtxt(DirMuData_lowz+'DistanceModulus_.txt', \n",
    "                dtype=['S32', float,float,float,float,float,float,float,float,\n",
    "                              float,float,float,float,float,float,float,float])\n",
    "\n",
    "Mu_raisin1 = np.genfromtxt(Dir_raisin_1+'DistanceModulus_.txt', \n",
    "                dtype=['S32', float,float,float,float,float,float,float,float,\n",
    "                              float,float,float,float,float,float,float,float])\n",
    "\n",
    "Mu_raisin2 = np.genfromtxt(Dir_raisin_2+'DistanceModulus_.txt', \n",
    "                dtype=['S32', float,float,float,float,float,float,float,float,\n",
    "                              float,float,float,float,float,float,float,float])\n",
    "\n",
    "\"\"\"\n",
    "\n",
    "Mu_raisin1Snana = np.genfromtxt(Dir_raisin1_snana+'SALT2mu.fitres', skip_header=2,\n",
    "                dtype=['S4', 'S13', \n",
    "                      float, float, float, float, float, float, float, float, float, float,\n",
    "                      float, float, float, float, float, float, float, float, float, float,\n",
    "                      float, float, float, float, float, float, float, float, float])"
   ]
  },
  {
   "cell_type": "code",
   "execution_count": 7,
   "metadata": {
    "collapsed": false
   },
   "outputs": [
    {
     "data": {
      "text/plain": [
       "('SN:', 'PSc440005', 0.306, 0.001, 2.9024e-05, 1.32e-06, 0.1315, 0.0378, 0.177, 0.4222, 56219.309, 0.42, 21.9781, 0.0484, -2.66e-07, -4.08e-08, 0.00574, 24.4, 40.0, 0.975, 17.94, 13.01, 12.56, 15.0, 0.0, 41.0339, 0.1174, -0.159, -1.357, 0.391, 0.087)"
      ]
     },
     "execution_count": 7,
     "metadata": {},
     "output_type": "execute_result"
    }
   ],
   "source": [
    "Mu_raisin1Snana[0]"
   ]
  },
  {
   "cell_type": "code",
   "execution_count": 18,
   "metadata": {
    "collapsed": false
   },
   "outputs": [
    {
     "data": {
      "text/plain": [
       "array([ 0.306 ,  0.433 ,  0.25  ,  0.41  ,  0.331 ,  0.346 ,  0.43  ,\n",
       "        0.22  ,  0.334 ,  0.422 ,  0.34  ,  0.31  ,  0.325 ,  0.502 ,\n",
       "        0.308 ,  0.519 ,  0.283 ,  0.41  ,  0.275 ,  0.4776,  0.422 ,\n",
       "        0.44  ,  0.3   ])"
      ]
     },
     "execution_count": 18,
     "metadata": {},
     "output_type": "execute_result"
    }
   ],
   "source": [
    "Mu_raisin1Snana['f2']"
   ]
  },
  {
   "cell_type": "code",
   "execution_count": 9,
   "metadata": {
    "collapsed": false
   },
   "outputs": [
    {
     "data": {
      "text/plain": [
       "array([ 41.0339,  41.8202,  40.6124,  41.95  ,  41.2972,  41.3894,\n",
       "        42.8729,  40.297 ,  41.5641,  41.8326,  40.9941,  41.2138,\n",
       "        41.3479,  42.2261,  41.4003,  43.9014,  41.0734,  41.8817,\n",
       "        40.9983,  42.4342,  42.2605,  41.9479,  41.4119])"
      ]
     },
     "execution_count": 9,
     "metadata": {},
     "output_type": "execute_result"
    }
   ],
   "source": [
    "Mu_raisin1Snana['f25']"
   ]
  },
  {
   "cell_type": "code",
   "execution_count": 10,
   "metadata": {
    "collapsed": false
   },
   "outputs": [
    {
     "data": {
      "text/plain": [
       "array([ 0.1174,  0.1605,  0.0881,  0.2376,  0.1012,  0.2077,  0.5352,\n",
       "        0.0812,  0.1012,  0.1595,  0.1643,  0.1064,  0.1224,  0.3506,\n",
       "        0.0912,  0.4471,  0.084 ,  0.1728,  0.0907,  0.1761,  0.2639,\n",
       "        0.2642,  0.1917])"
      ]
     },
     "execution_count": 10,
     "metadata": {},
     "output_type": "execute_result"
    }
   ],
   "source": [
    "Mu_raisin1Snana['f26']"
   ]
  },
  {
   "cell_type": "code",
   "execution_count": null,
   "metadata": {
    "collapsed": true
   },
   "outputs": [],
   "source": []
  },
  {
   "cell_type": "code",
   "execution_count": null,
   "metadata": {
    "collapsed": true
   },
   "outputs": [],
   "source": []
  },
  {
   "cell_type": "markdown",
   "metadata": {},
   "source": [
    "## The theory"
   ]
  },
  {
   "cell_type": "code",
   "execution_count": 11,
   "metadata": {
    "collapsed": false
   },
   "outputs": [
    {
     "name": "stdout",
     "output_type": "stream",
     "text": [
      "Checking that the functions work well: 33.1753183809\n"
     ]
    }
   ],
   "source": [
    "# Inverse of the dimensionless Hubble parameter\n",
    "def InvEHubblePar(z, OmM, wde):\n",
    "    \"Dimensionless Hubble parameter\"\n",
    "    InvEHubbleParInt = 1.0/(np.sqrt(OmM*(1.0+z)**3.0 + (1.0-OmM)*(1.+z)**(3.*(1.+wde))))\n",
    "    return InvEHubbleParInt\n",
    "\n",
    "# ---- The luminosity distance ----\n",
    "def LumDistanceVec(z, OmM, wde, Ho):\n",
    "    \"Luminosity distance\"\n",
    "    LumDistanceVecInt = 0.\n",
    "    LumDistanceVecInt = cc*(1.+z)*intquad(InvEHubblePar, 0., z, args=(OmM, wde))[0]/Ho \n",
    "    return LumDistanceVecInt\n",
    "\n",
    "# ---- Distance modulus scalar ----\n",
    "def DistanceMu(z, OmM, wde, Ho):\n",
    "    \"Distance modulus\"     \n",
    "    DistanceMuInt = 5.0*np.log10(LumDistanceVec(z, OmM, wde, Ho)) + 25.0\n",
    "    return DistanceMuInt\n",
    "\n",
    "# ---- Distance modulus Vector ----\n",
    "def DistanceMuVector(z, OmM, wde, Ho):\n",
    "    \"Distance modulus\"     \n",
    "    DistanceMuInt= []\n",
    "    for i in range(len(z)):\n",
    "        DistanceMuInt += [5.0*np.log10(LumDistanceVec(z[i], OmM, wde, Ho)) + 25.0] \n",
    "    return DistanceMuInt\n",
    "\n",
    "#--------------------------------------------------\n",
    "\n",
    "ztest1 = 0.01\n",
    "\n",
    "print 'Checking that the functions work well:', DistanceMu(ztest1, OmMFix, wFix, HoFix)\n",
    "# Checking that the functions work well: 33.1144718537"
   ]
  },
  {
   "cell_type": "code",
   "execution_count": 12,
   "metadata": {
    "collapsed": false
   },
   "outputs": [
    {
     "data": {
      "text/plain": [
       "0.052125037354329877"
      ]
     },
     "execution_count": 12,
     "metadata": {},
     "output_type": "execute_result"
    }
   ],
   "source": [
    "# sigma^2_mu from the peculiar velocity uncertainty\n",
    "\n",
    "# This function is used to determine in the sections \"Intrinsic dispersion\" and \"Optical RMS\", to\n",
    "# determine the intrinsic dispersion.\n",
    "\n",
    "def sigma2_mu_vpec(zcmb, err_zcmb, sigma_vpec):\n",
    "    sigma2_mu_vpecInt = ((5/(zcmb*np.log(10)))*np.sqrt((sigma_vpec/cc)**2 + err_zcmb**2))**2\n",
    "    return sigma2_mu_vpecInt\n",
    "\n",
    "# Test\n",
    "sigma2_mu_vpec(0.0109942726, 0.0010420420, 150)\n",
    "# 0.052125037354329877"
   ]
  },
  {
   "cell_type": "code",
   "execution_count": null,
   "metadata": {
    "collapsed": true
   },
   "outputs": [],
   "source": []
  },
  {
   "cell_type": "markdown",
   "metadata": {},
   "source": [
    "-------"
   ]
  },
  {
   "cell_type": "markdown",
   "metadata": {},
   "source": [
    "# Residual Hubble diagram"
   ]
  },
  {
   "cell_type": "code",
   "execution_count": 18,
   "metadata": {
    "collapsed": false
   },
   "outputs": [],
   "source": [
    "# To plot the theoretical (spectroscopic) distance modulus\n",
    "nbins1= 101\n",
    "z1 = np.linspace(0.001, 0.7, nbins1)\n",
    "mu1 = DistanceMuVector(z1, OmMFix, wFix, HoFix)\n"
   ]
  },
  {
   "cell_type": "code",
   "execution_count": 19,
   "metadata": {
    "collapsed": false
   },
   "outputs": [
    {
     "ename": "TypeError",
     "evalue": "ufunc 'multiply' did not contain a loop with signature matching types dtype('S32') dtype('S32') dtype('S32')",
     "output_type": "error",
     "traceback": [
      "\u001b[0;31m---------------------------------------------------------------------------\u001b[0m",
      "\u001b[0;31mTypeError\u001b[0m                                 Traceback (most recent call last)",
      "\u001b[0;32m<ipython-input-19-7803a869426c>\u001b[0m in \u001b[0;36m<module>\u001b[0;34m()\u001b[0m\n\u001b[1;32m    134\u001b[0m         \u001b[0merr_mu\u001b[0m \u001b[0;34m=\u001b[0m \u001b[0mMu_raisin1Snana\u001b[0m\u001b[0;34m[\u001b[0m\u001b[0mi\u001b[0m\u001b[0;34m]\u001b[0m\u001b[0;34m[\u001b[0m\u001b[0;36m4\u001b[0m\u001b[0;34m]\u001b[0m\u001b[0;34m\u001b[0m\u001b[0m\n\u001b[1;32m    135\u001b[0m \u001b[0;34m\u001b[0m\u001b[0m\n\u001b[0;32m--> 136\u001b[0;31m         \u001b[0merror_mu_vpec\u001b[0m \u001b[0;34m=\u001b[0m \u001b[0mnp\u001b[0m\u001b[0;34m.\u001b[0m\u001b[0msqrt\u001b[0m\u001b[0;34m(\u001b[0m\u001b[0msigma2_mu_vpec\u001b[0m\u001b[0;34m(\u001b[0m\u001b[0mzcmb\u001b[0m\u001b[0;34m,\u001b[0m \u001b[0merr_zcmb\u001b[0m\u001b[0;34m,\u001b[0m \u001b[0msigma_vpec\u001b[0m\u001b[0;34m)\u001b[0m\u001b[0;34m)\u001b[0m\u001b[0;34m\u001b[0m\u001b[0m\n\u001b[0m\u001b[1;32m    137\u001b[0m \u001b[0;34m\u001b[0m\u001b[0m\n\u001b[1;32m    138\u001b[0m         \u001b[0;31m# Total distance-modulus uncertainty\u001b[0m\u001b[0;34m\u001b[0m\u001b[0;34m\u001b[0m\u001b[0m\n",
      "\u001b[0;32m<ipython-input-17-d96dccf08724>\u001b[0m in \u001b[0;36msigma2_mu_vpec\u001b[0;34m(zcmb, err_zcmb, sigma_vpec)\u001b[0m\n\u001b[1;32m      5\u001b[0m \u001b[0;34m\u001b[0m\u001b[0m\n\u001b[1;32m      6\u001b[0m \u001b[0;32mdef\u001b[0m \u001b[0msigma2_mu_vpec\u001b[0m\u001b[0;34m(\u001b[0m\u001b[0mzcmb\u001b[0m\u001b[0;34m,\u001b[0m \u001b[0merr_zcmb\u001b[0m\u001b[0;34m,\u001b[0m \u001b[0msigma_vpec\u001b[0m\u001b[0;34m)\u001b[0m\u001b[0;34m:\u001b[0m\u001b[0;34m\u001b[0m\u001b[0m\n\u001b[0;32m----> 7\u001b[0;31m     \u001b[0msigma2_mu_vpecInt\u001b[0m \u001b[0;34m=\u001b[0m \u001b[0;34m(\u001b[0m\u001b[0;34m(\u001b[0m\u001b[0;36m5\u001b[0m\u001b[0;34m/\u001b[0m\u001b[0;34m(\u001b[0m\u001b[0mzcmb\u001b[0m\u001b[0;34m*\u001b[0m\u001b[0mnp\u001b[0m\u001b[0;34m.\u001b[0m\u001b[0mlog\u001b[0m\u001b[0;34m(\u001b[0m\u001b[0;36m10\u001b[0m\u001b[0;34m)\u001b[0m\u001b[0;34m)\u001b[0m\u001b[0;34m)\u001b[0m\u001b[0;34m*\u001b[0m\u001b[0mnp\u001b[0m\u001b[0;34m.\u001b[0m\u001b[0msqrt\u001b[0m\u001b[0;34m(\u001b[0m\u001b[0;34m(\u001b[0m\u001b[0msigma_vpec\u001b[0m\u001b[0;34m/\u001b[0m\u001b[0mcc\u001b[0m\u001b[0;34m)\u001b[0m\u001b[0;34m**\u001b[0m\u001b[0;36m2\u001b[0m \u001b[0;34m+\u001b[0m \u001b[0merr_zcmb\u001b[0m\u001b[0;34m**\u001b[0m\u001b[0;36m2\u001b[0m\u001b[0;34m)\u001b[0m\u001b[0;34m)\u001b[0m\u001b[0;34m**\u001b[0m\u001b[0;36m2\u001b[0m\u001b[0;34m\u001b[0m\u001b[0m\n\u001b[0m\u001b[1;32m      8\u001b[0m     \u001b[0;32mreturn\u001b[0m \u001b[0msigma2_mu_vpecInt\u001b[0m\u001b[0;34m\u001b[0m\u001b[0m\n\u001b[1;32m      9\u001b[0m \u001b[0;34m\u001b[0m\u001b[0m\n",
      "\u001b[0;31mTypeError\u001b[0m: ufunc 'multiply' did not contain a loop with signature matching types dtype('S32') dtype('S32') dtype('S32')"
     ]
    }
   ],
   "source": [
    "# Compute the residual\n",
    "\n",
    "muResid_total = []\n",
    "\n",
    "rms_total=0; count_total = 0\n",
    "\n",
    "#------ Low-z sample ------\n",
    "\n",
    "count_lowz = 0; rms_lowz = 0\n",
    "    \n",
    "if LowzSample:\n",
    "    zcmb_lowz_list = []\n",
    "    muResid_lowz = []\n",
    "    mu_error_lowz = []\n",
    "\n",
    "    zcmb = 0; err_zcmb=0; mu = 0; err_mu_snoopy=0; \n",
    "    dm15=0; EBVhost=0; EBV_mw=0; error_mu_vpec=0; totalMuError=0;  \n",
    "\n",
    "    for i in range(len(Mu_lowz)):  \n",
    "        zcmb = Mu_lowz[i][3]\n",
    "        err_zcmb = Mu_lowz[i][4]\n",
    "        mu   = Mu_lowz[i][5]\n",
    "        err_mu_snoopy = Mu_lowz[i][7]\n",
    "        dm15 = Mu_lowz[i][9]\n",
    "        EBVhost = Mu_lowz[i][11]\n",
    "        EBV_mw = Mu_lowz[i][13]\n",
    "\n",
    "        error_mu_vpec = np.sqrt(sigma2_mu_vpec(zcmb, err_zcmb, sigma_vpec))\n",
    "\n",
    "        # Total distance-modulus uncertainty\n",
    "        totalMuError = np.sqrt(err_mu_snoopy**2 + error_mu_vpec**2)\n",
    "\n",
    "        # Cutoffs:\n",
    "        if (zcmb > zcmbMin and zcmb < zcmbMax and \n",
    "           dm15>dm15Min and dm15 < dm15Max and\n",
    "           EBVhost>(-EBVhostMax) and EBVhost < EBVhostMax and EBV_mw < EBV_mwMax):\n",
    "            zcmb_lowz_list += [zcmb]\n",
    "            muResid_lowz += [mu - DistanceMu(zcmb, OmMFix, wFix, HoFix)]\n",
    "            muResid_total += [mu - DistanceMu(zcmb, OmMFix, wFix, HoFix)]\n",
    "            mu_error_lowz += [totalMuError]\n",
    "            count_lowz = count_lowz + 1\n",
    "            count_total = count_total + 1\n",
    "\n",
    "    # Compute the RMS\n",
    "    rms_lowz = np.sqrt(np.mean(np.square(muResid_lowz)))\n",
    "      \n",
    "\n",
    "#------ RAISIN-1 ------\n",
    " \n",
    "count_raisin1 = 0; rms_raisin1 = 0\n",
    "\n",
    "if RAISIN_1_Sample:\n",
    "    zcmb_raisin1_list = []\n",
    "    muResid_raisin1 = []\n",
    "    mu_error_raisin1 = []\n",
    "    name_raisin1 = []\n",
    "\n",
    "    zcmb = 0; err_zcmb=0; mu = 0; err_mu_snoopy=0; \n",
    "    dm15=0; EBVhost=0; EBV_mw=0; error_mu_vpec=0; totalMuError=0; \n",
    "\n",
    "    for i in range(len(Mu_raisin1)):      \n",
    "        zcmb = Mu_raisin1[i][3]\n",
    "        err_zcmb = Mu_raisin1[i][4]\n",
    "        mu   = Mu_raisin1[i][5]\n",
    "        err_mu_snoopy = Mu_raisin1[i][7]\n",
    "\n",
    "        error_mu_vpec = np.sqrt(sigma2_mu_vpec(zcmb, err_zcmb, sigma_vpec))\n",
    "\n",
    "        # Total distance-modulus uncertainty\n",
    "        totalMuError = np.sqrt(err_mu_snoopy**2 + error_mu_vpec**2)\n",
    "\n",
    "        zcmb_raisin1_list += [zcmb]\n",
    "        muResid_raisin1 += [mu - DistanceMu(zcmb, OmMFix, wFix, HoFix)]\n",
    "        muResid_total += [mu - DistanceMu(zcmb, OmMFix, wFix, HoFix)]\n",
    "        mu_error_raisin1 += [totalMuError]\n",
    "        count_raisin1 = count_raisin1 + 1\n",
    "        count_total = count_total + 1\n",
    "\n",
    "    # Compute the RMS\n",
    "    rms_raisin1 = np.sqrt(np.mean(np.square(muResid_raisin1)))\n",
    "\n",
    "        \n",
    "#------ RAISIN-2 ------\n",
    "\n",
    "count_raisin2 = 0; rms_raisin2 = 0\n",
    "\n",
    "if RAISIN_2_Sample:\n",
    "\n",
    "    zcmb_raisin2_list = []\n",
    "    muResid_raisin2 = []\n",
    "    mu_error_raisin2 = []\n",
    "\n",
    "    zcmb = 0; err_zcmb=0; mu = 0; err_mu_snoopy=0; \n",
    "    dm15=0; EBVhost=0; EBV_mw=0; error_mu_vpec=0; totalMuError=0; \n",
    "\n",
    "    for i in range(len(Mu_raisin2)):      \n",
    "        zcmb = Mu_raisin2[i][3]\n",
    "        err_zcmb = Mu_raisin2[i][4]\n",
    "        mu   = Mu_raisin2[i][5]\n",
    "        err_mu_snoopy = Mu_raisin2[i][7]\n",
    "\n",
    "        error_mu_vpec = np.sqrt(sigma2_mu_vpec(zcmb, err_zcmb, sigma_vpec))\n",
    "\n",
    "        # Total distance-modulus uncertainty\n",
    "        totalMuError = np.sqrt(err_mu_snoopy**2 + error_mu_vpec**2)\n",
    "\n",
    "        zcmb_raisin2_list += [zcmb]\n",
    "        muResid_raisin2 += [mu - DistanceMu(zcmb, OmMFix, wFix, HoFix)]\n",
    "        muResid_total += [mu - DistanceMu(zcmb, OmMFix, wFix, HoFix)]\n",
    "        mu_error_raisin2 += [totalMuError]\n",
    "        count_raisin2 = count_raisin2 + 1\n",
    "        count_total = count_total + 1\n",
    "\n",
    "    # Compute the RMS\n",
    "    rms_raisin2 = np.sqrt(np.mean(np.square(muResid_raisin2)))\n",
    "\n",
    "#------------RAISIN -1 SNANA -----------------\n",
    "\n",
    "count_raisin1Snana = 0; rms_raisin1Snana = 0\n",
    "\n",
    "if RAISIN1_Snana:\n",
    "\n",
    "    zcmb_raisin1Snana_list = []\n",
    "    muResid_raisin1Snana = []\n",
    "    mu_error_raisin1Snana = []\n",
    "\n",
    "    zcmb = 0; err_zcmb=0; mu = 0; err_mu=0; \n",
    "    dm15=0; EBVhost=0; EBV_mw=0; error_mu_vpec=0; totalMuError=0;     \n",
    "    \n",
    "    for i in range(len(Mu_raisin1Snana)):      \n",
    "        zcmb = Mu_raisin1Snana[i][1]\n",
    "        err_zcmb = Mu_raisin1Snana[i][2]\n",
    "        mu   = Mu_raisin1Snana[i][3]\n",
    "        err_mu = Mu_raisin1Snana[i][4]\n",
    "\n",
    "        error_mu_vpec = np.sqrt(sigma2_mu_vpec(zcmb, err_zcmb, sigma_vpec))\n",
    "\n",
    "        # Total distance-modulus uncertainty\n",
    "        totalMuError = np.sqrt(err_mu**2 + error_mu_vpec**2)\n",
    "\n",
    "        zcmb_raisin1Snana_list += [zcmb]\n",
    "        muResid_raisin1Snana += [mu - DistanceMu(zcmb, OmMFix, wFix, HoFix)]\n",
    "        muResid_total += [mu - DistanceMu(zcmb, OmMFix, wFix, HoFix)]\n",
    "        mu_error_raisin1Snana += [totalMuError]\n",
    "        count_raisin1Snana = count_raisin1Snana + 1\n",
    "        count_total = count_total + 1\n",
    "\n",
    "    # Compute the RMS\n",
    "    rms_raisin1Snana = np.sqrt(np.mean(np.square(muResid_raisin1Snana)))\n",
    "\n",
    "#------------------------  \n",
    "\n",
    "# Compute total RMS\n",
    "rms_total = np.sqrt(np.mean(np.square(muResid_total)))\n"
   ]
  },
  {
   "cell_type": "markdown",
   "metadata": {},
   "source": [
    "### Plotting"
   ]
  },
  {
   "cell_type": "code",
   "execution_count": null,
   "metadata": {
    "collapsed": false
   },
   "outputs": [],
   "source": [
    "# Defining the x-axis interval to plot\n",
    "\n",
    "if LowzSample and RAISIN_2_Sample: x_interval = (0, 0.7)\n",
    "elif LowzSample and RAISIN_1_Sample ==False and RAISIN_2_Sample==False: x_interval = (0, 0.065)\n",
    "elif LowzSample and RAISIN_1_Sample: x_interval = (0, 0.55)\n",
    "elif LowzSample==False and RAISIN_1_Sample and RAISIN_2_Sample: x_interval = (0.2, 0.7)\n",
    "elif LowzSample==False and RAISIN_1_Sample ==False and RAISIN_2_Sample: x_interval = (0.35, 0.7) \n",
    "elif LowzSample==False and RAISIN_1_Sample  and RAISIN_2_Sample==False: x_interval = (0.2, 0.55)  \n"
   ]
  },
  {
   "cell_type": "code",
   "execution_count": null,
   "metadata": {
    "collapsed": false
   },
   "outputs": [],
   "source": [
    "# Initializing labels\n",
    "label_0=''; label_1=''; label_2='';\n",
    "\n",
    "labelOutlierLim = 0.35 # \n",
    "labelOutlierLim_lowZ = 4 # \n",
    "fontSNname = 10\n",
    "\n",
    "fig = plt.figure()\n",
    "\n",
    "# Plotting theory: Flat Universe\n",
    "mu0 = np.zeros(len(z1))\n",
    "plt.plot(z1, mu0, color='black', lw=2, alpha=0.5)\n",
    "\n",
    "#---------------------------\n",
    "#  Plot the low-z sample\n",
    "\n",
    "if LowzSample:\n",
    "    plt.errorbar(zcmb_lowz_list, muResid_lowz, yerr=mu_error_lowz,\n",
    "                fmt='.', color='green',  ms=10, elinewidth=1.5, capthick=1.5)\n",
    "    # Label the outliers\n",
    "    for i in range(len(zcmb_lowz_list)):\n",
    "        if abs(muResid_lowz[i]) > labelOutlierLim_lowZ and PrintNameOutliers:\n",
    "            plt.text(zcmb_lowz_list[i]+0.002, muResid_lowz[i]-0.03, Mu_lowz[i][0], \n",
    "                     fontsize=fontSNname, color='k')\n",
    "\n",
    "#---------------------------\n",
    "#  Plot the RAISIN samples\n",
    "\n",
    "if count_raisin1 >0:\n",
    "    plt.errorbar(zcmb_raisin1_list, muResid_raisin1, yerr=mu_error_raisin1,\n",
    "                fmt='.', color='red',  ms=10, elinewidth=1.5, capthick=1.5)\n",
    "    \n",
    "    # Label the outliers\n",
    "    for i in range(len(zcmb_raisin1_list)):\n",
    "        if abs(muResid_raisin1[i]) > labelOutlierLim and PrintNameOutliers:\n",
    "            plt.text(zcmb_raisin1_list[i]+0.002, muResid_raisin1[i]-0.03, Mu_raisin1[i][0], \n",
    "                     fontsize=fontSNname, color='k')\n",
    "\n",
    "            \n",
    "if count_raisin2 >0:\n",
    "    plt.errorbar(zcmb_raisin2_list, muResid_raisin2, yerr=mu_error_raisin2,\n",
    "                fmt='.', color='blue',  ms=10, elinewidth=1.5, capthick=1.5)\n",
    "    \n",
    "    # Label the outliers\n",
    "    for i in range(len(zcmb_raisin2_list)):\n",
    "        if abs(muResid_raisin2[i]) > labelOutlierLim and PrintNameOutliers:\n",
    "            plt.text(zcmb_raisin2_list[i]+0.002, muResid_raisin2[i]-0.03, Mu_raisin2[i][0], \n",
    "                     fontsize=fontSNname, color='k')   \n",
    "    \n",
    "#---------------------------\n",
    "#  Plot the RAISIN-1 fit from SNANA\n",
    "\n",
    "if count_raisin1Snana >0:\n",
    "    plt.errorbar(zcmb_raisin1Snana_list, muResid_raisin1Snana, yerr=mu_error_raisin1Snana,\n",
    "                fmt='.', color='lime',  ms=10, elinewidth=1.5, capthick=1.5)\n",
    "    \n",
    "    # Label the outliers\n",
    "    for i in range(len(zcmb_raisin1Snana_list)):\n",
    "        if abs(muResid_raisin1Snana[i]) > labelOutlierLim and PrintNameOutliers:\n",
    "            plt.text(zcmb_raisin1Snana_list[i]+0.002, muResid_raisin1Snana[i]-0.03, Mu_raisin1Snana[i][0], \n",
    "                     fontsize=fontSNname, color='k')\n",
    "\n",
    "#---------------------------\n",
    "# Print some texts\n",
    "\n",
    "\n",
    "# For RAISINs \n",
    "if LowzSample and RAISIN_2_Sample:\n",
    "    plt.text(0.05, y_interval[1]-0.2, '%r low-z, %r RAISIN1, %r RAISIN2'%(count_lowz, count_raisin1, count_raisin2))\n",
    "    plt.text(0.05, y_interval[0]+0.2, r'($\\Omega_m=$%r, $\\omega=$%r, $\\sigma_{v_{\\rm pec}}=$%r km/s)'%(OmMFix, \n",
    "                         wFix, sigma_vpec))\n",
    "    if PrintRMS: plt.text(0.05, y_interval[1]-0.35, 'RMS = %r'%round(rms_total,3))\n",
    "\n",
    "# For low-z sample only\n",
    "elif LowzSample and RAISIN_1_Sample ==False and RAISIN_2_Sample==False:\n",
    "    plt.text(0.03, y_interval[1]-0.2, '%r low-z'%(count_lowz))\n",
    "    plt.text(0.03, y_interval[0]+0.2, r'($\\Omega_m=$%r, $\\omega=$%r, $\\sigma_{v_{\\rm pec}}=$%r km/s)'%(OmMFix, \n",
    "                         wFix, sigma_vpec))\n",
    "    if PrintRMS: plt.text(0.05, y_interval[1]-0.35, 'RMS = %r'%round(rms_total,3))\n",
    "    \n",
    "\n",
    "plt.grid()\n",
    "\n",
    "plt.xlim(x_interval)\n",
    "plt.ylim(y_interval)\n",
    "\n",
    "plt.xlabel('Redshift')\n",
    "plt.ylabel(r'$\\mu - \\mu_{\\Lambda{\\rm CDM}}$', fontsize=16)\n",
    "\n",
    "# Title:\n",
    "if BandType == 'Optical': plt.title('Hubble residual. Optical only')\n",
    "elif BandType == 'OpticalNIR': plt.title('Hubble residual.  Optical+NIR')\n",
    "\n",
    "if count_lowz >0: label_0 = 'lowz'\n",
    "if count_raisin1 >0: label_1 = 'RAISIN1'\n",
    "if count_raisin2 >0: label_2 = 'RAISIN2'\n",
    "    \n",
    "plt.savefig(DirSaveOutput+'HubbleDiag_%s_%s_%s_Om%r_w%r_%s_.png'%(label_0,\n",
    "                                    label_1,label_2,OmMFix,wFix,BandType), dpi=180)\n",
    "plt.close()"
   ]
  },
  {
   "cell_type": "code",
   "execution_count": null,
   "metadata": {
    "collapsed": true
   },
   "outputs": [],
   "source": []
  },
  {
   "cell_type": "code",
   "execution_count": null,
   "metadata": {
    "collapsed": true
   },
   "outputs": [],
   "source": []
  },
  {
   "cell_type": "code",
   "execution_count": null,
   "metadata": {
    "collapsed": true
   },
   "outputs": [],
   "source": []
  },
  {
   "cell_type": "markdown",
   "metadata": {
    "collapsed": true
   },
   "source": [
    "----"
   ]
  },
  {
   "cell_type": "markdown",
   "metadata": {},
   "source": [
    "# Hubble diagram for SNANA-SALT2 fit"
   ]
  },
  {
   "cell_type": "code",
   "execution_count": 55,
   "metadata": {
    "collapsed": false
   },
   "outputs": [],
   "source": [
    "zcmbUpperLim = 0.6 \n",
    "\n",
    "# For the Hubble diagram:\n",
    "xlimPlots = 0.0015, zcmbUpperLim+0.003 \n",
    "if zcmbUpperLim == 0.6: ylimPlots = 29.8, 38\n",
    "else: ylimPlots = 29.8, 38.1 \n",
    "\n",
    "# For the Hubble residual\n",
    "ylimPlots_residual = -1, 1"
   ]
  },
  {
   "cell_type": "code",
   "execution_count": 56,
   "metadata": {
    "collapsed": true
   },
   "outputs": [],
   "source": [
    "OmMFix = 0.27;  wFix = -1"
   ]
  },
  {
   "cell_type": "code",
   "execution_count": 57,
   "metadata": {
    "collapsed": true
   },
   "outputs": [],
   "source": [
    "zcmb_np = Mu_raisin1Snana['f2']\n",
    "mu_np   = Mu_raisin1Snana['f25']\n",
    "res_mu_np = Mu_raisin1Snana['f25'] - DistanceMuVector(zcmb_np, OmMFix, wFix, HoFix)\n",
    "err_mu_np = Mu_raisin1Snana['f26']"
   ]
  },
  {
   "cell_type": "code",
   "execution_count": null,
   "metadata": {
    "collapsed": true
   },
   "outputs": [],
   "source": []
  },
  {
   "cell_type": "code",
   "execution_count": 58,
   "metadata": {
    "collapsed": false
   },
   "outputs": [],
   "source": [
    "#    Theoretical values\n",
    "\n",
    "# Array plot the -theoretical- (spectroscopic) distance modulus \n",
    "nbins1= 51\n",
    "z1 = np.linspace(xlimPlots[0], xlimPlots[1], nbins1)\n",
    "mu0 = DistanceMuVector(z1, OmMFix, wFix, HoFix)"
   ]
  },
  {
   "cell_type": "code",
   "execution_count": 59,
   "metadata": {
    "collapsed": true
   },
   "outputs": [],
   "source": [
    "#    Theoretical values\n",
    "\n",
    "# Array plot the -theoretical- (spectroscopic) distance modulus \n",
    "nbins1= 51\n",
    "z1 = np.linspace(xlimPlots[0], xlimPlots[1], nbins1)\n",
    "mu0 = DistanceMuVector(z1, OmMFix, wFix, HoFix)\n",
    "\n",
    "#----------------------------------------\n",
    "\n",
    "plt.plot(z1, mu0)\n",
    "plt.errorbar(zcmb_np, mu_np, yerr=err_mu_np, fmt='.')\n",
    "plt.grid(True)\n",
    "plt.savefig(DirSaveOutput+'Hubble_SALT2_.png')\n",
    "plt.close()"
   ]
  },
  {
   "cell_type": "code",
   "execution_count": null,
   "metadata": {
    "collapsed": true
   },
   "outputs": [],
   "source": []
  },
  {
   "cell_type": "markdown",
   "metadata": {
    "collapsed": true
   },
   "source": [
    "# Hubble residual for SNANA-SALT2 fit"
   ]
  },
  {
   "cell_type": "code",
   "execution_count": 60,
   "metadata": {
    "collapsed": true
   },
   "outputs": [],
   "source": [
    "#    Theoretical values\n",
    "\n",
    "# Array plot the -theoretical- (spectroscopic) distance modulus \n",
    "nbins1= 51\n",
    "z1 = np.linspace(xlimPlots[0], xlimPlots[1], nbins1)\n",
    "mu1 = np.zeros(len(z1))\n",
    "\n",
    "#----------------------------------------\n",
    "\n",
    "plt.plot(z1, mu1)\n",
    "plt.errorbar(zcmb_np, res_mu_np, yerr=err_mu_np, fmt='.')\n",
    "plt.grid(True)\n",
    "plt.savefig(DirSaveOutput+'HubbleResidual_SALT2_.png')\n",
    "plt.close()"
   ]
  },
  {
   "cell_type": "code",
   "execution_count": null,
   "metadata": {
    "collapsed": true
   },
   "outputs": [],
   "source": []
  },
  {
   "cell_type": "code",
   "execution_count": null,
   "metadata": {
    "collapsed": true
   },
   "outputs": [],
   "source": []
  },
  {
   "cell_type": "code",
   "execution_count": null,
   "metadata": {
    "collapsed": true
   },
   "outputs": [],
   "source": []
  },
  {
   "cell_type": "code",
   "execution_count": null,
   "metadata": {
    "collapsed": true
   },
   "outputs": [],
   "source": []
  }
 ],
 "metadata": {
  "kernelspec": {
   "display_name": "Python 2",
   "language": "python",
   "name": "python2"
  },
  "language_info": {
   "codemirror_mode": {
    "name": "ipython",
    "version": 2
   },
   "file_extension": ".py",
   "mimetype": "text/x-python",
   "name": "python",
   "nbconvert_exporter": "python",
   "pygments_lexer": "ipython2",
   "version": "2.7.12"
  }
 },
 "nbformat": 4,
 "nbformat_minor": 0
}
