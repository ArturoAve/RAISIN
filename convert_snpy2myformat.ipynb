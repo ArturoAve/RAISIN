{
 "cells": [
  {
   "cell_type": "markdown",
   "metadata": {},
   "source": [
    "# Convert .SNPY files to my format\n",
    "\n",
    "### Create text files of:\n",
    "#### - (phase, absolute mag, error mag) and\n",
    "#### - (phase, apparent mag, error mag)\n",
    "\n",
    "- Based from 06_Canopy_AbsAppMag_Phase_ForEachBand_Main.ipynb\n",
    "- Useful to convert SNooPy LC files to my format for high redshift.\n",
    "- Originally written in python 2.7, this script runs also in python 3.7.3 Anaconda.\n",
    "\n",
    "--------------------------------------------------------60\n",
    "\n",
    "    IDEAS\n",
    "    \n",
    "- input: .snpy file\n",
    "- output: text file with my format.\n",
    "- arguments:\n",
    "    - observer-frame band to extract the information.\n",
    "    "
   ]
  },
  {
   "cell_type": "code",
   "execution_count": 1,
   "metadata": {},
   "outputs": [],
   "source": [
    "from snpy import *\n",
    "# from numpy import * \n",
    "import numpy as np\n",
    "from matplotlib import pyplot as plt\n",
    "import datetime # Get the current date and time\n",
    "import json\n",
    "import glob # To read file names in a directory\n",
    "# To read arguments in command line\n",
    "# Used in the \".py\" version of this notebook.\n",
    "import sys \n",
    "\n",
    "# %pylab qt \n",
    "# For CANOPY python: to show the plots in a separated Windows instead of inline.\n",
    "# If used, then I don't have to put the instruction \"plt.close()\" at\n",
    "# the end of the plot because it will show the figure and instantaneously \n",
    "# close the windows too.\n",
    "\n",
    "#--------------------------------------------------------60\n",
    "code_created_by = 'Arturo_Avelino'\n",
    "# On date: 2019.02.28 (yyyy.mm.dd)\n",
    "code_name = 'Create_AbsAppMag_phase_files_RAISIN.ipynb'\n",
    "code_version = '0.0.8'\n",
    "code_last_update = '2019.08.28'\n",
    "#--------------------------------------------------------60"
   ]
  },
  {
   "cell_type": "code",
   "execution_count": null,
   "metadata": {},
   "outputs": [],
   "source": [
    "##############################################################################80"
   ]
  },
  {
   "cell_type": "markdown",
   "metadata": {},
   "source": [
    "# User"
   ]
  },
  {
   "cell_type": "code",
   "execution_count": 2,
   "metadata": {},
   "outputs": [
    {
     "name": "stdout",
     "output_type": "stream",
     "text": [
      "# 17 SNe in this file.\n",
      "[(b'PScA470110_Fit.snpy',) (b'PScA470240_Fit.snpy',)\n",
      " (b'PScB480794_Fit.snpy',)]\n"
     ]
    }
   ],
   "source": [
    "# Directory where the \".snpy\" files are located:\n",
    "\n",
    "list_file='list_SNe_snpy.txt'\n",
    "\n",
    "dir_data = '/Users/arturo/Documents/Research/Workplace/raisin/raisin1/\\\n",
    "2019_08_05__v0_1_1/fits/EBV/Mangle/Optical_NIR_g_tbmaxFix/'\n",
    "\n",
    "# Change where the .snpy files are located:\n",
    "os.chdir(dir_data)\n",
    "\n",
    "#--------------------------------------------------------60\n",
    "# Read the list with the names of the .snpy files\n",
    "\n",
    "list_sne = np.genfromtxt(dir_data+list_file, dtype=['S22'])\n",
    "\n",
    "print('# %s SNe in this file.'%len(list_sne))\n",
    "print(list_sne[:3])\n",
    "\n",
    "#--------------------------------------------------------60\n",
    "# Directory to save the output\n",
    "\n",
    "dir_save_output = '/Users/arturo/Documents/Research/Workplace/raisin/raisin1/\\\n",
    "2019_08_05__v0_1_1/fits/EBV/Mangle/Optical_NIR_g_tbmaxFix/MyFormat/'\n",
    "\n",
    "#- If the subdirectory does not exist then create it\n",
    "if not os.path.exists(dir_save_output): os.makedirs(dir_save_output)"
   ]
  },
  {
   "cell_type": "markdown",
   "metadata": {},
   "source": [
    "### Settings"
   ]
  },
  {
   "cell_type": "code",
   "execution_count": 4,
   "metadata": {
    "collapsed": false,
    "jupyter": {
     "outputs_hidden": false
    }
   },
   "outputs": [],
   "source": [
    "# Settings\n",
    "\n",
    "band = 'f160w'  # Observer-frame band\n",
    "\n",
    "err_zhelio = 0.005\n",
    "err_zcmb = err_zhelio\n",
    "err_kcorr = 0.001\n",
    "\n",
    "#-------------------------------\n",
    "\n",
    "# The value HoFix = 73.24 is what we use in the low-z paper.\n",
    "HoFix = 73.24 # Hubble constant (km/(s Mpc))\n",
    "# HoFix = 72.78  # TEMPORAL: value reported by Dhawan et al 2017.\n",
    "\n",
    "OmMFix = 0.28\n",
    "OmLFix = 0.72\n",
    "wFix = -1.0\n",
    "\n",
    "cc = 299792.458  # Speed of light (km/s)\n",
    "\n",
    "# Print some marks to debug the code?\n",
    "debug = False\n",
    "\n",
    "#--------------------------------------------------------60\n",
    "\n",
    "#-- Consider the light curves with -at least- the following number of data:\n",
    "MinNumberOfDataInLCs=1\n",
    "\n",
    "#-- Consider the LC that contains data in the following range -at least- only:\n",
    "# phase_min = 3\n",
    "# phase_max = 10\n",
    "\n",
    "phase_min = 50\n",
    "phase_max = -15\n"
   ]
  },
  {
   "cell_type": "code",
   "execution_count": null,
   "metadata": {},
   "outputs": [],
   "source": [
    "##############################################################################80"
   ]
  },
  {
   "cell_type": "markdown",
   "metadata": {},
   "source": [
    "--------"
   ]
  },
  {
   "cell_type": "markdown",
   "metadata": {},
   "source": [
    "# Automatic"
   ]
  },
  {
   "cell_type": "markdown",
   "metadata": {},
   "source": [
    "### Uploading the SED of Hsiao to compute the extinction"
   ]
  },
  {
   "cell_type": "code",
   "execution_count": 5,
   "metadata": {
    "collapsed": false,
    "jupyter": {
     "outputs_hidden": false
    }
   },
   "outputs": [],
   "source": [
    "Ia_w, Ia_f = kcorr.get_SED(0,'H3')"
   ]
  },
  {
   "cell_type": "markdown",
   "metadata": {},
   "source": [
    "### Cosmology theory for $\\mu(z)$"
   ]
  },
  {
   "cell_type": "code",
   "execution_count": 6,
   "metadata": {
    "collapsed": false,
    "jupyter": {
     "outputs_hidden": false
    }
   },
   "outputs": [
    {
     "name": "stdout",
     "output_type": "stream",
     "text": [
      "38.22020314489771\n"
     ]
    }
   ],
   "source": [
    "from scipy.integrate import quad as intquad\n",
    "\n",
    "# Inverse of the dimensionless Hubble parameter\n",
    "def InvEHubblePar(z, OmM, wde):\n",
    "    \"Dimensionless Hubble parameter\"\n",
    "    InvEHubbleParInt = 1.0/(np.sqrt(OmM*(1.0+z)**3.0 + (1.0-OmM)*(1.+z)**(3.*(1.+wde))))\n",
    "    return InvEHubbleParInt\n",
    "\n",
    "# ---- The luminosity distance ----\n",
    "def LumDistance(z, OmM, wde, Ho):\n",
    "    \"Luminosity distance\"\n",
    "    LumDistanceVecInt = 0.\n",
    "    LumDistanceVecInt = cc*(1.+z)*intquad(InvEHubblePar, 0., z, args=(OmM, wde))[0]/Ho \n",
    "    return LumDistanceVecInt\n",
    "\n",
    "\n",
    "# ---- Distance modulus ----\n",
    "def DistanceMu(z, OmM, wde, Ho):\n",
    "    \"Distance modulus\"     \n",
    "    DistanceMuInt = 5.0*np.log10(LumDistance(z, OmM, wde, Ho)) + 25.0\n",
    "    return DistanceMuInt\n",
    "\n",
    "#--------------------------------------------------\n",
    "\n",
    "ztest1 = 0.1\n",
    "print(DistanceMu(ztest1, OmMFix, wFix, HoFix))\n",
    "# 38.2572823409\n",
    "# 38.22020314489771"
   ]
  },
  {
   "cell_type": "markdown",
   "metadata": {},
   "source": [
    "---"
   ]
  },
  {
   "cell_type": "markdown",
   "metadata": {},
   "source": [
    "### Definition of the main function"
   ]
  },
  {
   "cell_type": "code",
   "execution_count": 7,
   "metadata": {},
   "outputs": [],
   "source": [
    "def snpy2myformat(snname, band,\n",
    "        zcmb = -1, err_zcmb = 0.005,\n",
    "        err_zhelio = 0.005, err_kcorr = 0.001,\n",
    "        HoFix = 73.24, OmMFix = 0.28, OmLFix = 0.72, wFix = -1.0,\n",
    "        MinNumberOfDataInLCs = 1, dir_save_output = dir_save_output,\n",
    "        debug = False):\n",
    "    \n",
    "    \"\"\"\n",
    "    Function to create a text file with the format required to use it\n",
    "    as input in my script to fit the light curve (LC) data with my template and\n",
    "    Gaussian-process (GP) methods.\n",
    "    \n",
    "    The input file is the .snpy file generated by SNooPy when fitting the\n",
    "    LC data.\n",
    "    \"\"\"\n",
    "\n",
    "    cc = 299792.458  # Speed of light (km/s)\n",
    "\n",
    "    # Upload the LC data\n",
    "    s = get_sn(snname)\n",
    "\n",
    "    # Define zcmb:\n",
    "    if zcmb != -1: zcmb_int = zcmb\n",
    "    else: zcmb_int = s.zcmb\n",
    "\n",
    "    # s.summary()\n",
    "\n",
    "    # Check if the LC file has data in band I'm interested, and if\n",
    "    # there are enough data in that band.\n",
    "    if (band in s.data.keys() and\n",
    "        len(s.data[band].MJD) >= MinNumberOfDataInLCs):\n",
    "\n",
    "        #------- The extinction A_lambda --------\n",
    "        R_F = fset[band].R(wave=Ia_w, flux=Ia_f, Rv=3.1)\n",
    "        Alamb = R_F * s.EBVgal\n",
    "        e_Alamb = R_F * s.e_EBVgal\n",
    "\n",
    "        #------- LCDM distance modulus\n",
    "        mu_LCDM = DistanceMu(zcmb_int, OmMFix, wFix, HoFix)\n",
    "\n",
    "        #--------------------------------------------------------\n",
    "        # Save the photometry to a numpy array.\n",
    "        # Each row in the 'data_band_np' numpy array will have the data:\n",
    "        #(Phase(TBmax), Abs mag, Err_Absmag, App mag, Err_appmag, kcorr, err_kcorr)\n",
    "\n",
    "        count_AllNumDataInLC = 0\n",
    "        count_NumDataInLC = 0\n",
    "\n",
    "        # Loop over MJD in a given band\n",
    "        for i2 in range(len(s.data[band].MJD)):\n",
    "\n",
    "            # ---- numpy array: begins ---->>\n",
    "            data_np = np.array([\n",
    "\n",
    "            1, # just a dummy value.\n",
    "\n",
    "            # phase:\n",
    "            (s.data[band].MJD[i2]-s.Tmax)/((1+s.z)*s.ks_s),\n",
    "\n",
    "            # Abs mag: kcorrected, MWdust corrected, and distance\n",
    "            # modulus subtracted:\n",
    "            s.data[band].mag[i2] - s.ks[band][i2] - Alamb - mu_LCDM,\n",
    "\n",
    "            # Total uncertainty for abs mag =\n",
    "            # = (e_mag^2 + e_Alamb^2 + e_kcorr^2)^(-1/2)\n",
    "            np.sqrt((s.data[band].e_mag[i2])**2 + e_Alamb**2 +\n",
    "            err_kcorr**2 ),\n",
    "\n",
    "            # Apparent magnitude: MWdust corrected\n",
    "            s.data[band].mag[i2] - s.ks[band][i2] - Alamb,\n",
    "\n",
    "            # Apparent magnitude error\n",
    "            np.sqrt((s.data[band].e_mag[i2])**2 + e_Alamb**2),\n",
    "\n",
    "            # k-corr\n",
    "            s.ks[band][i2],\n",
    "\n",
    "            # k-corr error\n",
    "            err_kcorr  ])\n",
    "            # <<----- numpy array: ends ---\n",
    "\n",
    "            # print \"%s index\"%i\n",
    "            if i2 == 0:\n",
    "                data_band_np = data_np\n",
    "            elif i2 > 0:\n",
    "                data_band_np = np.vstack((data_band_np, data_np))\n",
    "\n",
    "            count_AllNumDataInLC += 1\n",
    "            count_NumDataInLC += 1\n",
    "\n",
    "        #------------------------\n",
    "\n",
    "        # Save to a new array, 'data_all_np', all the -good- photometry\n",
    "        # in a given band:\n",
    "\n",
    "        CountNumSimilarBands=1\n",
    "\n",
    "        if CountNumSimilarBands == 1:\n",
    "            data_all_np = data_band_np\n",
    "        else:\n",
    "            data_all_np =  np.vstack((data_all_np , data_band_np))\n",
    "\n",
    "        #--------------------------------------------------------\n",
    "        # Sort the data based on the phase values.\n",
    "\n",
    "        try:\n",
    "            # Sort the array in increasing order of phase.\n",
    "            data_all_2_np = np.sort(data_all_np.view('f8,f8,f8,f8,f8,f8,f8,f8'),\n",
    "                                    order=['f1'], axis=0).view(np.float)\n",
    "\n",
    "            if debug: print(\"Step 15. All %s data sorted; \\\n",
    "        done.\"%len(data_all_2_np))\n",
    "\n",
    "        # When there is just one datum in the LC:\n",
    "        except:\n",
    "            data_all_2_np = data_all_np\n",
    "            if debug: print(\"Step 15. Only one datum in the photometry; done.\")\n",
    "\n",
    "        #--------------------------------------------------------\n",
    "        # Write the photmetry with my format.\n",
    "\n",
    "        # Suffix to add to the original file name:\n",
    "        extension_myformat = '_%s.txt'%band\n",
    "\n",
    "        # Output name:\n",
    "        output_name = snname[0:-5]+extension_myformat\n",
    "\n",
    "        SN_txtfile = open(dir_save_output+output_name, 'w')\n",
    "\n",
    "        #----------- Write header -----------\n",
    "\n",
    "        SN_txtfile.write(\"# {0} \\n\".format(s.name))\n",
    "        SN_txtfile.write(\"%-13.6f  %.6f  %.6f  %.6f  -1       -1  -1 # \\\n",
    "(zcmb, err_zcmb, zhelio, err_zhelio) \\n\"%(\n",
    "                zcmb_int, err_zcmb, s.z, err_zhelio))\n",
    "\n",
    "        SN_txtfile.write(\"%-13.6f  %.6f  %.6f   -1       -1       -1  -1 # \\\n",
    "(dm15, err_dm15, stretch) \\n\"%(\n",
    "                s.dm15, s.e_dm15, s.ks_s))\n",
    "\n",
    "        SN_txtfile.write(\"%-13.6f  %.6f  %.6f  -1       -1       -1  -1 # \\\n",
    "(mu_Snoopy, err_mu_Snoopy, mu_LCDM) \\n\"%(\n",
    "                s.DM, s.e_DM, mu_LCDM))\n",
    "\n",
    "        SN_txtfile.write(\"%-13.6f  %.6f  %.6f  %.6f  %.6f -1  -1 # \\\n",
    "(E(B-V)_MW, err_E(B-V)_MW, Alamb, err_Alamb, R_F) \\n\"%(\n",
    "                s.EBVgal, s.e_EBVgal, Alamb, e_Alamb, R_F))\n",
    "\n",
    "        SN_txtfile.write(\"%-13.6f  %.6f  -1        -1        -1       -1  -1 # \\\n",
    "(E(B-V)_host, err_E(B-V)_host) \\n\"%(\n",
    "                s.EBVhost, s.e_EBVhost))\n",
    "\n",
    "        SN_txtfile.write(\"%-13.6f  %.6f  -1        -1        -1       -1  -1 # \\\n",
    "(T_Bmax, err_T_Bmax) \\n\"%(s.Tmax, s.e_Tmax))\n",
    "\n",
    "        SN_txtfile.write(\"-1  -1  -1  -1  -1  -1  -1 # Free slot \\n\")\n",
    "        SN_txtfile.write(\"-1  -1  -1  -1  -1  -1  -1 # Free slot \\n\")\n",
    "\n",
    "        SN_txtfile.write(\"# Assuming flat LCDM with (Om={0}, OL={1}, w={2}, \\\n",
    "Ho={3}) \\n\".format(OmMFix, OmLFix, wFix, HoFix))\n",
    "\n",
    "        SN_txtfile.write('#------------------------------------------------- \\n')\n",
    "        SN_txtfile.write(\"#  %s \\n\"%band)\n",
    "        SN_txtfile.write('#Phase(TBmax) Abs mag  Err_Absmag  App mag  \\\n",
    "Err_appmag   kcorr    err_kcorr  \\n')\n",
    "\n",
    "        #----------- Write photometry -----------\n",
    "\n",
    "        for i3 in range(len(data_all_2_np)):\n",
    "            CommentText = ''\n",
    "            SN_txtfile.write(\"%s%-9.5f   %.6f  %.6f  %.6f  %.6f  %10.6f  %.6f\\n\"%(\n",
    "                    CommentText,\n",
    "                    data_all_2_np[i3][1], data_all_2_np[i3][2], data_all_2_np[i3][3],\n",
    "                    data_all_2_np[i3][4], data_all_2_np[i3][5], data_all_2_np[i3][6],\n",
    "                    data_all_2_np[i3][7]) )\n",
    "\n",
    "        SN_txtfile.close();\n",
    "\n",
    "        \n",
    "        out_message = print('%s file created.'%output_name)\n",
    "        \n",
    "    #--------------------------------------------------------\n",
    "    else: \n",
    "        out_message = print('%s:  No data in band %s!'%(snname, band))\n",
    "\n",
    "    return out_message"
   ]
  },
  {
   "cell_type": "code",
   "execution_count": null,
   "metadata": {},
   "outputs": [],
   "source": []
  },
  {
   "cell_type": "markdown",
   "metadata": {},
   "source": [
    "### Main loop"
   ]
  },
  {
   "cell_type": "code",
   "execution_count": 8,
   "metadata": {},
   "outputs": [
    {
     "name": "stdout",
     "output_type": "stream",
     "text": [
      "PScA470110_Fit_f160w.txt file created.\n",
      "PScA470240_Fit_f160w.txt file created.\n",
      "PScB480794_Fit_f160w.txt file created.\n",
      "PScC490037_Fit_f160w.txt file created.\n",
      "PScE510457_Fit_f160w.txt file created.\n",
      "PScF520062_Fit_f160w.txt file created.\n",
      "PScF520107_Fit_f160w.txt file created.\n",
      "PScF520188_Fit_f160w.txt file created.\n",
      "PScG530251_Fit_f160w.txt file created.\n",
      "PScH540087_Fit_f160w.txt file created.\n",
      "PScH540118_Fit_f160w.txt file created.\n",
      "PScJ440005_Fit_f160w.txt file created.\n",
      "PScJ440236_Fit_f160w.txt file created.\n",
      "PScJ550202_Fit_f160w.txt file created.\n",
      "PScJ560027_Fit_f160w.txt file created.\n",
      "PScJ560054_Fit_f160w.txt file created.\n",
      "PScK450339_Fit_f160w.txt file created.\n"
     ]
    }
   ],
   "source": [
    "for i1 in range(len(list_sne)):\n",
    "    \n",
    "    # snfile = str(list_sne[i1][0])  # Python 2.7\n",
    "    snfile = list_sne[i1][0].decode('UTF-8')  # Python 3.7\n",
    "    # print('     ', snfile, \": I'll try to fit it.\")\n",
    "    \n",
    "    snpy2myformat(snfile, band, \n",
    "        # zcmb = zcmb, \n",
    "        err_zcmb = err_zcmb, err_zhelio = err_zhelio, \n",
    "        err_kcorr = err_kcorr,\n",
    "        HoFix = HoFix, OmMFix = OmMFix, OmLFix = OmLFix, wFix = wFix, \n",
    "        MinNumberOfDataInLCs = MinNumberOfDataInLCs, \n",
    "        dir_save_output = dir_save_output,\n",
    "        debug=debug)"
   ]
  },
  {
   "cell_type": "code",
   "execution_count": null,
   "metadata": {},
   "outputs": [],
   "source": []
  },
  {
   "cell_type": "code",
   "execution_count": null,
   "metadata": {},
   "outputs": [],
   "source": []
  },
  {
   "cell_type": "markdown",
   "metadata": {},
   "source": [
    "---"
   ]
  }
 ],
 "metadata": {
  "kernelspec": {
   "display_name": "Python 3",
   "language": "python",
   "name": "python3"
  },
  "language_info": {
   "codemirror_mode": {
    "name": "ipython",
    "version": 3
   },
   "file_extension": ".py",
   "mimetype": "text/x-python",
   "name": "python",
   "nbconvert_exporter": "python",
   "pygments_lexer": "ipython3",
   "version": "3.7.3"
  }
 },
 "nbformat": 4,
 "nbformat_minor": 4
}
