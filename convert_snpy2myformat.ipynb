{
 "cells": [
  {
   "cell_type": "markdown",
   "metadata": {},
   "source": [
    "# Convert .SNPY files to my format\n",
    "\n",
    "### Create text files of:\n",
    "#### - (phase, absolute mag, error mag) and\n",
    "#### - (phase, apparent mag, error mag)\n",
    "\n",
    "- Based from 06_Canopy_AbsAppMag_Phase_ForEachBand_Main.ipynb\n",
    "- Useful to convert SNooPy LC files to my format for high redshift.\n",
    "- Originally written in python 2.7, this script runs also in python 3.7.3 Anaconda.\n",
    "\n",
    "--------------------------------------------------------60\n",
    "\n",
    "    IDEAS\n",
    "    \n",
    "- input: .snpy file\n",
    "- output: text file with my format.\n",
    "- arguments:\n",
    "    - observer-frame band to extract the information.\n",
    "    "
   ]
  },
  {
   "cell_type": "code",
   "execution_count": 1,
   "metadata": {},
   "outputs": [],
   "source": [
    "from snpy import *\n",
    "# from numpy import * \n",
    "import numpy as np\n",
    "from matplotlib import pyplot as plt\n",
    "import datetime # Get the current date and time\n",
    "import json\n",
    "import glob # To read file names in a directory\n",
    "# To read arguments in command line\n",
    "# Used in the \".py\" version of this notebook.\n",
    "import sys \n",
    "\n",
    "# %pylab qt \n",
    "# For CANOPY python: to show the plots in a separated Windows instead of inline.\n",
    "# If used, then I don't have to put the instruction \"plt.close()\" at\n",
    "# the end of the plot because it will show the figure and instantaneously \n",
    "# close the windows too.\n",
    "\n",
    "#--------------------------------------------------------60\n",
    "code_created_by = 'Arturo_Avelino'\n",
    "# On date: 2019.02.28 (yyyy.mm.dd)\n",
    "code_name = 'Create_AbsAppMag_phase_files_RAISIN.ipynb'\n",
    "code_version = '0.0.7'\n",
    "code_last_update = '2019.08.28'\n",
    "#--------------------------------------------------------60"
   ]
  },
  {
   "cell_type": "code",
   "execution_count": null,
   "metadata": {},
   "outputs": [],
   "source": [
    "##############################################################################80"
   ]
  },
  {
   "cell_type": "markdown",
   "metadata": {},
   "source": [
    "## User"
   ]
  },
  {
   "cell_type": "code",
   "execution_count": 26,
   "metadata": {},
   "outputs": [
    {
     "name": "stdout",
     "output_type": "stream",
     "text": [
      "# 17 SNe in this file.\n"
     ]
    },
    {
     "data": {
      "text/plain": [
       "array([(b'PScA470110_Fit.snpy',), (b'PScA470240_Fit.snpy',),\n",
       "       (b'PScB480794_Fit.snpy',)], dtype=[('f0', 'S22')])"
      ]
     },
     "execution_count": 26,
     "metadata": {},
     "output_type": "execute_result"
    }
   ],
   "source": [
    "# Directory where the \".snpy\" files are located:\n",
    "\n",
    "list_file='list_SNe_snpy.txt'\n",
    "\n",
    "dir_data = '/Users/arturo/Documents/Research/Workplace/raisin/raisin1/\\\n",
    "2019_08_05__v0_1_1/fits/EBV/Mangle/Optical_NIR_g_tbmaxFix/'\n",
    "\n",
    "#--------------------------------------------------------60\n",
    "\n",
    "# Change where the .snpy files are located:\n",
    "os.chdir(dir_data)\n",
    "\n",
    "list_sne = np.genfromtxt(dir_data+list_file, dtype=['S22'])\n",
    "\n",
    "print('# %s SNe in this file.'%len(list_sne))\n",
    "list_sne[:3]"
   ]
  },
  {
   "cell_type": "code",
   "execution_count": 27,
   "metadata": {
    "collapsed": false,
    "jupyter": {
     "outputs_hidden": false
    }
   },
   "outputs": [],
   "source": [
    "# USER\n",
    "\n",
    "band = 'f160w'  # Observer-frame band\n",
    "\n",
    "err_zhelio = 0.005\n",
    "err_zcmb = err_zhelio\n",
    "err_kcorr = 0\n",
    "\n",
    "#-------------------------------\n",
    "\n",
    "# The value HoFix = 73.24 is what we use in the\n",
    "# low-z paper.\n",
    "HoFix = 73.24 # Hubble constant (km/(s Mpc))\n",
    "\n",
    "# HoFix = 72.78  # TEMPORAL: value reported by Dhawan et al 2017.\n",
    "\n",
    "OmMFix = 0.28\n",
    "OmLFix = 0.72\n",
    "wFix = -1\n",
    "\n",
    "# Print some marks to debug the code?\n",
    "debug = False"
   ]
  },
  {
   "cell_type": "code",
   "execution_count": 28,
   "metadata": {},
   "outputs": [],
   "source": [
    "dir_save_output = '/Users/arturo/Documents/Research/Workplace/raisin/raisin1/\\\n",
    "2019_08_05__v0_1_1/fits/EBV/Mangle/Optical_NIR_g_tbmaxFix/MyFormat/'\n",
    "\n",
    "#- If the subdirectory does not exist then create it\n",
    "if not os.path.exists(dir_save_output): os.makedirs(dir_save_output)"
   ]
  },
  {
   "cell_type": "code",
   "execution_count": 29,
   "metadata": {
    "collapsed": false,
    "jupyter": {
     "outputs_hidden": false
    }
   },
   "outputs": [],
   "source": [
    "# Range of redshift data to be considered\n",
    "# zMinCuttoff = 0.\n",
    "# zMaxCuttoff = 0.1\n",
    "\n",
    "#-----------------------------------------\n",
    "\n",
    "# In CfA sample, remove the photometric data with the following error bars.\n",
    "# flag1 = 0.175; flag2 = 0.25 # OK\n",
    "\n",
    "#-----------------------------------------\n",
    "\n",
    "#-- Consider the light curves with -at least- the following number of data:\n",
    "MinNumberOfDataInLCs=1\n",
    "\n",
    "#-- Consider the LC that contains data in the following range -at least- only:\n",
    "# phase_min = 3\n",
    "# phase_max = 10\n",
    "\n",
    "phase_min = 50\n",
    "phase_max = -15\n",
    "\n",
    "#-----------------------------------------\n",
    "\n",
    "#   Some fixed constants\n",
    "\n",
    "cc = 299792.458  # Speed of light (km/s)\n",
    "\n",
    "# Peculiar velocity\n",
    "# old. vpecFix = 150 # km/s. # Not used anymore"
   ]
  },
  {
   "cell_type": "code",
   "execution_count": 30,
   "metadata": {},
   "outputs": [
    {
     "data": {
      "text/plain": [
       "0"
      ]
     },
     "execution_count": 30,
     "metadata": {},
     "output_type": "execute_result"
    }
   ],
   "source": [
    "\"\"\" \n",
    "# Directory where the \".snpy\" files are located:\n",
    "\n",
    "DirLocationData = '/Users/arturo/Documents/Research/Workplace/raisin/raisin1/\\\n",
    "2019_08_05__v0_1_1/fits/EBV/Mangle/Optical_NIR_g_tbmaxFix/'\n",
    "\n",
    "os.chdir(DirLocationData)\n",
    "\n",
    "#------------------------------------------------\n",
    "# Directory to save the data\n",
    "\n",
    "# DirSaveFiles = '/Users/arturo/Dropbox/Research/Articulos/10_AndyKaisey/\\\n",
    "# 10Compute/TheTemplates/'+bandName+'_band/'+FilterSyst+'1_AllData_InitialFit/\\\n",
    "# AbsMag/'+Sample+'/'\n",
    "\n",
    "DirSaveOutput= '/Users/arturo/Documents/Research/Workplace/raisin/raisin1/\\\n",
    "2019_08_05__v0_1_1/fits/EBV/Mangle/Optical_NIR_g_tbmaxFix/MyFormat/'\n",
    "\n",
    "#- Force the creation of the directory to save the outputs.\n",
    "#- \"If the subdirectory does not exist then create it\"\n",
    "if not os.path.exists(DirSaveOutput): os.makedirs(DirSaveOutput)\n",
    "\n",
    "# Create a list of the the \".snpy\" file names: \n",
    "# list_SN = glob.glob('*_StdFilt.snpy')\n",
    "# tmp. list_SN = glob.glob('*_1stFit.snpy') # tmp\n",
    "\n",
    "# print len(list_SN),\"SNe read with extension '_StdFilt.snpy.'\" \"\"\"\n",
    "0"
   ]
  },
  {
   "cell_type": "code",
   "execution_count": null,
   "metadata": {},
   "outputs": [],
   "source": [
    "\n",
    "\n"
   ]
  },
  {
   "cell_type": "code",
   "execution_count": null,
   "metadata": {},
   "outputs": [],
   "source": [
    "##############################################################################80"
   ]
  },
  {
   "cell_type": "markdown",
   "metadata": {},
   "source": [
    "--------"
   ]
  },
  {
   "cell_type": "markdown",
   "metadata": {},
   "source": [
    "# Automatic"
   ]
  },
  {
   "cell_type": "code",
   "execution_count": null,
   "metadata": {
    "collapsed": false,
    "jupyter": {
     "outputs_hidden": false
    }
   },
   "outputs": [],
   "source": [
    "#-------- BAND --------------------\n",
    "\n",
    "# OLD\n",
    "# if bandName == 'J':\n",
    "#     filterNames = ['J2m', 'JANDI', 'J', 'Jrc1', 'Jrc2', 'Jdw']\n",
    "# \n",
    "# if bandName == 'Y':\n",
    "#     filterNames = ['Y', 'Ydw']\n",
    "# \n",
    "# if bandName == 'H':\n",
    "#     filterNames = ['H2m', 'HANDI', 'H', 'Hdw']\n",
    "# \n",
    "# if bandName == 'K':\n",
    "#     filterNames = ['Ks2m', 'KANDI', 'K', 'Kd']\n",
    "\n",
    "\n",
    "#-------------------- \n",
    "\n",
    "# DataType = 'OpticalNIR' # OpticalNIR, Optical\n",
    "\n",
    "# The kcorr uncertainties were computed during the snoopy fitting\n",
    "# of the light curves?\n",
    "# error_kcorr = False\n",
    "\n",
    "# Comment the CfA photometric observations flagged by Andrew Friedmann?\n",
    "# CommentFlaggedCfAData = True\n",
    "\n",
    "\n",
    "######## (usually fixed) ########\n",
    "#   Filter system\n",
    "# FilterSyst = 'Std_filters/'\n",
    "# FilterSyst = 'CSP_filters/'"
   ]
  },
  {
   "cell_type": "code",
   "execution_count": null,
   "metadata": {},
   "outputs": [],
   "source": []
  },
  {
   "cell_type": "code",
   "execution_count": null,
   "metadata": {
    "collapsed": false,
    "jupyter": {
     "outputs_hidden": false
    }
   },
   "outputs": [],
   "source": [
    "#--------------------------------------------------------60"
   ]
  },
  {
   "cell_type": "markdown",
   "metadata": {},
   "source": [
    "### Metadata: (zhel, zcmb)"
   ]
  },
  {
   "cell_type": "code",
   "execution_count": null,
   "metadata": {
    "collapsed": false,
    "jupyter": {
     "outputs_hidden": false
    }
   },
   "outputs": [],
   "source": [
    "# OLD\n",
    "\"\"\"\n",
    "DirMetadata = '/Users/arturo/Dropbox/Research/SoftwareResearch/\\\n",
    "Snoopy/AndyLCComp_2018_02/'\n",
    "\n",
    "# Reading the metadata file\n",
    "infoSNe_data = np.genfromtxt(DirMetadata+\n",
    "                             'carrick_Flow_corrections_snnames_v1.txt',\n",
    "                            dtype=['S17', float,float, 'S40',float,float,\n",
    "                                   float,float,float,float,'S16', int ])\n",
    "\n",
    "# Create a dictionary: \n",
    "# {snname: ra, dec, zhelio, e_zhel, zcmb, e_zcmb, zcmbFlow, e_zcmbFlow, code}\n",
    "\n",
    "infoSNe_dict = {infoSNe_data['f0'][i]: np.array( [ infoSNe_data['f1'][i],\n",
    "                infoSNe_data['f2'][i], \n",
    "                infoSNe_data['f4'][i]/cc, infoSNe_data['f5'][i]/cc,\n",
    "                infoSNe_data['f6'][i]/cc, infoSNe_data['f7'][i]/cc,\n",
    "                infoSNe_data['f8'][i]/cc, infoSNe_data['f9'][i]/cc,\n",
    "                infoSNe_data['f11'][i]] )\n",
    "                for i in range(len(infoSNe_data)) } \n",
    "\n",
    "print infoSNe_dict['sn1991T']\n",
    "# [  1.88542500e+02   2.66556000e+00   5.79067269e-03   3.33564095e-06\n",
    "#    3.19220839e-03   2.00138457e-05   6.60456908e-03   5.00346143e-04\n",
    "#    2.00000000e+00]\n",
    "\"\"\" \n",
    "0"
   ]
  },
  {
   "cell_type": "code",
   "execution_count": null,
   "metadata": {
    "collapsed": false,
    "jupyter": {
     "outputs_hidden": false
    }
   },
   "outputs": [],
   "source": [
    "#--------------------------------------------------------60"
   ]
  },
  {
   "cell_type": "markdown",
   "metadata": {},
   "source": [
    "### Uploading the SED of Hsiao to compute the extinction"
   ]
  },
  {
   "cell_type": "code",
   "execution_count": 31,
   "metadata": {
    "collapsed": false,
    "jupyter": {
     "outputs_hidden": false
    }
   },
   "outputs": [],
   "source": [
    "Ia_w, Ia_f = kcorr.get_SED(0,'H3')"
   ]
  },
  {
   "cell_type": "code",
   "execution_count": 32,
   "metadata": {},
   "outputs": [],
   "source": [
    "#--------------------------------------------------------60"
   ]
  },
  {
   "cell_type": "markdown",
   "metadata": {},
   "source": [
    "### Cosmology theory for $\\mu(z)$"
   ]
  },
  {
   "cell_type": "code",
   "execution_count": 33,
   "metadata": {
    "collapsed": false,
    "jupyter": {
     "outputs_hidden": false
    }
   },
   "outputs": [
    {
     "name": "stdout",
     "output_type": "stream",
     "text": [
      "38.22020314489771\n"
     ]
    }
   ],
   "source": [
    "from scipy.integrate import quad as intquad\n",
    "\n",
    "# Inverse of the dimensionless Hubble parameter\n",
    "def InvEHubblePar(z, OmM, wde):\n",
    "    \"Dimensionless Hubble parameter\"\n",
    "    InvEHubbleParInt = 1.0/(np.sqrt(OmM*(1.0+z)**3.0 + (1.0-OmM)*(1.+z)**(3.*(1.+wde))))\n",
    "    return InvEHubbleParInt\n",
    "\n",
    "# ---- The luminosity distance ----\n",
    "def LumDistance(z, OmM, wde, Ho):\n",
    "    \"Luminosity distance\"\n",
    "    LumDistanceVecInt = 0.\n",
    "    LumDistanceVecInt = cc*(1.+z)*intquad(InvEHubblePar, 0., z, args=(OmM, wde))[0]/Ho \n",
    "    return LumDistanceVecInt\n",
    "\n",
    "\n",
    "# ---- Distance modulus ----\n",
    "def DistanceMu(z, OmM, wde, Ho):\n",
    "    \"Distance modulus\"     \n",
    "    DistanceMuInt = 5.0*np.log10(LumDistance(z, OmM, wde, Ho)) + 25.0\n",
    "    return DistanceMuInt\n",
    "\n",
    "#--------------------------------------------------\n",
    "\n",
    "ztest1 = 0.1\n",
    "print(DistanceMu(ztest1, OmMFix, wFix, HoFix))\n",
    "# 38.2572823409\n",
    "# 38.22020314489771"
   ]
  },
  {
   "cell_type": "code",
   "execution_count": null,
   "metadata": {
    "collapsed": false,
    "jupyter": {
     "outputs_hidden": false
    }
   },
   "outputs": [],
   "source": [
    "#--------------------------------------------------------60"
   ]
  },
  {
   "cell_type": "markdown",
   "metadata": {},
   "source": [
    "---"
   ]
  },
  {
   "cell_type": "code",
   "execution_count": 9,
   "metadata": {},
   "outputs": [
    {
     "data": {
      "text/plain": [
       "'/Users/arturo/Documents/Research/Workplace/raisin/raisin1/2019_08_05__v0_1_1/fits/EBV/Mangle/Optical_NIR_g_tbmaxFix'"
      ]
     },
     "execution_count": 9,
     "metadata": {},
     "output_type": "execute_result"
    }
   ],
   "source": [
    "pwd"
   ]
  },
  {
   "cell_type": "code",
   "execution_count": 57,
   "metadata": {},
   "outputs": [],
   "source": [
    "def snpy2myformat(snname, band,\n",
    "        zcmb = -1, err_zcmb = 0.005,\n",
    "        err_zhelio = 0.005, err_kcorr = 0.001,\n",
    "        HoFix = 73.24, OmMFix = 0.28, OmLFix = 0.72, wFix = -1.0,\n",
    "        MinNumberOfDataInLCs = 1, dir_save_output = dir_save_output,\n",
    "        debug = False):\n",
    "    \n",
    "    \"\"\"\n",
    "    Function to create a text file with the format required to use it\n",
    "    as input in my script to fit the light curve (LC) data with my template and\n",
    "    Gaussian-process (GP) methods.\n",
    "    \n",
    "    The input file is the .snpy file generated by SNooPy when fitting the\n",
    "    LC data.\n",
    "    \"\"\"\n",
    "\n",
    "    cc = 299792.458  # Speed of light (km/s)\n",
    "\n",
    "    # Upload the LC data\n",
    "    s = get_sn(snname)\n",
    "\n",
    "    # Define zcmb:\n",
    "    if zcmb != -1: zcmb_int = zcmb\n",
    "    else: zcmb_int = s.zcmb\n",
    "\n",
    "    # s.summary()\n",
    "\n",
    "    # Check if the LC file has data in band I'm interested, and if\n",
    "    # there are enough data in that band.\n",
    "    if (band in s.data.keys() and\n",
    "        len(s.data[band].MJD) >= MinNumberOfDataInLCs):\n",
    "\n",
    "        #------- The extinction A_lambda --------\n",
    "        R_F = fset[band].R(wave=Ia_w, flux=Ia_f, Rv=3.1)\n",
    "        Alamb = R_F * s.EBVgal\n",
    "        e_Alamb = R_F * s.e_EBVgal\n",
    "\n",
    "        #------- LCDM distance modulus\n",
    "        mu_LCDM = DistanceMu(zcmb_int, OmMFix, wFix, HoFix)\n",
    "\n",
    "        #--------------------------------------------------------\n",
    "        # Save the photometry to a numpy array.\n",
    "        # Each row in the 'data_band_np' numpy array will have the data:\n",
    "        #(Phase(TBmax), Abs mag, Err_Absmag, App mag, Err_appmag, kcorr, err_kcorr)\n",
    "\n",
    "        count_AllNumDataInLC = 0\n",
    "        count_NumDataInLC = 0\n",
    "\n",
    "        # Loop over MJD in a given band\n",
    "        for i2 in range(len(s.data[band].MJD)):\n",
    "\n",
    "            # ---- numpy array: begins ---->>\n",
    "            data_np = np.array([\n",
    "\n",
    "            1, # just a dummy value.\n",
    "\n",
    "            # phase:\n",
    "            (s.data[band].MJD[i2]-s.Tmax)/((1+s.z)*s.ks_s),\n",
    "\n",
    "            # Abs mag: kcorrected, MWdust corrected, and distance\n",
    "            # modulus subtracted:\n",
    "            s.data[band].mag[i2] - s.ks[band][i2] - Alamb - mu_LCDM,\n",
    "\n",
    "            # Total uncertainty for abs mag =\n",
    "            # = (e_mag^2 + e_Alamb^2 + e_kcorr^2)^(-1/2)\n",
    "            np.sqrt((s.data[band].e_mag[i2])**2 + e_Alamb**2 +\n",
    "            err_kcorr**2 ),\n",
    "\n",
    "            # Apparent magnitude: MWdust corrected\n",
    "            s.data[band].mag[i2] - s.ks[band][i2] - Alamb,\n",
    "\n",
    "            # Apparent magnitude error\n",
    "            np.sqrt((s.data[band].e_mag[i2])**2 + e_Alamb**2),\n",
    "\n",
    "            # k-corr\n",
    "            s.ks[band][i2],\n",
    "\n",
    "            # k-corr error\n",
    "            err_kcorr  ])\n",
    "            # <<----- numpy array: ends ---\n",
    "\n",
    "            # print \"%s index\"%i\n",
    "            if i2 == 0:\n",
    "                data_band_np = data_np\n",
    "            elif i2 > 0:\n",
    "                data_band_np = np.vstack((data_band_np, data_np))\n",
    "\n",
    "            count_AllNumDataInLC += 1\n",
    "            count_NumDataInLC += 1\n",
    "\n",
    "        #------------------------\n",
    "\n",
    "        # Save to a new array, 'data_all_np', all the -good- photometry\n",
    "        # in a given band:\n",
    "\n",
    "        CountNumSimilarBands=1\n",
    "\n",
    "        if CountNumSimilarBands == 1:\n",
    "            data_all_np = data_band_np\n",
    "        else:\n",
    "            data_all_np =  np.vstack((data_all_np , data_band_np))\n",
    "\n",
    "        #--------------------------------------------------------\n",
    "        # Sort the data based on the phase values.\n",
    "\n",
    "        try:\n",
    "            # Sort the array in increasing order of phase.\n",
    "            data_all_2_np = np.sort(data_all_np.view('f8,f8,f8,f8,f8,f8,f8,f8'),\n",
    "                                    order=['f1'], axis=0).view(np.float)\n",
    "\n",
    "            if debug: print(\"Step 15. All %s data sorted; \\\n",
    "        done.\"%len(data_all_2_np))\n",
    "\n",
    "        # When there is just one datum in the LC:\n",
    "        except:\n",
    "            data_all_2_np = data_all_np\n",
    "            if debug: print(\"Step 15. Only one datum in the photometry; done.\")\n",
    "\n",
    "        #--------------------------------------------------------\n",
    "        # Write the photmetry with my format.\n",
    "\n",
    "        # Suffix to add to the original file name:\n",
    "        extension_myformat = '_%s.txt'%band\n",
    "\n",
    "        # Output name:\n",
    "        output_name = snname[0:-5]+extension_myformat\n",
    "\n",
    "        SN_txtfile = open(dir_save_output+output_name, 'w')\n",
    "\n",
    "        #----------- Write header -----------\n",
    "\n",
    "        SN_txtfile.write(\"# {0} \\n\".format(s.name))\n",
    "        SN_txtfile.write(\"%-13.6f  %.6f  %.6f  %.6f  -1       -1  -1 # \\\n",
    "(zcmb, err_zcmb, zhelio, err_zhelio) \\n\"%(\n",
    "                zcmb_int, err_zcmb, s.z, err_zhelio))\n",
    "\n",
    "        SN_txtfile.write(\"%-13.6f  %.6f  %.6f   -1       -1       -1  -1 # \\\n",
    "(dm15, err_dm15, stretch) \\n\"%(\n",
    "                s.dm15, s.e_dm15, s.ks_s))\n",
    "\n",
    "        SN_txtfile.write(\"%-13.6f  %.6f  %.6f  -1       -1       -1  -1 # \\\n",
    "(mu_Snoopy, err_mu_Snoopy, mu_LCDM) \\n\"%(\n",
    "                s.DM, s.e_DM, mu_LCDM))\n",
    "\n",
    "        SN_txtfile.write(\"%-13.6f  %.6f  %.6f  %.6f  %.6f -1  -1 # \\\n",
    "(E(B-V)_MW, err_E(B-V)_MW, Alamb, err_Alamb, R_F) \\n\"%(\n",
    "                s.EBVgal, s.e_EBVgal, Alamb, e_Alamb, R_F))\n",
    "\n",
    "        SN_txtfile.write(\"%-13.6f  %.6f  -1        -1        -1       -1  -1 # \\\n",
    "(E(B-V)_host, err_E(B-V)_host) \\n\"%(\n",
    "                s.EBVhost, s.e_EBVhost))\n",
    "\n",
    "        SN_txtfile.write(\"%-13.6f  %.6f  -1        -1        -1       -1  -1 # \\\n",
    "(T_Bmax, err_T_Bmax) \\n\"%(s.Tmax, s.e_Tmax))\n",
    "\n",
    "        SN_txtfile.write(\"-1  -1  -1  -1  -1  -1  -1 # Free slot \\n\")\n",
    "        SN_txtfile.write(\"-1  -1  -1  -1  -1  -1  -1 # Free slot \\n\")\n",
    "\n",
    "        SN_txtfile.write(\"# Assuming flat LCDM with (Om={0}, OL={1}, w={2}, \\\n",
    "Ho={3}) \\n\".format(OmMFix, OmLFix, wFix, HoFix))\n",
    "\n",
    "        SN_txtfile.write('#------------------------------------------------- \\n')\n",
    "        SN_txtfile.write(\"#  %s \\n\"%band)\n",
    "        SN_txtfile.write('#Phase(TBmax) Abs mag  Err_Absmag  App mag  \\\n",
    "Err_appmag   kcorr    err_kcorr  \\n')\n",
    "\n",
    "        #----------- Write photometry -----------\n",
    "\n",
    "        for i3 in range(len(data_all_2_np)):\n",
    "            CommentText = ''\n",
    "            SN_txtfile.write(\"%s%-9.5f   %.6f  %.6f  %.6f  %.6f  %10.6f  %.6f\\n\"%(\n",
    "                    CommentText,\n",
    "                    data_all_2_np[i3][1], data_all_2_np[i3][2], data_all_2_np[i3][3],\n",
    "                    data_all_2_np[i3][4], data_all_2_np[i3][5], data_all_2_np[i3][6],\n",
    "                    data_all_2_np[i3][7]) )\n",
    "\n",
    "        SN_txtfile.close();\n",
    "\n",
    "        #--------------------------------------------------------\n",
    "\n",
    "    return print('%s file created.'%output_name)\n"
   ]
  },
  {
   "cell_type": "code",
   "execution_count": null,
   "metadata": {},
   "outputs": [],
   "source": []
  },
  {
   "cell_type": "code",
   "execution_count": null,
   "metadata": {},
   "outputs": [],
   "source": []
  },
  {
   "cell_type": "code",
   "execution_count": 38,
   "metadata": {},
   "outputs": [
    {
     "name": "stdout",
     "output_type": "stream",
     "text": [
      "/Users/arturo/Dropbox/Research/SoftwareResearch/Snoopy/AndyLCComp_2018_02/all/snoopy/2_Combine_Fit/CfA/OpticalNIR/Fit\n"
     ]
    }
   ],
   "source": [
    "# cd /Users/arturo/Dropbox/Research/SoftwareResearch/Snoopy/AndyLCComp_2018_02/all/snoopy/2_Combine_Fit/CfA/OpticalNIR/Fit"
   ]
  },
  {
   "cell_type": "code",
   "execution_count": 49,
   "metadata": {},
   "outputs": [
    {
     "name": "stdout",
     "output_type": "stream",
     "text": [
      "/Users/arturo/Dropbox/Research/SoftwareResearch/Snoopy/AndyLCComp_2018_02/all/snoopy/2_Combine_Fit/CSP/OpticalNIR/Fit\n"
     ]
    }
   ],
   "source": [
    "cd /Users/arturo/Dropbox/Research/SoftwareResearch/Snoopy/AndyLCComp_2018_02/all/snoopy/2_Combine_Fit/CSP/OpticalNIR/Fit"
   ]
  },
  {
   "cell_type": "code",
   "execution_count": 50,
   "metadata": {},
   "outputs": [
    {
     "data": {
      "text/plain": [
       "'/Users/arturo/Dropbox/Research/SoftwareResearch/Snoopy/AndyLCComp_2018_02/all/snoopy/2_Combine_Fit/CSP/OpticalNIR/Fit'"
      ]
     },
     "execution_count": 50,
     "metadata": {},
     "output_type": "execute_result"
    }
   ],
   "source": [
    "pwd"
   ]
  },
  {
   "cell_type": "code",
   "execution_count": 58,
   "metadata": {},
   "outputs": [
    {
     "name": "stdout",
     "output_type": "stream",
     "text": [
      "sn2005el_dummytext_CSP_StdFilt_Y.txt file created.\n"
     ]
    }
   ],
   "source": [
    "# snfile = 'PScA470110_Fit.snpy'; band = 'f160w'\n",
    "# snfile = 'sn1998bu__U_69_B.snpy'; band = 'J2m'; zcmb = 0.002525; err_zcmb = 0.000233;\n",
    "\n",
    "snfile = 'sn2005el_dummytext_CSP_StdFilt.snpy'; \n",
    "band = 'Y'; zcmb = 0.015257; err_zcmb = 0.000500; err_zhelio= 0.000017;\n",
    "\n",
    "snpy2myformat(snfile, band, \n",
    "        zcmb = zcmb, err_zcmb = err_zcmb, err_zhelio = err_zhelio, \n",
    "        err_kcorr = 0.000,\n",
    "        HoFix = 73.24, OmMFix = 0.28, OmLFix = 0.72, wFix = -1.0, \n",
    "        MinNumberOfDataInLCs = 1, dir_save_output = dir_save_output,\n",
    "        debug = False)"
   ]
  },
  {
   "cell_type": "code",
   "execution_count": null,
   "metadata": {},
   "outputs": [],
   "source": []
  },
  {
   "cell_type": "code",
   "execution_count": null,
   "metadata": {},
   "outputs": [],
   "source": []
  },
  {
   "cell_type": "code",
   "execution_count": null,
   "metadata": {},
   "outputs": [],
   "source": []
  },
  {
   "cell_type": "markdown",
   "metadata": {},
   "source": [
    "### Main loop"
   ]
  },
  {
   "cell_type": "code",
   "execution_count": null,
   "metadata": {},
   "outputs": [],
   "source": [
    "    # snname = str(list_sne[i1][0])  # Python 2.7\n",
    "    snname = list_sne[i1][0].decode('UTF-8')  # Python 3.7\n",
    "    # print('     ', snname, \": I'll try to fit it.\")# Try 3"
   ]
  },
  {
   "cell_type": "code",
   "execution_count": null,
   "metadata": {},
   "outputs": [],
   "source": []
  },
  {
   "cell_type": "code",
   "execution_count": 41,
   "metadata": {},
   "outputs": [
    {
     "name": "stdout",
     "output_type": "stream",
     "text": [
      "Hola\n"
     ]
    }
   ],
   "source": [
    "if 5!=4: print('Hola')"
   ]
  },
  {
   "cell_type": "code",
   "execution_count": null,
   "metadata": {},
   "outputs": [],
   "source": []
  },
  {
   "cell_type": "code",
   "execution_count": null,
   "metadata": {},
   "outputs": [],
   "source": []
  },
  {
   "cell_type": "markdown",
   "metadata": {},
   "source": [
    "---"
   ]
  },
  {
   "cell_type": "markdown",
   "metadata": {},
   "source": [
    "# Try 2\n",
    "\n",
    "### Generating a table of data (phase[TBmax], M, error_M) including the info of the SNe, from the \"snpy\" files\n",
    "\n",
    "The output data is already corrected by\n",
    "- k-correction\n",
    "- extinction by Milky Way dust\n",
    "- time dilation using the z_helio"
   ]
  },
  {
   "cell_type": "code",
   "execution_count": null,
   "metadata": {},
   "outputs": [],
   "source": [
    "# snname = 'PScA470240_Fit.snpy'"
   ]
  },
  {
   "cell_type": "markdown",
   "metadata": {},
   "source": [
    "### Main Loop"
   ]
  },
  {
   "cell_type": "code",
   "execution_count": null,
   "metadata": {},
   "outputs": [],
   "source": [
    "\n",
    "#--------------------------------------------------------60\n",
    "\n",
    "textfile_1 = open(dir_save_output+'Conversion_settins.txt', 'w')\n",
    "textfile_2 = open(dir_save_output+'Conversion_fails.log', 'w')\n",
    "\n",
    "textfile_1.write('#       Settings of the conversion between .snpy to my format\\n')\n",
    "textfile_1.write('# Directory where the data is located\\n')\n",
    "textfile_1.write('# %s\\n'%dir_data)\n",
    "\n",
    "textfile_2.write('# Failed supernovae to be converted:\\n')\n",
    "\n",
    "#--------\n",
    "\n",
    "# Define the header text\n",
    "now = datetime.datetime.now() # Read the time and date right now\n",
    "text_timenow = now.strftime(\"%Y.%m.%d (yyyy.mm.dd); %H:%M hrs (ET).\")\n",
    "text_Date   = '# On date: %s\\n'%text_timenow\n",
    "text_Author = '# Data table created by: %s.\\n'%code_created_by\n",
    "text_script = '# Script used: %s (version %s | last update: %s)\\n'%(\n",
    "    code_name, code_version, code_last_update)\n",
    "text_line = '#'+'-'*57 + '60\\n'\n",
    "\n",
    "# Write the header text\n",
    "textfile_1.write(text_line);\n",
    "textfile_1.write(text_Author); textfile_1.write(text_Date);\n",
    "textfile_1.write(text_script);\n",
    "textfile_1.write(text_line);\n",
    "\n",
    "#-----------------------------------------------------------------------------80\n",
    "\n",
    "for i1 in range(3):\n",
    "    \n",
    "    # snname = str(list_sne[i1][0])  # Python 2.7\n",
    "    snname = list_sne[i1][0].decode('UTF-8')  # Python 3.7\n",
    "    print('     ', snname, \": I'll try to fit it.\")\n",
    "\n",
    "    # Upload the LC data\n",
    "    s = get_sn(snname)\n",
    "\n",
    "    s.summary()\n",
    "\n",
    "    # Check if the LC file has data in band I'm interested, and if\n",
    "    # there are enough data in that band.\n",
    "    if (band in s.data.keys() and \n",
    "        len(s.data[band].MJD) >= MinNumberOfDataInLCs):\n",
    "\n",
    "        #------- The extinction A_lambda --------\n",
    "        R_F = fset[band].R(wave=Ia_w, flux=Ia_f, Rv=3.1)\n",
    "        Alamb = R_F * s.EBVgal\n",
    "        e_Alamb = R_F * s.e_EBVgal\n",
    "\n",
    "        #------- LCDM distance modulus\n",
    "        mu_LCDM = DistanceMu(s.zcmb, OmMFix, wFix, HoFix)\n",
    "\n",
    "        #--------------------------------------------------------     \n",
    "        # Save the photometry to a numpy array.\n",
    "        # Each row in the 'data_band_np' numpy array will have the data:\n",
    "        #(Phase(TBmax), Abs mag, Err_Absmag, App mag, Err_appmag, kcorr, err_kcorr)\n",
    "\n",
    "        count_AllNumDataInLC = 0\n",
    "        count_NumDataInLC = 0\n",
    "\n",
    "        # Loop over MJD in a given band\n",
    "        for i2 in range(len(s.data[band].MJD)): \n",
    "\n",
    "            # ---- numpy array: begins ---->>\n",
    "            data_np = np.array([ \n",
    "\n",
    "            1, # just a dummy value.\n",
    "\n",
    "            # phase:\n",
    "            (s.data[band].MJD[i2]-s.Tmax)/((1+s.z)*s.ks_s),\n",
    "\n",
    "            # Abs mag: kcorrected, MWdust corrected, and distance\n",
    "            # modulus subtracted:\n",
    "            s.data[band].mag[i2] - s.ks[band][i2] - Alamb - mu_LCDM,\n",
    "\n",
    "            # Total uncertainty for abs mag =\n",
    "            # = (e_mag^2 + e_Alamb^2 + e_kcorr^2)^(-1/2)\n",
    "            np.sqrt((s.data[band].e_mag[i2])**2 + e_Alamb**2 +\n",
    "            err_kcorr**2 ),\n",
    "\n",
    "            # Apparent magnitude: MWdust corrected\n",
    "            s.data[band].mag[i2] - s.ks[band][i2] - Alamb,\n",
    "\n",
    "            # Apparent magnitude error\n",
    "            np.sqrt((s.data[band].e_mag[i2])**2 + e_Alamb**2),\n",
    "\n",
    "            # k-corr\n",
    "            s.ks[band][i2],\n",
    "\n",
    "            # k-corr error\n",
    "            err_kcorr  ])\n",
    "            # <<----- numpy array: ends ---\n",
    "\n",
    "            # print \"%s index\"%i\n",
    "            if i2 == 0:\n",
    "                data_band_np = data_np\n",
    "            elif i2 > 0:\n",
    "                data_band_np = np.vstack((data_band_np, data_np))\n",
    "\n",
    "            count_AllNumDataInLC += 1\n",
    "            count_NumDataInLC += 1 \n",
    "            \n",
    "        #------------------------\n",
    "        \n",
    "        # Save to a new array, 'data_all_np', all the -good- photometry \n",
    "        # in a given band:\n",
    "\n",
    "        CountNumSimilarBands=1\n",
    "\n",
    "        if CountNumSimilarBands == 1:\n",
    "            data_all_np = data_band_np\n",
    "        else:\n",
    "            data_all_np =  np.vstack((data_all_np , data_band_np))\n",
    "\n",
    "        #--------------------------------------------------------\n",
    "        # Sort the data based on the phase values.\n",
    "        \n",
    "        try:\n",
    "            # Sort the array in increasing order of phase.\n",
    "            data_all_2_np = np.sort(data_all_np.view('f8,f8,f8,f8,f8,f8,f8,f8'), \n",
    "                                    order=['f1'], axis=0).view(np.float)\n",
    "\n",
    "            if debug: print(\"Step 15. All %s data sorted; \\\n",
    "        done.\"%len(data_all_2_np))\n",
    "\n",
    "        # When there is just one datum in the LC:\n",
    "        except:\n",
    "            data_all_2_np = data_all_np\n",
    "            if debug: print(\"Step 15. Only one datum in the photometry; done.\")\n",
    "        \n",
    "        #--------------------------------------------------------\n",
    "        # Write the photmetry with my format.\n",
    "        \n",
    "        SN_txtfile = open(dir_save_output+snname[0:-5]+'_myformat.txt', 'w')\n",
    "        \n",
    "        #----------- Write header -----------\n",
    "        \n",
    "        SN_txtfile.write(\"# {0} \\n\".format(s.name))\n",
    "        SN_txtfile.write(\"%-13.6f  %.6f  %.6f  %.6f  -1       -1  -1 # \\\n",
    "(zcmb, err_zcmb, zhelio, err_zhelio) \\n\"%(\n",
    "                            s.zcmb, err_zcmb, s.z, err_zhelio))\n",
    "\n",
    "        SN_txtfile.write(\"%-13.6f  %.6f  %.6f   -1       -1       -1  -1 # \\\n",
    "(dm15, err_dm15, stretch) \\n\"%(\n",
    "                            s.dm15, s.e_dm15, s.ks_s))\n",
    "\n",
    "        SN_txtfile.write(\"%-13.6f  %.6f  %.6f  -1       -1       -1  -1 # \\\n",
    "(mu_Snoopy, err_mu_Snoopy, mu_LCDM) \\n\"%(\n",
    "                            s.DM, s.e_DM, mu_LCDM))\n",
    "\n",
    "        SN_txtfile.write(\"%-13.6f  %.6f  %.6f  %.6f  %.6f -1  -1 # \\\n",
    "(E(B-V)_MW, err_E(B-V)_MW, Alamb, err_Alamb, R_F) \\n\"%(\n",
    "                            s.EBVgal, s.e_EBVgal, Alamb, e_Alamb, R_F))\n",
    "\n",
    "        SN_txtfile.write(\"%-13.6f  %.6f  -1        -1        -1       -1  -1 # \\\n",
    "(E(B-V)_host, err_E(B-V)_host) \\n\"%(\n",
    "                            s.EBVhost, s.e_EBVhost))\n",
    "\n",
    "        SN_txtfile.write(\"%-13.6f  %.6f  -1        -1        -1       -1  -1 # \\\n",
    "(T_Bmax, err_T_Bmax) \\n\"%(s.Tmax, s.e_Tmax))\n",
    "\n",
    "        SN_txtfile.write(\"-1  -1  -1  -1  -1  -1  -1 # Free slot \\n\")\n",
    "        SN_txtfile.write(\"-1  -1  -1  -1  -1  -1  -1 # Free slot \\n\")\n",
    "\n",
    "        SN_txtfile.write(\"# Assuming flat LCDM with (Om={0}, OL={1}, w={2}, \\\n",
    "Ho={3}) \\n\".format(OmMFix, OmLFix, wFix, HoFix))\n",
    "\n",
    "        SN_txtfile.write('#------------------------------------------------- \\n')\n",
    "        SN_txtfile.write(\"#  %s \\n\"%band)\n",
    "        SN_txtfile.write('#Phase(TBmax) Abs mag  Err_Absmag  App mag  \\\n",
    "Err_appmag   kcorr    err_kcorr  \\n')\n",
    "        \n",
    "        #----------- Write photometry -----------\n",
    "        \n",
    "        for i3 in range(len(data_all_2_np)):\n",
    "            CommentText = ''\n",
    "            SN_txtfile.write(\"%s%-9.5f   %.6f  %.6f  %.6f  %.6f  %10.6f  %.6f\\n\"%(\n",
    "                    CommentText,\n",
    "                    data_all_2_np[i3][1], data_all_2_np[i3][2], data_all_2_np[i3][3],\n",
    "                    data_all_2_np[i3][4], data_all_2_np[i3][5], data_all_2_np[i3][6],\n",
    "                    data_all_2_np[i3][7]) )\n",
    "            \n",
    "        SN_txtfile.close();\n",
    "        \n",
    "        #--------------------------------------------------------\n",
    "    \n",
    "    print('\\n')\n",
    "\n",
    "#-----------------------------------------------------------------------------80\n",
    "\n",
    "textfile_1.close();\n",
    "textfile_2.close();"
   ]
  },
  {
   "cell_type": "code",
   "execution_count": null,
   "metadata": {},
   "outputs": [],
   "source": [
    "textfile_1.close();textfile_1.close();textfile_1.close();\n",
    "textfile_2.close();textfile_2.close();textfile_2.close();"
   ]
  },
  {
   "cell_type": "code",
   "execution_count": null,
   "metadata": {},
   "outputs": [],
   "source": []
  },
  {
   "cell_type": "code",
   "execution_count": null,
   "metadata": {},
   "outputs": [],
   "source": [
    "            for i1 in range(len(data_all_2_np)):\n",
    "                if data_all_2_np[i1][0] == 0: CommentText = ''\n",
    "                else: CommentText = ''\n",
    "                SN_txtfile.write(\"%s%-9.5f   %.6f  %.6f  %.6f  %.6f  %10.6f  %.6f\\n\"%(\n",
    "                        CommentText,\n",
    "                        data_all_2_np[i1][1], data_all_2_np[i1][2], data_all_2_np[i1][3],\n",
    "                        data_all_2_np[i1][4], data_all_2_np[i1][5], data_all_2_np[i1][6],\n",
    "                        data_all_2_np[i1][7]) )"
   ]
  },
  {
   "cell_type": "code",
   "execution_count": null,
   "metadata": {},
   "outputs": [],
   "source": [
    "            if data_all_np[0] == 0: CommentText = ''\n",
    "            else: CommentText = ''\n",
    "            SN_txtfile.write(\"%s%-9.5f   %.6f  %.6f  %.6f  %.6f  %10.6f  %.6f\\n\"%(\n",
    "                        CommentText,\n",
    "                        data_all_np[1], data_all_np[2], data_all_np[3],\n",
    "                        data_all_np[4], data_all_np[5], data_all_np[6],\n",
    "                        data_all_np[7]))"
   ]
  },
  {
   "cell_type": "code",
   "execution_count": null,
   "metadata": {},
   "outputs": [],
   "source": []
  },
  {
   "cell_type": "code",
   "execution_count": null,
   "metadata": {},
   "outputs": [],
   "source": [
    "np.array([])"
   ]
  },
  {
   "cell_type": "code",
   "execution_count": null,
   "metadata": {},
   "outputs": [],
   "source": []
  },
  {
   "cell_type": "code",
   "execution_count": null,
   "metadata": {},
   "outputs": [],
   "source": []
  },
  {
   "cell_type": "code",
   "execution_count": null,
   "metadata": {},
   "outputs": [],
   "source": []
  },
  {
   "cell_type": "code",
   "execution_count": null,
   "metadata": {},
   "outputs": [],
   "source": []
  },
  {
   "cell_type": "code",
   "execution_count": null,
   "metadata": {},
   "outputs": [],
   "source": []
  },
  {
   "cell_type": "markdown",
   "metadata": {},
   "source": [
    "---"
   ]
  },
  {
   "cell_type": "code",
   "execution_count": null,
   "metadata": {},
   "outputs": [],
   "source": [
    "s=get_sn(snname)"
   ]
  },
  {
   "cell_type": "code",
   "execution_count": null,
   "metadata": {},
   "outputs": [],
   "source": [
    "s.summary()"
   ]
  },
  {
   "cell_type": "code",
   "execution_count": null,
   "metadata": {},
   "outputs": [],
   "source": [
    "# Check if the LC file has data in band I'm interested, and if\n",
    "# there are enough data in that band.\n",
    "\n",
    "if (band in s.data.keys() and \n",
    "    len(s.data[band].MJD) >= MinNumberOfDataInLCs):\n",
    "    \n",
    "    #------- The extinction A_lambda --------\n",
    "    R_F = fset[band].R(wave=Ia_w, flux=Ia_f, Rv=3.1)\n",
    "    Alamb = R_F * s.EBVgal\n",
    "    e_Alamb = R_F * s.e_EBVgal\n",
    "\n",
    "    #------- LCDM distance modulus\n",
    "    mu_LCDM = DistanceMu(s.zcmb, OmMFix, wFix, HoFix)\n",
    "    \n",
    "    print(\"hola\")"
   ]
  },
  {
   "cell_type": "code",
   "execution_count": null,
   "metadata": {},
   "outputs": [],
   "source": []
  },
  {
   "cell_type": "code",
   "execution_count": null,
   "metadata": {},
   "outputs": [],
   "source": [
    "# Write the metadata in the header's file.\n",
    "\n",
    "SN_txtfile = open(DirSaveOutput+snname[0:-5]+'_my.txt', 'w')\n",
    "SN_txtfile.write(\"# {0} \\n\".format(s.name))\n",
    "SN_txtfile.write(\"%-13.6f  %.6f  %.6f  %.6f  -1       -1  -1 # \\\n",
    "(zcmb, err_zcmb, zhelio, err_zhelio) \\n\"%(\n",
    "                    s.zcmb, err_zcmb, s.z, err_zhelio))\n",
    "\n",
    "SN_txtfile.write(\"%-13.6f  %.6f  %.6f   -1       -1       -1  -1 # \\\n",
    "(dm15, err_dm15, stretch) \\n\"%(\n",
    "                    s.dm15, s.e_dm15, s.ks_s))\n",
    "\n",
    "SN_txtfile.write(\"%-13.6f  %.6f  %.6f  -1       -1       -1  -1 # \\\n",
    "(mu_Snoopy, err_mu_Snoopy, mu_LCDM) \\n\"%(\n",
    "                    s.DM, s.e_DM, mu_LCDM))\n",
    "\n",
    "SN_txtfile.write(\"%-13.6f  %.6f  %.6f  %.6f  %.6f -1  -1 # \\\n",
    "(E(B-V)_MW, err_E(B-V)_MW, Alamb, err_Alamb, R_F) \\n\"%(\n",
    "                    s.EBVgal, s.e_EBVgal, Alamb, e_Alamb, R_F))\n",
    "\n",
    "SN_txtfile.write(\"%-13.6f  %.6f  -1        -1        -1       -1  -1 # \\\n",
    "(E(B-V)_host, err_E(B-V)_host) \\n\"%(\n",
    "                    s.EBVhost, s.e_EBVhost))\n",
    "\n",
    "SN_txtfile.write(\"%-13.6f  %.6f  -1        -1        -1       -1  -1 # \\\n",
    "(T_Bmax, err_T_Bmax) \\n\"%(s.Tmax, s.e_Tmax))\n",
    "\n",
    "SN_txtfile.write(\"-1  -1  -1  -1  -1  -1  -1 # Free slot \\n\")\n",
    "SN_txtfile.write(\"-1  -1  -1  -1  -1  -1  -1 # Free slot \\n\")\n",
    "\n",
    "SN_txtfile.write(\"# Assuming flat LCDM with (Om={0}, OL={1}, w={2}, \\\n",
    "Ho={3}) \\n\".format(OmMFix, OmLFix, wFix, HoFix))\n",
    "\n",
    "SN_txtfile.write('#------------------------------------------------- \\n')\n",
    "SN_txtfile.write(\"#  %s \\n\"%band)\n",
    "SN_txtfile.write('#Phase(TBmax) Abs mag  Err_Absmag  App mag  \\\n",
    "Err_appmag   kcorr    err_kcorr  \\n')\n",
    "\n",
    "#--------------------------------------------\n",
    "SN_txtfile.close()"
   ]
  },
  {
   "cell_type": "code",
   "execution_count": null,
   "metadata": {},
   "outputs": [],
   "source": [
    "SN_txtfile.close();SN_txtfile.close();SN_txtfile.close();"
   ]
  },
  {
   "cell_type": "code",
   "execution_count": null,
   "metadata": {},
   "outputs": [],
   "source": [
    "# Save the photometry to a numpy array.\n",
    "# Each row in the 'data_band_np' numpy array will have the data:\n",
    "#(Phase(TBmax), Abs mag, Err_Absmag, App mag, Err_appmag, kcorr, err_kcorr)\n",
    "              \n",
    "count_AllNumDataInLC = 0\n",
    "count_NumDataInLC = 0\n",
    "\n",
    "# Loop over MJD in a given band\n",
    "for i in range(len(s.data[band].MJD)): \n",
    "\n",
    "    # ---- numpy array: begins ---->>\n",
    "    data_np = np.array([ \n",
    "\n",
    "    1, # just a dummy value.\n",
    "\n",
    "    # phase:\n",
    "    (s.data[band].MJD[i]-s.Tmax)/((1+s.z)*s.ks_s),\n",
    "\n",
    "    # Abs mag: kcorrected, MWdust corrected, and distance\n",
    "    # modulus subtracted:\n",
    "    s.data[band].mag[i] - s.ks[band][i] - Alamb - mu_LCDM,\n",
    "\n",
    "    # Total uncertainty for abs mag =\n",
    "    # = (e_mag^2 + e_Alamb^2 + e_kcorr^2)^(-1/2)\n",
    "    np.sqrt((s.data[band].e_mag[i])**2 + e_Alamb**2 +\n",
    "    err_kcorr**2 ),\n",
    " \n",
    "    # Apparent magnitude: MWdust corrected\n",
    "    s.data[band].mag[i] - s.ks[band][i] - Alamb,\n",
    " \n",
    "    # Apparent magnitude error\n",
    "    np.sqrt((s.data[band].e_mag[i])**2 + e_Alamb**2),\n",
    " \n",
    "    # k-corr\n",
    "    s.ks[band][i],\n",
    " \n",
    "    # k-corr error\n",
    "    err_kcorr  ])\n",
    "    # <<----- numpy array: ends ---\n",
    "    \n",
    "    \n",
    "    # print \"%s index\"%i\n",
    "    if i==0:\n",
    "        data_band_np = data_np\n",
    "        # print data_band_np\n",
    "    elif i>0:\n",
    "        data_band_np = np.vstack((data_band_np, data_np))\n",
    "        # print data_band_np\n",
    "\n",
    "    count_AllNumDataInLC += 1\n",
    "    count_NumDataInLC += 1 "
   ]
  },
  {
   "cell_type": "code",
   "execution_count": null,
   "metadata": {},
   "outputs": [],
   "source": [
    "data_band_np"
   ]
  },
  {
   "cell_type": "code",
   "execution_count": null,
   "metadata": {},
   "outputs": [],
   "source": []
  },
  {
   "cell_type": "code",
   "execution_count": null,
   "metadata": {},
   "outputs": [],
   "source": [
    "# Save to a new array, 'data_all_np', all the -good- photometry \n",
    "# in a given band:\n",
    "\n",
    "CountNumSimilarBands=1\n",
    "\n",
    "if CountNumSimilarBands == 1:\n",
    "    data_all_np = data_band_np\n",
    "else:\n",
    "    data_all_np =  np.vstack((data_all_np , data_band_np))"
   ]
  },
  {
   "cell_type": "code",
   "execution_count": null,
   "metadata": {},
   "outputs": [],
   "source": [
    "SN_txtfile = open(DirSaveOutput+snname[0:-5]+'_my.txt', 'a')\n",
    "\n",
    "try:\n",
    "    # Make a copy to order it\n",
    "    # data_all_2_np = np.array([]) # Reset\n",
    "    # data_all_2_np = data_all_np\n",
    "    # Sort the array in increasing order.\n",
    "    # data_all_2_np[data_all_2_np[:,1].argsort()]\n",
    "    # test6[test6[:,1].argsort()]\n",
    "\n",
    "    # Sort the array in increasing order of phase.\n",
    "    data_all_2_np = np.sort(data_all_np.view('f8,f8,f8,f8,f8,f8,f8,f8'), \n",
    "                            order=['f1'], axis=0).view(np.float)\n",
    "\n",
    "    for i1 in range(len(data_all_2_np)):\n",
    "        if data_all_2_np[i1][0] == 0: CommentText = ''\n",
    "        else: CommentText = ''\n",
    "        SN_txtfile.write(\"%s%-9.5f   %.6f  %.6f  %.6f  %.6f  %10.6f  %.6f\\n\"%(\n",
    "                CommentText,\n",
    "                data_all_2_np[i1][1], data_all_2_np[i1][2], data_all_2_np[i1][3],\n",
    "                data_all_2_np[i1][4], data_all_2_np[i1][5], data_all_2_np[i1][6],\n",
    "                data_all_2_np[i1][7]) )\n",
    "\n",
    "    if debug: print(\"Step 15. All %s data  written to the text file; \\\n",
    "done.\"%len(data_all_2_np))\n",
    "\n",
    "# When there is just one datum in the LC:\n",
    "except:\n",
    "    if data_all_np[0] == 0: CommentText = ''\n",
    "    else: CommentText = ''\n",
    "    SN_txtfile.write(\"%s%-9.5f   %.6f  %.6f  %.6f  %.6f  %10.6f  %.6f\\n\"%(\n",
    "                CommentText,\n",
    "                data_all_np[1], data_all_np[2], data_all_np[3],\n",
    "                data_all_np[4], data_all_np[5], data_all_np[6],\n",
    "                data_all_np[7]))\n",
    "    if debug: print(\"Step 15. Only one datum written to the text file; done.\")\n",
    "\n",
    "\n",
    "SN_txtfile.close()"
   ]
  },
  {
   "cell_type": "code",
   "execution_count": null,
   "metadata": {},
   "outputs": [],
   "source": [
    "SN_txtfile.close();SN_txtfile.close();SN_txtfile.close()"
   ]
  },
  {
   "cell_type": "code",
   "execution_count": null,
   "metadata": {},
   "outputs": [],
   "source": []
  },
  {
   "cell_type": "code",
   "execution_count": null,
   "metadata": {},
   "outputs": [],
   "source": []
  },
  {
   "cell_type": "code",
   "execution_count": null,
   "metadata": {},
   "outputs": [],
   "source": []
  },
  {
   "cell_type": "code",
   "execution_count": null,
   "metadata": {},
   "outputs": [],
   "source": []
  },
  {
   "cell_type": "code",
   "execution_count": null,
   "metadata": {},
   "outputs": [],
   "source": []
  }
 ],
 "metadata": {
  "kernelspec": {
   "display_name": "Python 3",
   "language": "python",
   "name": "python3"
  },
  "language_info": {
   "codemirror_mode": {
    "name": "ipython",
    "version": 3
   },
   "file_extension": ".py",
   "mimetype": "text/x-python",
   "name": "python",
   "nbconvert_exporter": "python",
   "pygments_lexer": "ipython3",
   "version": "3.7.3"
  }
 },
 "nbformat": 4,
 "nbformat_minor": 4
}
