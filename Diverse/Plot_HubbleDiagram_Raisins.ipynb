{
 "cells": [
  {
   "cell_type": "markdown",
   "metadata": {},
   "source": [
    "# Plot Hubble diagram"
   ]
  },
  {
   "cell_type": "markdown",
   "metadata": {},
   "source": [
    "### User interface"
   ]
  },
  {
   "cell_type": "code",
   "execution_count": 1,
   "metadata": {
    "collapsed": false
   },
   "outputs": [],
   "source": [
    "# Peculiar velocity. This is used only in the part where I compute\n",
    "# the intrinsic dispersion. 150 km/s is the value I used to GP fit each SN\n",
    "sigma_vpec = 150     # km/s. Usual options (150, 200, 300, 400)\n",
    "\n",
    "#--------------------------------------------\n",
    "\n",
    "# Samples to plot: \n",
    "LowzSample=False\n",
    "raisin_1=False\n",
    "raisin_2=False\n",
    "raisin_1_2 = True\n",
    "\n",
    "# LOW-Z sub-sample:\n",
    "# Sample = 'CfA'\n",
    "# Sample = 'CSP'\n",
    "# Sample = 'Others'\n",
    "Sample = 'AllSamples'\n",
    "\n",
    "BandType = 'Optical'\n",
    "# BandType = 'OpticalNIR'\n",
    "\n",
    "#----------------------\n",
    "\n",
    "PrintNameOutliers = True\n",
    "PrintRMS = False\n",
    "\n",
    "################################\n",
    "# (Fixed) \n",
    "\n",
    "# Intervals for plotting the Hubble diagram\n",
    "\n",
    "# x_interval = (0, 0.065)\n",
    "# x_interval = (0, 0.7)\n",
    "\n",
    "# y_interval = (-1.2, 1.2)\n",
    "y_interval = (-1, 1)\n",
    "\n",
    "#----------------------\n",
    "\n",
    "# Hubble constant (km/(s Mpc)):\n",
    "#    - 70 : SNANA-SALT2 default value\n",
    "#    - 72 : SNoopy  default value\n",
    "#    - 73.24: Adam Riess Cepheid values. This is what I use in the low-z paper.\n",
    "\n",
    "# SNANA-SALT2 default values:\n",
    "HoFix = 70.0 \n",
    "OmMFix = 0.3 # Omega_Matter\n",
    "OmLFix = 0.7 # Omega_Lambda\n",
    "wFix = -1.0 # Dark energy EoS\n",
    "\n",
    "# SNooPy default values\n",
    "# HoFix = 72  \n",
    "# OmMFix = 0.28 # Omega_Matter\n",
    "# OmLFix = 0.72 # Omega_Lambda\n",
    "# wFix = -1 # Dark energy EoS\n",
    "\n",
    "#----------------------\n",
    "\n",
    "# Quality Cutoffs for the low-z sample\n",
    "zcmbMin = 0.0;  zcmbMax = 0.06\n",
    "dm15Min = 0.80;  dm15Max = 1.60\n",
    "EBVhostMax = 0.4\n",
    "EBV_mwMax  = 1.0\n",
    "\n",
    "################################\n",
    "\n",
    "#--- Fixed values ---\n",
    "cc = 299792.458  # Speed of light (km/s)\n",
    "\n",
    "#--- Uncertainty in z_CMB:---\n",
    "\n",
    "# Dan Scolnic gave me the value of err_cz_CMB = 150 km/s about the collection \n",
    "# of z_CMB values he provided me.\n",
    "err_cz_CMB = 150 # km/s. \n",
    "\n",
    "err_zCMB_fix = err_cz_CMB/cc"
   ]
  },
  {
   "cell_type": "code",
   "execution_count": 2,
   "metadata": {
    "collapsed": false
   },
   "outputs": [
    {
     "name": "stdout",
     "output_type": "stream",
     "text": [
      "# Directories of the distance-modulus files for the low-z sample:\n",
      "# Directory RAISIN 1-2:\n",
      "/Users/arturo/Dropbox/Research/Articulos/14_RAISINs/Data/raisin12/hubblediagram/salt2_optical_v2/\n",
      "\n",
      " Dir to save the outputs:\n",
      "/Users/arturo/Dropbox/Research/Articulos/14_RAISINs/Data/raisin12/hubblediagram/salt2_optical_v2/plots_HDs_/\n"
     ]
    }
   ],
   "source": [
    "# Defining the directories\n",
    "\n",
    "print '# Directories of the distance-modulus files for the low-z sample:'\n",
    "\n",
    "#----------- RAISIN ------------\n",
    "\n",
    "if raisin_1_2:\n",
    "    file_raisin_1_2 = 'DistanceMu_Good_AfterCutoffs_Main_.txt'\n",
    "    dir_raisin_1_2 = '/Users/arturo/Dropbox/Research/\\\n",
    "Articulos/14_RAISINs/Data/raisin12/hubblediagram/salt2_optical_v2/'\n",
    "    print \"# Directory RAISIN 1-2:\"\n",
    "    print \"%s\"%dir_raisin_1_2\n",
    "\n",
    "if raisin_1:\n",
    "    Dir_raisin_1 = 'Data/RAISIN_1/Data/2017/Snoopy/'+BandType+'/Fit/'\n",
    "    \n",
    "if raisin_2:\n",
    "    Dir_raisin_2 = 'Data/RAISIN_2/Data/2017_03_30/Snoopy_zp27.5/'+BandType+'/Fit/'\n",
    "\n",
    "#----------- LOW-Z ------------\n",
    "\n",
    "if LowzSample:\n",
    "    DirLowzData = '/Users/arturo/Dropbox/Research/SoftwareResearch/Snoopy/AndyLCComp/\\\n",
    "    all/Snoopy_FromMag/2_4RAISINs_old/' \n",
    "    DirMuData_lowz = DirLowzData+Sample+'/'+BandType+'/'\n",
    "\n",
    "#----------- SAVE OUTPUT ------------\n",
    "\n",
    "DirSaveOutput= dir_raisin_1_2+'plots_HDs_/'\n",
    "\n",
    "#- Force the creation of the directory to save the outputs.\n",
    "#- \"If the subdirectory does not exist then create it\"\n",
    "import os # To use command line like instructions\n",
    "if not os.path.exists(DirSaveOutput): os.makedirs(DirSaveOutput)\n",
    "    \n",
    "print '\\n Dir to save the outputs:'\n",
    "print DirSaveOutput\n"
   ]
  },
  {
   "cell_type": "markdown",
   "metadata": {},
   "source": [
    "------"
   ]
  },
  {
   "cell_type": "markdown",
   "metadata": {},
   "source": [
    "# Automatic"
   ]
  },
  {
   "cell_type": "code",
   "execution_count": 6,
   "metadata": {
    "collapsed": true
   },
   "outputs": [
    {
     "data": {
      "text/plain": [
       "9"
      ]
     },
     "execution_count": 6,
     "metadata": {},
     "output_type": "execute_result"
    }
   ],
   "source": [
    "import numpy as np\n",
    "from matplotlib import pyplot as plt\n",
    "from scipy.integrate import quad as intquad\n",
    "from matplotlib import gridspec\n",
    "\n",
    "# To read my own functions\n",
    "import sys\n",
    "sys.path.append('/Users/arturo/Dropbox/Research/Codes_Mains/Python/MyFunctions/github/MyPyFunctions/')\n",
    "\n",
    "# import os\n",
    "# import glob # To read the name of the files in a given directory\n",
    "\n",
    "5+4"
   ]
  },
  {
   "cell_type": "markdown",
   "metadata": {},
   "source": [
    "#### Read the data"
   ]
  },
  {
   "cell_type": "code",
   "execution_count": 7,
   "metadata": {
    "collapsed": false
   },
   "outputs": [
    {
     "data": {
      "text/plain": [
       "0"
      ]
     },
     "execution_count": 7,
     "metadata": {},
     "output_type": "execute_result"
    }
   ],
   "source": [
    "# Read the distance modulus file\n",
    "\n",
    "if raisin_1_2:\n",
    "\n",
    "    mu_data_np = np.genfromtxt(dir_raisin_1_2+file_raisin_1_2, \n",
    "                    dtype=['S32', float,float,float,float,float,float,\n",
    "                                  float,float,float,float,float])\n",
    "\n",
    "\"\"\" \n",
    "Mu_lowz = np.genfromtxt(DirMuData_lowz+'DistanceModulus_.txt', \n",
    "                dtype=['S32', float,float,float,float,float,float,float,float,\n",
    "                              float,float,float,float,float,float,float,float])\n",
    "\n",
    "Mu_raisin1 = np.genfromtxt(Dir_raisin_1+'DistanceModulus_.txt', \n",
    "                dtype=['S32', float,float,float,float,float,float,float,float,\n",
    "                              float,float,float,float,float,float,float,float])\n",
    "\n",
    "Mu_raisin2 = np.genfromtxt(Dir_raisin_2+'DistanceModulus_.txt', \n",
    "                dtype=['S32', float,float,float,float,float,float,float,float,\n",
    "                              float,float,float,float,float,float,float,float])\n",
    "\n",
    "\n",
    "\n",
    "Mu_raisin1Snana = np.genfromtxt(Dir_raisin1_snana+'SALT2mu.fitres', skip_header=2,\n",
    "                dtype=['S4', 'S13', \n",
    "                      float, float, float, float, float, float, float, float, float, float,\n",
    "                      float, float, float, float, float, float, float, float, float, float,\n",
    "                      float, float, float, float, float, float, float, float, float])  \"\"\"\n",
    "0"
   ]
  },
  {
   "cell_type": "code",
   "execution_count": 8,
   "metadata": {
    "collapsed": false
   },
   "outputs": [
    {
     "data": {
      "text/plain": [
       "('snPSc440005', 0.306, 0.001, 40.98658, 0.12904, -0.018525, 0.61, 2., 21.9781, 0.0484, 41.00510104, 0.00793502)"
      ]
     },
     "execution_count": 8,
     "metadata": {},
     "output_type": "execute_result"
    }
   ],
   "source": [
    "mu_data_np[0]\n",
    "\n",
    "# ('snPSc440005', 0.306, 0.001, 40.98658, 0.12904, -0.018525, 0.61, 2., 21.9781, 0.0484, 41.00510104, 0.00793502)"
   ]
  },
  {
   "cell_type": "code",
   "execution_count": null,
   "metadata": {
    "collapsed": true
   },
   "outputs": [],
   "source": []
  },
  {
   "cell_type": "markdown",
   "metadata": {},
   "source": [
    "### The theory"
   ]
  },
  {
   "cell_type": "code",
   "execution_count": 9,
   "metadata": {},
   "outputs": [
    {
     "name": "stdout",
     "output_type": "stream",
     "text": [
      "33.17531838091242\n"
     ]
    }
   ],
   "source": [
    "from distMuLCDM import DistanceMu\n",
    "\n",
    "# Test\n",
    "ztest1 = 0.01\n",
    "print DistanceMu(ztest1, OmMFix, wFix, HoFix)\n",
    "# 33.17531838091242"
   ]
  },
  {
   "cell_type": "code",
   "execution_count": 10,
   "metadata": {},
   "outputs": [
    {
     "data": {
      "text/plain": [
       "0.22830908294312313"
      ]
     },
     "execution_count": 10,
     "metadata": {},
     "output_type": "execute_result"
    }
   ],
   "source": [
    "from sigmasSNeIa import sigma_mu_vpec\n",
    "\n",
    "# Test\n",
    "sigma_mu_vpec(0.0109942726, 0.0010420420, 150.0)\n",
    "# 0.22830908294312313"
   ]
  },
  {
   "cell_type": "markdown",
   "metadata": {},
   "source": [
    "-------"
   ]
  },
  {
   "cell_type": "markdown",
   "metadata": {},
   "source": [
    "# Plot Hubble diagram and residual"
   ]
  },
  {
   "cell_type": "code",
   "execution_count": 11,
   "metadata": {},
   "outputs": [],
   "source": [
    "# Define the input data as numpy arrays\n",
    "\n",
    "zcmb_np = mu_data_np['f1']\n",
    "mu_np = mu_data_np['f3']\n",
    "err_mu_np = mu_data_np['f4']\n",
    "res_mu_np = mu_data_np['f5']\n",
    "sampleflag_np = mu_data_np['f7']"
   ]
  },
  {
   "cell_type": "markdown",
   "metadata": {},
   "source": [
    "### Main: plot"
   ]
  },
  {
   "cell_type": "code",
   "execution_count": 24,
   "metadata": {},
   "outputs": [
    {
     "name": "stdout",
     "output_type": "stream",
     "text": [
      "The autoreload extension is already loaded. To reload it, use:\n",
      "  %reload_ext autoreload\n"
     ]
    }
   ],
   "source": [
    "%load_ext autoreload"
   ]
  },
  {
   "cell_type": "code",
   "execution_count": 25,
   "metadata": {},
   "outputs": [],
   "source": [
    "%autoreload 1"
   ]
  },
  {
   "cell_type": "code",
   "execution_count": 26,
   "metadata": {},
   "outputs": [],
   "source": [
    "%aimport plotHubbleDiagram"
   ]
  },
  {
   "cell_type": "code",
   "execution_count": 27,
   "metadata": {},
   "outputs": [],
   "source": [
    "# Run my function to create the Hubble diagram and residual plots\n",
    "\n",
    "plotHubbleDiagram.plotHD(zcmb_np, mu_np, err_mu_np, res_mu_np, sampleflag_np)"
   ]
  },
  {
   "cell_type": "code",
   "execution_count": 28,
   "metadata": {},
   "outputs": [],
   "source": [
    "plt.close();plt.close();plt.close();\n",
    "plt.close();plt.close();plt.close();\n",
    "plt.close();plt.close();plt.close();"
   ]
  },
  {
   "cell_type": "code",
   "execution_count": null,
   "metadata": {},
   "outputs": [],
   "source": []
  },
  {
   "cell_type": "code",
   "execution_count": null,
   "metadata": {},
   "outputs": [],
   "source": [
    "?plotHubbleDiagram.plotHD"
   ]
  },
  {
   "cell_type": "code",
   "execution_count": null,
   "metadata": {},
   "outputs": [],
   "source": [
    "help(np.genfromtxt)"
   ]
  },
  {
   "cell_type": "code",
   "execution_count": null,
   "metadata": {},
   "outputs": [],
   "source": [
    "help(plt.plot)"
   ]
  },
  {
   "cell_type": "code",
   "execution_count": null,
   "metadata": {},
   "outputs": [],
   "source": []
  }
 ],
 "metadata": {
  "kernelspec": {
   "display_name": "Python 2",
   "language": "python",
   "name": "python2"
  },
  "language_info": {
   "codemirror_mode": {
    "name": "ipython",
    "version": 2
   },
   "file_extension": ".py",
   "mimetype": "text/x-python",
   "name": "python",
   "nbconvert_exporter": "python",
   "pygments_lexer": "ipython2",
   "version": "2.7.14"
  }
 },
 "nbformat": 4,
 "nbformat_minor": 2
}
