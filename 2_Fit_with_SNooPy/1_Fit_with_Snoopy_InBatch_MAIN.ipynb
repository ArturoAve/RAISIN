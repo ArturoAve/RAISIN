{
 "cells": [
  {
   "cell_type": "markdown",
   "metadata": {},
   "source": [
    "# Fit supernovae with SNooPy in batch\n",
    "\n",
    "Python 3.7 Anaconda\n",
    "\n",
    "NOTES:\n",
    "\n",
    "- Probably I have a bug because when I specify to fit all the optical+nir\n",
    "bands by listing all the bands explicitly, then with RAISIN-1 I couldn't\n",
    "fit any supernova. However, when I don't specify expliclity all the bands\n",
    "(then my script consider this as to fit all the bands), then I can\n",
    "fit all the supernovae with no issue. Check this."
   ]
  },
  {
   "cell_type": "code",
   "execution_count": 1,
   "metadata": {},
   "outputs": [
    {
     "name": "stdout",
     "output_type": "stream",
     "text": [
      "/Users/arturo/Dropbox/Research/Codes_Mains/Python/MyFunctions/github/MyPyFuns/SNeIa\n",
      "/Users/arturo/Dropbox/Research/Articulos/18_RAISINs/Codes/github/RAISIN\n"
     ]
    }
   ],
   "source": [
    "from snpy import *\n",
    "from matplotlib import pyplot as plt\n",
    "import numpy as np\n",
    "import datetime # Get the current date and time\n",
    "import os\n",
    "\n",
    "#----------------------\n",
    "%cd /Users/arturo/Dropbox/Research/Codes_Mains/Python/MyFunctions/github/MyPyFuns/SNeIa/\n",
    "import mysnpyfunc # My snoopy functions\n",
    "\n",
    "%cd /Users/arturo/Dropbox/Research/Articulos/18_RAISINs/Codes/github/RAISIN/\n",
    "\n",
    "#----------------------\n",
    "# import random # To compute k-corr uncertainties\n",
    "# import json # To save the simulated mag and k-corr uncertainties.\n",
    "\n",
    "# from scipy.integrate import quad as intquad # To integrate\n",
    "# import matplotlib as plt\n",
    "\n",
    "# import glob # To read the files in my directory\n",
    "\n",
    "# %pylab qt \n",
    "# For CANOPY python: to show the plots in a separated Windows instead of inline.\n",
    "# If used, then I don't have to put the instruction \"plt.close()\" at\n",
    "# the end of the plot because it will show the figure and instantaneously \n",
    "# close the windows too.\n",
    "\n",
    "#--------------------------------------------------------60\n",
    "code_created_by = 'Arturo_Avelino'\n",
    "# On date: '2019.06.17' (yyyy.mm.dd)\n",
    "code_name = '1_Fit_with_Snoopy_InBatch_MAIN.ipynb'\n",
    "code_version = '0.1.6'\n",
    "code_last_update = '2019.10.04'"
   ]
  },
  {
   "cell_type": "code",
   "execution_count": 2,
   "metadata": {},
   "outputs": [],
   "source": [
    "##############################################################################80"
   ]
  },
  {
   "cell_type": "markdown",
   "metadata": {},
   "source": [
    "# User"
   ]
  },
  {
   "cell_type": "markdown",
   "metadata": {},
   "source": [
    "Change to the directory where the LCs files are located:"
   ]
  },
  {
   "cell_type": "code",
   "execution_count": 22,
   "metadata": {},
   "outputs": [],
   "source": [
    "listSNe_file = 'list_SNe_J.txt'\n",
    "\n",
    "dir_data = '/Users/arturo/Documents/Research/Workplace/raisin/raisin12/2019_09_06/data/'\n",
    "\n",
    "os.chdir(dir_data)\n",
    "\n",
    "#--------------------------------------------------------60\n",
    "#     Settings about the fit\n",
    "\n",
    "# Options: ('EBV_model', 'EBV_model2', 'max_model')\n",
    "model_to_fit = 'EBV_model'\n",
    "\n",
    "# Apply mangling to compute the k-corrections?:\n",
    "mangled_kcorr=False\n",
    "\n",
    "#----- Bands to fit-----\n",
    "#      RAISIN-2\n",
    "# bands_to_fit=['g_des', 'r_des', 'i_des','z_des', 'f125w','f160w']\n",
    "# bands_to_fit=['r_des', 'i_des', 'z_des', 'f125w', 'f160w']\n",
    "# bands_to_fit=['g_des', 'r_des', 'i_des', 'z_des']\n",
    "# bands_to_fit=['r_des', 'i_des', 'z_des']\n",
    "# bands_to_fit=['f125w','f160w']\n",
    "bands_to_fit=['f160w']\n",
    "\n",
    "#      RAISIN-1\n",
    "# bands_to_fit=['g_ps1', 'r_ps1', 'i_ps1', 'z_ps1', 'f125w', 'f160w']\n",
    "# bands_to_fit=['r_ps1', 'i_ps1', 'z_ps1', 'f125w', 'f160w']\n",
    "# bands_to_fit=['g_ps1', 'r_ps1', 'i_ps1', 'z_ps1']\n",
    "# bands_to_fit=['r_ps1', 'i_ps1', 'z_ps1']\n",
    "# bands_to_fit=['f125w','f160w']\n",
    "# bands_to_fit=['f160w']\n",
    "\n",
    "# NOTE: If \"bands_to_fit\" is commented out in the loop BELOW then all band \n",
    "# in the LC data file are fitted.\n",
    "\n",
    "#-------------------------------------\n",
    "# Specify the match between observer to rest-frame bands to use:\n",
    "\n",
    "obs_rest_bands = [['f160w', 'J']]"
   ]
  },
  {
   "cell_type": "code",
   "execution_count": 23,
   "metadata": {},
   "outputs": [],
   "source": [
    "# ls"
   ]
  },
  {
   "cell_type": "code",
   "execution_count": 24,
   "metadata": {},
   "outputs": [],
   "source": [
    "# pwd"
   ]
  },
  {
   "cell_type": "markdown",
   "metadata": {},
   "source": [
    "# Automatic"
   ]
  },
  {
   "cell_type": "code",
   "execution_count": 25,
   "metadata": {},
   "outputs": [
    {
     "data": {
      "text/plain": [
       "12"
      ]
     },
     "execution_count": 25,
     "metadata": {},
     "output_type": "execute_result"
    }
   ],
   "source": [
    "# Read the list of SNe to fit:\n",
    "\n",
    "list_sne = np.genfromtxt(listSNe_file, dtype=['S22', float, float])\n",
    "len(list_sne)"
   ]
  },
  {
   "cell_type": "code",
   "execution_count": 26,
   "metadata": {},
   "outputs": [
    {
     "data": {
      "text/plain": [
       "array([(b'PScA470041_snoopy.dat', 56302.418, 0.72883754),\n",
       "       (b'PScA470110_snoopy.dat', 56313.734, 1.08532834),\n",
       "       (b'PScB480464_snoopy.dat', 56342.102, 0.84423315),\n",
       "       (b'PScB480794_snoopy.dat', 56348.414, 0.84423449),\n",
       "       (b'PScC490521_snoopy.dat', 56370.41 , 1.00785392),\n",
       "       (b'PScD500100_snoopy.dat', 56391.82 , 1.03612087),\n",
       "       (b'PScD500301_snoopy.dat', 56405.684, 0.85639656),\n",
       "       (b'PScF520062_snoopy.dat', 56456.52 , 1.0165001 ),\n",
       "       (b'PScF520188_snoopy.dat', 56482.664, 1.05097709),\n",
       "       (b'PScH540087_snoopy.dat', 56520.648, 1.02823987),\n",
       "       (b'PScJ440005_snoopy.dat', 56219.309, 1.03570174),\n",
       "       (b'PScK450082_snoopy.dat', 56246.934, 0.93918817)],\n",
       "      dtype=[('f0', 'S22'), ('f1', '<f8'), ('f2', '<f8')])"
      ]
     },
     "execution_count": 26,
     "metadata": {},
     "output_type": "execute_result"
    }
   ],
   "source": [
    "list_sne"
   ]
  },
  {
   "cell_type": "markdown",
   "metadata": {},
   "source": [
    "Define the directory where I'll save the data:"
   ]
  },
  {
   "cell_type": "code",
   "execution_count": 27,
   "metadata": {},
   "outputs": [],
   "source": [
    "dir_save_output = '/Users/arturo/Documents/Research/Workplace/raisin/\\\n",
    "raisin12/2019_09_06/fits/current/'\n",
    "\n",
    "if not os.path.exists(dir_save_output):\n",
    "    os.makedirs(dir_save_output)"
   ]
  },
  {
   "cell_type": "code",
   "execution_count": 28,
   "metadata": {},
   "outputs": [],
   "source": [
    "#-----------------------------------------------------------------------------80"
   ]
  },
  {
   "cell_type": "markdown",
   "metadata": {},
   "source": [
    "### Main loop"
   ]
  },
  {
   "cell_type": "code",
   "execution_count": 29,
   "metadata": {},
   "outputs": [
    {
     "name": "stdout",
     "output_type": "stream",
     "text": [
      "      PScA470041_snoopy.dat : I'll try to fit it.\n",
      "--------------------------------------------------------------------------------\n",
      "SN  PScA470041\n",
      "z = 0.3310          ra=131.33750         dec= 44.75480 EBV_MW = 0.0240 +/- 0.0006 \n",
      "Data in the following bands: f125w,  f160w,  g_ps1,  r_ps1,  i_ps1,  z_ps1,  \n",
      "Fit results (if any):\n",
      "   DM = 40.296  +/-  0.169  +/- 0.093 (sys)\n",
      "   dm15 = 0.729  +/-  0.000  +/- 0.060 (sys)\n",
      "   EBVhost = 0.000  +/-  0.000  +/- 0.060 (sys)\n",
      "   Tmax = 56302.418  +/-  0.000  +/- 0.340 (sys)\n",
      "#- PScA470041 fitted with no issues.\n",
      "\n",
      "      PScA470110_snoopy.dat : I'll try to fit it.\n",
      "--------------------------------------------------------------------------------\n",
      "SN  PScA470110\n",
      "z = 0.3460          ra= 52.07060         dec=-28.62330 EBV_MW = 0.0083 +/- 0.0007 \n",
      "Data in the following bands: f125w,  f160w,  g_ps1,  r_ps1,  i_ps1,  z_ps1,  \n",
      "Fit results (if any):\n",
      "   DM = 41.371  +/-  0.030  +/- 0.075 (sys)\n",
      "   dm15 = 1.085  +/-  0.000  +/- 0.060 (sys)\n",
      "   EBVhost = 0.000  +/-  0.000  +/- 0.060 (sys)\n",
      "   Tmax = 56313.734  +/-  0.000  +/- 0.340 (sys)\n",
      "#- PScA470110 fitted with no issues.\n",
      "\n",
      "      PScB480464_snoopy.dat : I'll try to fit it.\n",
      "--------------------------------------------------------------------------------\n",
      "SN  PScB480464\n",
      "z = 0.2215          ra=149.80040         dec=  3.22160 EBV_MW = 0.0195 +/- 0.0002 \n",
      "Data in the following bands: f125w,  f160w,  g_ps1,  r_ps1,  i_ps1,  z_ps1,  \n",
      "Fit results (if any):\n",
      "   DM = 40.552  +/-  0.073  +/- 0.084 (sys)\n",
      "   dm15 = 0.844  +/-  0.000  +/- 0.060 (sys)\n",
      "   EBVhost = 0.000  +/-  0.000  +/- 0.060 (sys)\n",
      "   Tmax = 56342.102  +/-  0.000  +/- 0.340 (sys)\n",
      "#- PScB480464 fitted with no issues.\n",
      "\n",
      "      PScB480794_snoopy.dat : I'll try to fit it.\n",
      "--------------------------------------------------------------------------------\n",
      "SN  PScB480794\n",
      "z = 0.3342          ra=149.54180         dec=  1.36410 EBV_MW = 0.0166 +/- 0.0008 \n",
      "Data in the following bands: f125w,  f160w,  g_ps1,  r_ps1,  i_ps1,  z_ps1,  \n",
      "Fit results (if any):\n",
      "   DM = 41.319  +/-  0.038  +/- 0.084 (sys)\n",
      "   dm15 = 0.844  +/-  0.000  +/- 0.060 (sys)\n",
      "   EBVhost = 0.000  +/-  0.000  +/- 0.060 (sys)\n",
      "   Tmax = 56348.414  +/-  0.000  +/- 0.340 (sys)\n",
      "#- PScB480794 fitted with no issues.\n",
      "\n",
      "      PScC490521_snoopy.dat : I'll try to fit it.\n",
      "--------------------------------------------------------------------------------\n",
      "SN  PScC490521\n",
      "z = 0.3400          ra=148.86520         dec=  1.57530 EBV_MW = 0.0199 +/- 0.0014 \n",
      "Data in the following bands: f125w,  f160w,  g_ps1,  r_ps1,  i_ps1,  z_ps1,  \n",
      "Fit results (if any):\n",
      "   DM = 41.019  +/-  0.135  +/- 0.076 (sys)\n",
      "   dm15 = 1.008  +/-  0.000  +/- 0.060 (sys)\n",
      "   EBVhost = 0.000  +/-  0.000  +/- 0.060 (sys)\n",
      "   Tmax = 56370.410  +/-  0.000  +/- 0.340 (sys)\n",
      "#- PScC490521 fitted with no issues.\n",
      "\n",
      "      PScD500100_snoopy.dat : I'll try to fit it.\n",
      "--------------------------------------------------------------------------------\n",
      "SN  PScD500100\n",
      "z = 0.3110          ra=131.63850         dec= 45.35620 EBV_MW = 0.0241 +/- 0.0006 \n",
      "Data in the following bands: f125w,  f160w,  g_ps1,  r_ps1,  i_ps1,  z_ps1,  \n",
      "Fit results (if any):\n",
      "   DM = 41.078  +/-  0.113  +/- 0.075 (sys)\n",
      "   dm15 = 1.036  +/-  0.000  +/- 0.060 (sys)\n",
      "   EBVhost = 0.000  +/-  0.000  +/- 0.060 (sys)\n",
      "   Tmax = 56391.820  +/-  0.000  +/- 0.340 (sys)\n",
      "#- PScD500100 fitted with no issues.\n",
      "\n",
      "      PScD500301_snoopy.dat : I'll try to fit it.\n",
      "--------------------------------------------------------------------------------\n",
      "SN  PScD500301\n",
      "z = 0.3250          ra=215.54770         dec= 52.63180 EBV_MW = 0.0077 +/- 0.0004 \n",
      "Data in the following bands: f125w,  f160w,  g_ps1,  r_ps1,  i_ps1,  z_ps1,  \n",
      "Fit results (if any):\n",
      "   DM = 40.920  +/-  0.136  +/- 0.083 (sys)\n",
      "   dm15 = 0.856  +/-  0.000  +/- 0.060 (sys)\n",
      "   EBVhost = 0.000  +/-  0.000  +/- 0.060 (sys)\n",
      "   Tmax = 56405.684  +/-  0.000  +/- 0.340 (sys)\n",
      "#- PScD500301 fitted with no issues.\n",
      "\n",
      "      PScF520062_snoopy.dat : I'll try to fit it.\n",
      "--------------------------------------------------------------------------------\n",
      "SN  PScF520062\n",
      "z = 0.3080          ra=244.45140         dec= 54.63340 EBV_MW = 0.0089 +/- 0.0004 \n",
      "Data in the following bands: f125w,  f160w,  g_ps1,  r_ps1,  i_ps1,  z_ps1,  \n",
      "Fit results (if any):\n",
      "   DM = 41.757  +/-  0.189  +/- 0.076 (sys)\n",
      "   dm15 = 1.017  +/-  0.000  +/- 0.060 (sys)\n",
      "   EBVhost = 0.000  +/-  0.000  +/- 0.060 (sys)\n",
      "   Tmax = 56456.520  +/-  0.000  +/- 0.340 (sys)\n",
      "#- PScF520062 fitted with no issues.\n",
      "\n",
      "      PScF520188_snoopy.dat : I'll try to fit it.\n",
      "--------------------------------------------------------------------------------\n",
      "SN  PScF520188\n",
      "z = 0.2830          ra=215.52400         dec= 52.54460 EBV_MW = 0.0078 +/- 0.0004 \n",
      "Data in the following bands: f125w,  f160w,  g_ps1,  r_ps1,  i_ps1,  z_ps1,  \n",
      "Fit results (if any):\n",
      "   DM = 40.517  +/-  0.033  +/- 0.075 (sys)\n",
      "   dm15 = 1.051  +/-  0.000  +/- 0.060 (sys)\n",
      "   EBVhost = 0.000  +/-  0.000  +/- 0.060 (sys)\n",
      "   Tmax = 56482.664  +/-  0.000  +/- 0.340 (sys)\n",
      "#- PScF520188 fitted with no issues.\n",
      "\n",
      "      PScH540087_snoopy.dat : I'll try to fit it.\n",
      "--------------------------------------------------------------------------------\n",
      "SN  PScH540087\n",
      "z = 0.2750          ra=335.37650         dec=  0.12950 EBV_MW = 0.0588 +/- 0.0007 \n",
      "Data in the following bands: f125w,  f160w,  g_ps1,  r_ps1,  i_ps1,  z_ps1,  \n",
      "Fit results (if any):\n",
      "   DM = 41.032  +/-  0.083  +/- 0.076 (sys)\n",
      "   dm15 = 1.028  +/-  0.000  +/- 0.060 (sys)\n",
      "   EBVhost = 0.000  +/-  0.000  +/- 0.060 (sys)\n",
      "   Tmax = 56520.648  +/-  0.000  +/- 0.340 (sys)\n",
      "#- PScH540087 fitted with no issues.\n",
      "\n",
      "      PScJ440005_snoopy.dat : I'll try to fit it.\n",
      "--------------------------------------------------------------------------------\n",
      "SN  PScJ440005\n",
      "z = 0.3060          ra= 52.98930         dec=-28.88360 EBV_MW = 0.0078 +/- 0.0005 \n",
      "Data in the following bands: f125w,  f160w,  g_ps1,  r_ps1,  i_ps1,  z_ps1,  \n",
      "Fit results (if any):\n",
      "   DM = 40.984  +/-  0.129  +/- 0.075 (sys)\n",
      "   dm15 = 1.036  +/-  0.000  +/- 0.060 (sys)\n",
      "   EBVhost = 0.000  +/-  0.000  +/- 0.060 (sys)\n",
      "   Tmax = 56219.309  +/-  0.000  +/- 0.340 (sys)\n",
      "#- PScJ440005 fitted with no issues.\n",
      "\n",
      "      PScK450082_snoopy.dat : I'll try to fit it.\n",
      "--------------------------------------------------------------------------------\n",
      "SN  PScK450082\n",
      "z = 0.2500          ra=353.35600         dec=  0.31050 EBV_MW = 0.0299 +/- 0.0006 \n",
      "Data in the following bands: f125w,  f160w,  g_ps1,  r_ps1,  i_ps1,  z_ps1,  \n",
      "Fit results (if any):\n",
      "   DM = 40.743  +/-  0.033  +/- 0.079 (sys)\n",
      "   dm15 = 0.939  +/-  0.000  +/- 0.060 (sys)\n",
      "   EBVhost = 0.000  +/-  0.000  +/- 0.060 (sys)\n",
      "   Tmax = 56246.934  +/-  0.000  +/- 0.340 (sys)\n",
      "#- PScK450082 fitted with no issues.\n",
      "\n",
      "\n",
      "--- 12 SNe fitted | 0 SNe not fitted ---\n",
      "\n",
      "# Failed 0 SNe:\n",
      "[]\n"
     ]
    }
   ],
   "source": [
    "count_sn = 0\n",
    "count_sn_errors = 0\n",
    "fail_sne = []\n",
    "\n",
    "textfile_1 = open(dir_save_output+'Settings_fits.txt', 'w')\n",
    "textfile_2 = open(dir_save_output+'Failed_fits.log', 'w')\n",
    "\n",
    "textfile_1.write('#       Settings of the fits\\n')\n",
    "textfile_1.write('# Directory where the data is located\\n')\n",
    "textfile_1.write('# %s\\n'%dir_data)\n",
    "\n",
    "textfile_2.write('# Failed supernovae to be fitted:\\n')\n",
    "\n",
    "#--------------------------------------------------------60\n",
    "\n",
    "# Define the header text\n",
    "now = datetime.datetime.now() # Read the time and date right now\n",
    "text_timenow = now.strftime(\"%Y.%m.%d (yyyy.mm.dd); %H:%M hrs (Swiss time).\")\n",
    "text_Date   = '# On date: %s\\n'%text_timenow\n",
    "text_Author = '# Data table created by: %s.\\n'%code_created_by\n",
    "text_script = '# Script used: %s (version %s | last update: %s)\\n'%(\n",
    "    code_name, code_version, code_last_update)\n",
    "text_line = '#'+'-'*57 + '60\\n'\n",
    "\n",
    "# Write the header text\n",
    "textfile_1.write(text_line);\n",
    "textfile_1.write(text_Author); textfile_1.write(text_Date);\n",
    "textfile_1.write(text_script);\n",
    "textfile_1.write(text_line);\n",
    "\n",
    "#--------------------------------------------------------60\n",
    "\n",
    "for i1 in range(len(list_sne)):\n",
    "    \n",
    "    # snname = str(list_sne[i1][0])  # Python 2.7\n",
    "    snname = list_sne[i1][0].decode('UTF-8')  # Python 3.7\n",
    "    print('     ', snname, \": I'll try to fit it.\")\n",
    "    \n",
    "    # t_Bmax fixed: When using a precomputed value for t_Bmax.\n",
    "    t_Bmax = list_sne[i1][1]\n",
    "    \n",
    "    # dm15 fixed\n",
    "    dm15 = list_sne[i1][2]\n",
    "\n",
    "    try:\n",
    "        mysnpyfunc.snpyfit(snname, \n",
    "                         \n",
    "           # Options: ('EBV_model', 'EBV_model2', 'max_model')\n",
    "           model= model_to_fit, \n",
    "                           \n",
    "           mangled_kcorr=mangled_kcorr,\n",
    "                           \n",
    "           # When using a precomputed value for t_Bmax, otherwise\n",
    "           # comment the following line:\n",
    "           Tmax = t_Bmax, \n",
    "                         \n",
    "           dm15 = dm15,\n",
    "                           \n",
    "           EBVhost = 0.0,\n",
    "                          \n",
    "           #------------------------------\n",
    "           # If \"bands_to_fit\" is commented then all band in the \n",
    "           # LC data file are fitted.\n",
    "              \n",
    "           bands_to_fit=bands_to_fit,\n",
    "                           \n",
    "           # Specify the match between observer to rest-frame bands to use:              \n",
    "           obs_rest_bands = obs_rest_bands,\n",
    "                           \n",
    "           #------------------------------\n",
    "                           \n",
    "           num_char_trim=-11,\n",
    "           # debug = True,\n",
    "           dpi_filters = 55,\n",
    "           dir_save_output = dir_save_output  )\n",
    "\n",
    "    #     #-------------------------------------------\n",
    "    \n",
    "        count_sn += 1\n",
    "    \n",
    "    except:\n",
    "        print(\"# %s couldn't be fitted.\\n\"%snname)\n",
    "        fail_sne += [snname]\n",
    "        textfile_2.write('%s\\n'%snname)\n",
    "        count_sn_errors += 1\n",
    "            \n",
    "#--------------------------------------------------------60\n",
    "\n",
    "text_100 = '\\n--- %s SNe fitted | %s SNe not fitted ---\\n'%(\n",
    "    count_sn, count_sn_errors)\n",
    "text_110 = '# Failed %s SNe:'%count_sn_errors\n",
    "\n",
    "textfile_1.write(text_100); textfile_1.write(text_110)\n",
    "\n",
    "print(text_100)\n",
    "print(text_110)\n",
    "print(fail_sne)\n",
    "\n",
    "textfile_1.close()\n",
    "textfile_2.close()"
   ]
  },
  {
   "cell_type": "code",
   "execution_count": 30,
   "metadata": {},
   "outputs": [],
   "source": [
    "textfile_1.close(); textfile_1.close(); textfile_1.close();\n",
    "textfile_2.close(); textfile_2.close(); textfile_2.close(); "
   ]
  },
  {
   "cell_type": "code",
   "execution_count": 21,
   "metadata": {},
   "outputs": [],
   "source": [
    "##############################################################################80"
   ]
  },
  {
   "cell_type": "code",
   "execution_count": null,
   "metadata": {},
   "outputs": [],
   "source": []
  },
  {
   "cell_type": "code",
   "execution_count": null,
   "metadata": {},
   "outputs": [],
   "source": []
  }
 ],
 "metadata": {
  "kernelspec": {
   "display_name": "Python 3",
   "language": "python",
   "name": "python3"
  },
  "language_info": {
   "codemirror_mode": {
    "name": "ipython",
    "version": 3
   },
   "file_extension": ".py",
   "mimetype": "text/x-python",
   "name": "python",
   "nbconvert_exporter": "python",
   "pygments_lexer": "ipython3",
   "version": "3.7.3"
  }
 },
 "nbformat": 4,
 "nbformat_minor": 4
}
