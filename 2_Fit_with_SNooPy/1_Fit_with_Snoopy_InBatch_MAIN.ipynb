{
 "cells": [
  {
   "cell_type": "markdown",
   "metadata": {},
   "source": [
    "# Fit supernovae with SNooPy in batch\n",
    "\n",
    "Python 3.7 Anaconda\n",
    "\n",
    "NOTES:\n",
    "\n"
   ]
  },
  {
   "cell_type": "code",
   "execution_count": null,
   "metadata": {},
   "outputs": [],
   "source": [
    "from snpy import *\n",
    "from matplotlib import pyplot as plt\n",
    "import numpy as np\n",
    "import datetime # Get the current date and time\n",
    "import os\n",
    "\n",
    "import traceback # To print exception error in the try/except command.\n",
    "\n",
    "#----------------------\n",
    "\n",
    "%cd /Users/arturo/Dropbox/Research/Codes_Mains/Python/MyFunctions/github/MyPyFuns/SNeIa/\n",
    "import mysnpyfunc # My snoopy functions\n",
    "\n",
    "%cd /Users/arturo/Dropbox/Research/Articulos/18_RAISINs/Codes/github/RAISIN/\n",
    "\n",
    "#--------------------------------------------------------60\n",
    "code_created_by = 'Arturo_Avelino'\n",
    "# On date: '2019.06.17' (yyyy.mm.dd)\n",
    "code_name = '1_Fit_with_Snoopy_InBatch_MAIN.ipynb'\n",
    "code_version = '0.1.7'\n",
    "code_last_update = '2019.10.24'"
   ]
  },
  {
   "cell_type": "code",
   "execution_count": null,
   "metadata": {},
   "outputs": [],
   "source": [
    "##############################################################################80"
   ]
  },
  {
   "cell_type": "markdown",
   "metadata": {},
   "source": [
    "# User"
   ]
  },
  {
   "cell_type": "markdown",
   "metadata": {},
   "source": [
    "Change to the directory where the LCs files are located:"
   ]
  },
  {
   "cell_type": "code",
   "execution_count": null,
   "metadata": {},
   "outputs": [],
   "source": [
    "# listSNe_file = 'list_SNe_Y.txt'\n",
    "\n",
    "# listSNe_file = 'list_SNe_Y_tmp.txt'\n",
    "# listSNe_file = 'list_SNe_Y_PS1_only.txt'\n",
    "\n",
    "listSNe_file = 'list_SNe_Y_DES_only.txt'\n",
    "\n",
    "\n",
    "dir_data = '/Users/arturo/Documents/Research/Workplace/raisin/raisin12/2019_09_06/data/'\n",
    "\n",
    "os.chdir(dir_data)\n",
    "\n",
    "#--------------------------------------------------------60\n",
    "#     Settings about the fit\n",
    "\n",
    "# Options: ('EBV_model', 'EBV_model2', 'max_model')\n",
    "model_to_fit = 'EBV_model'\n",
    "\n",
    "# Apply mangling to compute the k-corrections?:\n",
    "mangled_kcorr=True\n",
    "\n",
    "# Compute k-cor uncertainties?\n",
    "kc_uncertainty = True\n",
    "NumSim = 30\n",
    "\n",
    "#----- Bands to fit-----\n",
    "#      RAISIN-2\n",
    "bands_to_fit=['g_des', 'r_des', 'i_des','z_des', 'f125w','f160w']\n",
    "# bands_to_fit=['r_des', 'i_des', 'z_des', 'f125w', 'f160w']\n",
    "# bands_to_fit=['g_des', 'r_des', 'i_des', 'z_des']\n",
    "# bands_to_fit=['r_des', 'i_des', 'z_des']\n",
    "# bands_to_fit=['f125w','f160w']\n",
    "# bands_to_fit=['f160w']\n",
    "\n",
    "#      RAISIN-1\n",
    "# bands_to_fit=['g_ps1', 'r_ps1', 'i_ps1', 'z_ps1', 'f125w', 'f160w']\n",
    "# bands_to_fit=['r_ps1', 'i_ps1', 'z_ps1', 'f125w', 'f160w']\n",
    "# bands_to_fit=['r_ps1', 'i_ps1', 'z_ps1', 'f125w']\n",
    "# bands_to_fit=['g_ps1', 'r_ps1', 'i_ps1', 'z_ps1']\n",
    "# bands_to_fit=['r_ps1', 'i_ps1', 'z_ps1']\n",
    "# bands_to_fit=['f125w','f160w']\n",
    "# bands_to_fit=['f160w']\n",
    "\n",
    "# NOTE: If \"bands_to_fit\" is commented out in the loop BELOW then all band \n",
    "# in the LC data file are fitted.\n",
    "\n",
    "#-------------------------------------\n",
    "# Specify the match between observer to rest-frame bands to use:\n",
    "\n",
    "# obs_rest_bands = [['f160w', 'J']]"
   ]
  },
  {
   "cell_type": "code",
   "execution_count": null,
   "metadata": {},
   "outputs": [],
   "source": [
    "# ls"
   ]
  },
  {
   "cell_type": "code",
   "execution_count": null,
   "metadata": {},
   "outputs": [],
   "source": [
    "# pwd"
   ]
  },
  {
   "cell_type": "markdown",
   "metadata": {},
   "source": [
    "# Automatic"
   ]
  },
  {
   "cell_type": "code",
   "execution_count": null,
   "metadata": {},
   "outputs": [],
   "source": [
    "# Read the list of SNe to fit:\n",
    "\n",
    "list_sne = np.genfromtxt(listSNe_file, dtype=['S22', float, float])\n",
    "len(list_sne)"
   ]
  },
  {
   "cell_type": "code",
   "execution_count": null,
   "metadata": {},
   "outputs": [],
   "source": [
    "list_sne"
   ]
  },
  {
   "cell_type": "markdown",
   "metadata": {},
   "source": [
    "Define the directory where I'll save the data:"
   ]
  },
  {
   "cell_type": "code",
   "execution_count": null,
   "metadata": {},
   "outputs": [],
   "source": [
    "dir_save_output = '/Users/arturo/Documents/Research/Workplace/raisin/\\\n",
    "raisin12/2019_09_06/fits/current/'\n",
    "\n",
    "if not os.path.exists(dir_save_output):\n",
    "    os.makedirs(dir_save_output)"
   ]
  },
  {
   "cell_type": "code",
   "execution_count": null,
   "metadata": {},
   "outputs": [],
   "source": [
    "#-----------------------------------------------------------------------------80"
   ]
  },
  {
   "cell_type": "markdown",
   "metadata": {},
   "source": [
    "### Main loop"
   ]
  },
  {
   "cell_type": "code",
   "execution_count": null,
   "metadata": {},
   "outputs": [],
   "source": [
    "count_sn = 0\n",
    "count_sn_errors = 0\n",
    "fail_sne = []\n",
    "\n",
    "textfile_1 = open(dir_save_output+'Settings_fits.txt', 'w')\n",
    "textfile_2 = open(dir_save_output+'Failed_fits.log', 'w')\n",
    "\n",
    "textfile_1.write('#       Settings of the fits\\n')\n",
    "textfile_1.write('# Directory where the data is located\\n')\n",
    "textfile_1.write('# %s\\n'%dir_data)\n",
    "\n",
    "textfile_2.write('# Failed supernovae to be fitted:\\n')\n",
    "\n",
    "#--------------------------------------------------------60\n",
    "\n",
    "# Define the header text\n",
    "now = datetime.datetime.now() # Read the time and date right now\n",
    "text_timenow = now.strftime(\"%Y.%m.%d (yyyy.mm.dd); %H:%M hrs (Swiss time).\")\n",
    "text_Date   = '# On date: %s\\n'%text_timenow\n",
    "text_Author = '# Data table created by: %s.\\n'%code_created_by\n",
    "text_script = '# Script used: %s (version %s | last update: %s)\\n'%(\n",
    "    code_name, code_version, code_last_update)\n",
    "text_line = '#'+'-'*57 + '60\\n'\n",
    "\n",
    "# Write the header text\n",
    "textfile_1.write(text_line);\n",
    "textfile_1.write(text_Author); textfile_1.write(text_Date);\n",
    "textfile_1.write(text_script);\n",
    "textfile_1.write(text_line);\n",
    "\n",
    "#--------------------------------------------------------60\n",
    "\n",
    "for i1 in range(len(list_sne)):\n",
    "    \n",
    "    # snname = str(list_sne[i1][0])  # Python 2.7\n",
    "    snname = list_sne[i1][0].decode('UTF-8')  # Python 3.7\n",
    "    print('\\n     ', snname, \": I'll try to fit it.\")\n",
    "    \n",
    "    # t_Bmax fixed: When using a precomputed value for t_Bmax.\n",
    "    t_Bmax = list_sne[i1][1]\n",
    "    \n",
    "    # dm15 fixed\n",
    "    dm15 = list_sne[i1][2]\n",
    "\n",
    "    try:\n",
    "        mysnpyfunc.snpyfit(snname, \n",
    "                         \n",
    "           # Options: ('EBV_model', 'EBV_model2', 'max_model')\n",
    "           model= model_to_fit, \n",
    "                           \n",
    "           mangled_kcorr=mangled_kcorr,\n",
    "                           \n",
    "           kc_uncertainty=kc_uncertainty, \n",
    "           NumSim=NumSim,\n",
    "                           \n",
    "           # When using a precomputed value for t_Bmax, otherwise\n",
    "           # comment the following line:\n",
    "           Tmax = t_Bmax, \n",
    "                   \n",
    "           # When using a precomputed value for dm15, otherwise\n",
    "           # comment the following line:\n",
    "           # dm15 = dm15,\n",
    "                           \n",
    "           # EBVhost = 0.0,\n",
    "                          \n",
    "           #------------------------------\n",
    "           # If \"bands_to_fit\" is commented then all band in the \n",
    "           # LC data file are fitted.\n",
    "              \n",
    "           bands_to_fit=bands_to_fit,\n",
    "                           \n",
    "           # Specify the match between observer to rest-frame bands to use:              \n",
    "           # obs_rest_bands = obs_rest_bands,\n",
    "                           \n",
    "           #------------------------------           \n",
    "                           \n",
    "           num_char_trim=-11,\n",
    "           debug = True,\n",
    "           dpi_filters = 55,\n",
    "           dir_save_output = dir_save_output  )\n",
    "\n",
    "    #     #-------------------------------------------\n",
    "    \n",
    "        count_sn += 1\n",
    "    \n",
    "    except Exception:\n",
    "        print(\"# %s couldn't be fitted.\\n\"%snname)\n",
    "        fail_sne += [snname]\n",
    "        textfile_2.write('%s\\n'%snname)\n",
    "        count_sn_errors += 1\n",
    "        traceback.print_exc() # Print the traceback of the error.\n",
    "            \n",
    "#--------------------------------------------------------60\n",
    "\n",
    "text_100 = '\\n--- %s SNe fitted | %s SNe not fitted ---\\n'%(\n",
    "    count_sn, count_sn_errors)\n",
    "text_110 = '# Failed %s SNe:'%count_sn_errors\n",
    "\n",
    "textfile_1.write(text_100); textfile_1.write(text_110)\n",
    "\n",
    "print(text_100)\n",
    "print(text_110)\n",
    "print(fail_sne)\n",
    "\n",
    "textfile_1.close()\n",
    "textfile_2.close()"
   ]
  },
  {
   "cell_type": "code",
   "execution_count": null,
   "metadata": {},
   "outputs": [],
   "source": [
    "textfile_1.close(); textfile_1.close(); textfile_1.close();\n",
    "textfile_2.close(); textfile_2.close(); textfile_2.close(); "
   ]
  },
  {
   "cell_type": "code",
   "execution_count": null,
   "metadata": {},
   "outputs": [],
   "source": [
    "##############################################################################80"
   ]
  },
  {
   "cell_type": "code",
   "execution_count": null,
   "metadata": {},
   "outputs": [],
   "source": []
  },
  {
   "cell_type": "code",
   "execution_count": null,
   "metadata": {},
   "outputs": [],
   "source": []
  },
  {
   "cell_type": "code",
   "execution_count": null,
   "metadata": {},
   "outputs": [],
   "source": []
  },
  {
   "cell_type": "code",
   "execution_count": null,
   "metadata": {},
   "outputs": [],
   "source": []
  },
  {
   "cell_type": "code",
   "execution_count": null,
   "metadata": {},
   "outputs": [],
   "source": []
  }
 ],
 "metadata": {
  "kernelspec": {
   "display_name": "Python 3",
   "language": "python",
   "name": "python3"
  },
  "language_info": {
   "codemirror_mode": {
    "name": "ipython",
    "version": 3
   },
   "file_extension": ".py",
   "mimetype": "text/x-python",
   "name": "python",
   "nbconvert_exporter": "python",
   "pygments_lexer": "ipython3",
   "version": "3.7.3"
  }
 },
 "nbformat": 4,
 "nbformat_minor": 4
}
