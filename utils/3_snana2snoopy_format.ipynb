{
 "cells": [
  {
   "cell_type": "markdown",
   "metadata": {},
   "source": [
    "# Convert optical PS1 and DES SNANA files to SNooPy format for RAISIN"
   ]
  },
  {
   "cell_type": "code",
   "execution_count": 1,
   "metadata": {},
   "outputs": [],
   "source": [
    "import numpy as np\n",
    "import os\n",
    "import glob # To read the name of the files in a given directory\n",
    "\n",
    "# To read arguments in command line\n",
    "# Used in the \".py\" version of this notebook.\n",
    "import sys \n",
    "\n",
    "#--------------------------------------------------------60\n",
    "code_created_by = 'Arturo_Avelino'\n",
    "# On date: 2019.01.29 (yyyy.mm.dd)\n",
    "code_name = 'snana2snoopy_format.ipynb'\n",
    "version_code = '0.1.2'\n",
    "last_update = '2019.07.10' # (yyyy.mm.dd)\n",
    "last_update_by = 'AA'  # AA, DJ, AF, GN, KM, PC, RK, etc.\n"
   ]
  },
  {
   "cell_type": "code",
   "execution_count": 2,
   "metadata": {},
   "outputs": [],
   "source": [
    "##############################################################################80"
   ]
  },
  {
   "cell_type": "markdown",
   "metadata": {},
   "source": [
    "----"
   ]
  },
  {
   "cell_type": "markdown",
   "metadata": {},
   "source": [
    "# USER"
   ]
  },
  {
   "cell_type": "code",
   "execution_count": 3,
   "metadata": {},
   "outputs": [],
   "source": [
    "## Terminal or notebook version of this script?\n",
    "ScriptVersion = 'notebook' # ( terminal , notebook ) \n",
    "\n",
    "#--------------------------------------------------------60\n",
    "\n",
    "if ScriptVersion == 'terminal':\n",
    "    Sample = sys.argv[1] # Valid options: (raisin_1, raisin_2)\n",
    "\n",
    "    # Consider only data with error_mag smaller than:\n",
    "    ErrorMagLimit = int(sys.argv[2]) # mag\n",
    "\n",
    "    #------------------\n",
    "    #   Directory where the SNANA files are located:\n",
    "    DirSnanaFolder = sys.argv[3]\n",
    "    \n",
    "#--------------------------------------------------------60\n",
    "\n",
    "elif ScriptVersion == 'notebook':\n",
    "    Sample = 'raisin_2' # Valid options: ( raisin_1 , raisin_2 )\n",
    "\n",
    "    # Consider only data with error_mag smaller than:\n",
    "    ErrorMagLimit = 1.5 # mag\n",
    "\n",
    "    #------------------\n",
    "    #   Directory where the SNANA files are located:\n",
    "    DirSnanaFolder = '/Users/arturo/Documents/Research/Workplace/raisin/raisin2/2019_07_04__version_0_2_4/data/4_snoopy/'\n",
    "\n",
    "#--------------------------------------------------------60\n",
    "\n",
    "# Debug mode? If true, it will print several intermediate names.\n",
    "debug = False"
   ]
  },
  {
   "cell_type": "code",
   "execution_count": 4,
   "metadata": {
    "collapsed": true
   },
   "outputs": [],
   "source": [
    "if Sample == 'raisin_1':\n",
    "\n",
    "    # Extension of the SNANA files:\n",
    "    if ScriptVersion == 'terminal': ExtSnana = sys.argv[4]\n",
    "    elif ScriptVersion == 'notebook': ExtSnana = 'snana.dat'\n",
    "    \n",
    "\n",
    "    # Number of rows for the header in the SNANA file.\n",
    "    # This will the number of lines that I will skip of reading in python.\n",
    "    # Note: The first row starts with zero.\n",
    "    NumHeaderLinesSnana = 25\n",
    "\n",
    "    # Zeropoint to convert from flux to magnitude\n",
    "    # from the formula: m = -2.5*log10(flux) + 27.5\n",
    "    zp = 27.5\n",
    "\n",
    "    #----------------------------\n",
    "    # Ignore the very early and late phases.\n",
    "    # If so then read the line, e.g. 'SEARCH_PEAKMJD: 56207.0', and use that MJD time\n",
    "    # to discard epochs far early/late of this point. \n",
    "\n",
    "    if ScriptVersion == 'terminal': \n",
    "        EarlyPhasesLimit = float(sys.argv[5]) # observer days\n",
    "        LatePhasesLimit = float(sys.argv[6]) # observer days\n",
    "    elif ScriptVersion == 'notebook': \n",
    "        EarlyPhasesLimit = -20 # observer days\n",
    "        LatePhasesLimit = 70 # observer days\n",
    "    \n",
    "    #----------------------------\n",
    "    # Line where SN name is located.\n",
    "    # Note: The first line and column start with zero.\n",
    "    LineWithName = 1\n",
    "    # Column where the SN first character name starts\n",
    "    NameBeginColum = 7\n",
    "    # Column of the last character\n",
    "    NameLastColum = 16\n",
    "    \n",
    "    # line and column of some values:\n",
    "    # Note: The first line and column start with zero.\n",
    "    ra_line = 3; rac_col_begin = 11; rac_col_end = 20\n",
    "    dec_line = 4; dec_col_begin = 12; dec_col_end = 21\n",
    "    zz_line = 7; zz_col_begin = 17; zz_col_end = 23\n",
    "    tbmax_line = 10; tbmax_col_begin = 16; tbmax_col_end = -1\n",
    "    \n",
    "#-----------------------------------------------------------------------------80\n",
    "\n",
    "elif Sample == 'raisin_2':\n",
    "    \n",
    "    # Extension of the SNANA files:\n",
    "    if ScriptVersion == 'terminal': ExtSnana = sys.argv[4]\n",
    "    elif ScriptVersion == 'notebook': ExtSnana = '.dat'\n",
    "\n",
    "    # Number of rows for the header in the Snana file\n",
    "    # This will the number of lines that I will skip of reading in python.\n",
    "    # Note: The first row starts with zero.\n",
    "    NumHeaderLinesSnana = 34 # 55\n",
    "    \n",
    "    # Zeropoint to convert from flux to magnitude\n",
    "    # from the formula: m = -2.5*log10(flux) + 27.5\n",
    "    zp = 27.5\n",
    "    \n",
    "    # Zeropoint of DES photometry\n",
    "    # zpDES = 27.5 # Smith M. <mat.smith@soton.ac.uk> gave me this number on 12/05/16 \n",
    "    # zpDES = 29.5 \n",
    "\n",
    "    #----------------------------\n",
    "    # Ignore the very early and late phases.\n",
    "    # If so then read the line, e.g. 'SEARCH_PEAKMJD: 56207.0', and use that MJD time\n",
    "    # to discard epochs far early/late of this point. \n",
    "\n",
    "    if ScriptVersion == 'terminal': \n",
    "        EarlyPhasesLimit = float(sys.argv[5]) # observer days\n",
    "        LatePhasesLimit = float(sys.argv[6]) # observer days\n",
    "    elif ScriptVersion == 'notebook': \n",
    "        EarlyPhasesLimit = -20 # observer days\n",
    "        LatePhasesLimit = 80 # observer days\n",
    "    \n",
    "    #----------------------------\n",
    "    # Line where the supernova name is located:\n",
    "    # Note: The first line and column start with zero.\n",
    "    LineWithName = 1 # 2\n",
    "    # Column where the SN first character name starts\n",
    "    NameBeginColum = 12 # 11\n",
    "    # Column of the last character\n",
    "    NameLastColum = 22 # 21\n",
    "    \n",
    "    # line and column of some values.\n",
    "    # Note: The first line and column start with zero.\n",
    "    \n",
    "    # ra_line = 9; rac_col_begin = 11; rac_col_end = -6\n",
    "    # dec_line = 10; dec_col_begin = 11; dec_col_end = -6\n",
    "    # zz_line = 14; zz_col_begin = 16; zz_col_end = 23\n",
    "    # tbmax_line = 36; tbmax_col_begin = 32; tbmax_col_end = 40\n",
    "    \n",
    "    ra_line = 7; rac_col_begin = 15; rac_col_end = 23\n",
    "    dec_line = 8; dec_col_begin = 14; dec_col_end = 23\n",
    "    zz_line = 13; zz_col_begin = 16; zz_col_end = 23\n",
    "    tbmax_line = 12; tbmax_col_begin = 13; tbmax_col_end = 21"
   ]
  },
  {
   "cell_type": "code",
   "execution_count": 5,
   "metadata": {},
   "outputs": [],
   "source": [
    "##############################################################################80"
   ]
  },
  {
   "cell_type": "markdown",
   "metadata": {},
   "source": [
    "------"
   ]
  },
  {
   "cell_type": "markdown",
   "metadata": {},
   "source": [
    "# Automatic\n",
    "\n",
    "The rest of this script doesn't need user's interaction."
   ]
  },
  {
   "cell_type": "code",
   "execution_count": 6,
   "metadata": {
    "collapsed": false
   },
   "outputs": [
    {
     "name": "stdout",
     "output_type": "stream",
     "text": [
      "# Test: flux2magFunc(62.19400) = 23.015628776720686\n",
      "# Test: errormag(62.19400, 3.98010) = 0.06948160061352913\n"
     ]
    }
   ],
   "source": [
    "# Function to convert from flux to magnitude\n",
    "\n",
    "# formula: m = -2.5*log10(flux) + zp\n",
    "def flux2magFunc(ff):\n",
    "    'Function to convert from flux to magnitude'\n",
    "    mag = -2.5*np.log10(ff) + zp\n",
    "    return mag\n",
    "\n",
    "print '# Test: flux2magFunc(62.19400) =', flux2magFunc(62.19400)\n",
    "# Test: flux2magFunc(62.19400) = 23.0156287767\n",
    "\n",
    "#--------------------------------------\n",
    "# Computing the uncertainty in mag\n",
    "\n",
    "# Formula derived from the propagation of uncertainty \n",
    "# from formula: m = -2.5*log10(flux) + zp\n",
    "# Formula used by Pete Challis too.\n",
    "def errormag(ff,errorff):\n",
    "    errorInt = (2.5*errorff)/(ff*np.log(10)) \n",
    "    return errorInt\n",
    "\n",
    "\n",
    "# Formula used by Andy Friedman\n",
    "def errormag_Andy(ff,errorff):\n",
    "    errorInt = ( -2.5*np.log(ff-errorff) + 2.5*np.log(ff+errorff) )/2\n",
    "    return errorInt\n",
    "\n",
    "print '# Test: errormag(62.19400, 3.98010) =', errormag(62.19400, 3.98010)\n",
    "\n",
    "# Test: flux2magFunc(62.19400) = 23.0156287767\n",
    "# Test: errormag(62.19400, 3.98010) = 0.0694816006135"
   ]
  },
  {
   "cell_type": "code",
   "execution_count": 7,
   "metadata": {
    "collapsed": true
   },
   "outputs": [],
   "source": [
    "DirSaveOutput = DirSnanaFolder+'snoopy/'\n",
    "\n",
    "#- Force the creation of the directory to save the outputs.\n",
    "#- \"If the subdirectory does not exist then create it\"\n",
    "import os # To use command line like instructions\n",
    "if not os.path.exists(DirSaveOutput): os.makedirs(DirSaveOutput)"
   ]
  },
  {
   "cell_type": "code",
   "execution_count": 8,
   "metadata": {
    "collapsed": false
   },
   "outputs": [
    {
     "name": "stdout",
     "output_type": "stream",
     "text": [
      "# 8 SNe = Total number of raisin_2.\n"
     ]
    }
   ],
   "source": [
    "# Change the working directory where the data files are located\n",
    "os.chdir(DirSnanaFolder)\n",
    "\n",
    "import glob # To read the files in the directory\n",
    "listFiles_snana = glob.glob('*'+ExtSnana)\n",
    "\n",
    "print \"# %s SNe = Total number of %s.\"%(len(listFiles_snana),Sample)"
   ]
  },
  {
   "cell_type": "code",
   "execution_count": null,
   "metadata": {},
   "outputs": [],
   "source": []
  },
  {
   "cell_type": "code",
   "execution_count": 9,
   "metadata": {},
   "outputs": [],
   "source": [
    "# Get the current date and time\n",
    "import datetime \n",
    "\n",
    "# Read the time and date now\n",
    "now = datetime.datetime.now()"
   ]
  },
  {
   "cell_type": "code",
   "execution_count": null,
   "metadata": {},
   "outputs": [],
   "source": []
  },
  {
   "cell_type": "code",
   "execution_count": 10,
   "metadata": {},
   "outputs": [],
   "source": [
    "##############################################################################80"
   ]
  },
  {
   "cell_type": "markdown",
   "metadata": {},
   "source": [
    "# The loop"
   ]
  },
  {
   "cell_type": "code",
   "execution_count": 11,
   "metadata": {
    "collapsed": false
   },
   "outputs": [
    {
     "name": "stdout",
     "output_type": "stream",
     "text": [
      "Converting file:DES15C3odz_snana.dat\n",
      "Done: DES15C3odz\n",
      "Converting file:DES15E2uc_snana.dat\n",
      "Done: DES15E2uc \n",
      "Converting file:DES15E2mhy_snana.dat\n",
      "Done: DES15E2mhy\n",
      "Converting file:DES15E2nlz_snana.dat\n",
      "Done: DES15E2nlz\n",
      "Converting file:DES15C1nhv_snana.dat\n",
      "Done: DES15C1nhv\n",
      "Converting file:DES15X2kvt_snana.dat\n",
      "Done: DES15X2kvt\n",
      "Converting file:DES15X2nkz_snana.dat\n",
      "Done: DES15X2nkz\n",
      "Converting file:DES15X2mey_snana.dat\n",
      "Done: DES15X2mey\n",
      "-- The 8 SNe done smoothly --\n"
     ]
    }
   ],
   "source": [
    "# Main loop\n",
    "\n",
    "countSN = 0\n",
    "\n",
    "for i in range(len(listFiles_snana)): # Loop over supernovae\n",
    "    \n",
    "    print 'Converting file:%s'%listFiles_snana[i]\n",
    "    \n",
    "    #--- Read the SNANA headers ---\n",
    "    snanaFile = open(listFiles_snana[i], 'r')\n",
    "\n",
    "    # Store the SNANA header information in a list:\n",
    "    headerSnana = []\n",
    "    for iii in range(NumHeaderLinesSnana):\n",
    "        headerSnana += [snanaFile.readline()]\n",
    "        \n",
    "    if debug: \n",
    "        for lines in headerSnana: \n",
    "            print(lines)\n",
    "    \n",
    "    # SN name\n",
    "    sn_name = headerSnana[LineWithName][NameBeginColum:NameLastColum] \n",
    "\n",
    "    RA = float(headerSnana[ra_line][rac_col_begin:rac_col_end]) \n",
    "    DEC = float(headerSnana[dec_line][dec_col_begin:dec_col_end]) \n",
    "    zz = float(headerSnana[zz_line][zz_col_begin:zz_col_end]) \n",
    "    tBmax = float(headerSnana[tbmax_line][tbmax_col_begin:tbmax_col_end]) \n",
    " \n",
    "    # Creating the text file\n",
    "    text_file = open(DirSaveOutput+'%s_snoopy.dat'%sn_name, \"w\")\n",
    "    # Writting the SNooPY header\n",
    "    text_file.write('%s  %r  %r  %r \\n'%(sn_name, zz, RA, DEC) )\n",
    "    \n",
    "    #--- Reading the photometry ----\n",
    "    dataSnana = np.genfromtxt(listFiles_snana[i], skip_header=NumHeaderLinesSnana, \n",
    "                           skip_footer=1, dtype=['S4', float, 'S2', 'S4', \n",
    "                            float, float, float, float])\n",
    "    \n",
    "    #---  Creating arrays with the data for each filter ---\n",
    "    MJD_g = []\n",
    "    Magnitude_g = [] \n",
    "    MagError_g = []\n",
    "\n",
    "    MJD_r = []\n",
    "    Magnitude_r = [] \n",
    "    MagError_r = []\n",
    "\n",
    "    MJD_i = []\n",
    "    Magnitude_i = [] \n",
    "    MagError_i = []\n",
    "\n",
    "    MJD_z = []\n",
    "    Magnitude_z = [] \n",
    "    MagError_z = []\n",
    "    \n",
    "    for j in range(len(dataSnana['f1'])): # Loop over the photometry for a given supernova:\n",
    "        if dataSnana['f2'][j]=='g' and dataSnana['f4'][j]>0 and dataSnana['f5'][j]>0:            \n",
    "            MJD_g += [dataSnana['f1'][j]]\n",
    "            Magnitude_g += [flux2magFunc(dataSnana['f4'][j])]\n",
    "            MagError_g  += [errormag(dataSnana['f4'][j], dataSnana['f5'][j])]\n",
    "            \n",
    "        elif dataSnana['f2'][j]=='r' and dataSnana['f4'][j]>0 and dataSnana['f5'][j]>0:            \n",
    "            MJD_r += [dataSnana['f1'][j]]\n",
    "            Magnitude_r += [flux2magFunc(dataSnana['f4'][j])]\n",
    "            MagError_r  += [errormag(dataSnana['f4'][j], dataSnana['f5'][j])]            \n",
    "            \n",
    "        elif dataSnana['f2'][j]=='i' and dataSnana['f4'][j]>0 and dataSnana['f5'][j]>0:            \n",
    "            MJD_i += [dataSnana['f1'][j]]\n",
    "            Magnitude_i += [flux2magFunc(dataSnana['f4'][j])]\n",
    "            MagError_i  += [errormag(dataSnana['f4'][j], dataSnana['f5'][j])]             \n",
    "            \n",
    "        elif dataSnana['f2'][j]=='z' and dataSnana['f4'][j]>0 and dataSnana['f5'][j]>0:            \n",
    "            MJD_z += [dataSnana['f1'][j]]\n",
    "            Magnitude_z += [flux2magFunc(dataSnana['f4'][j])]\n",
    "            MagError_z  += [errormag(dataSnana['f4'][j], dataSnana['f5'][j])]\n",
    "    \n",
    "\n",
    "    #-- Writting the data to a text file with Snoopy format --\n",
    "    \n",
    "    #-----  List of filters ----\n",
    "    \n",
    "    if Sample == 'raisin_1': \n",
    "        g_label='g_ps1'; r_label='r_ps1'; i_label='i_ps1'; z_label='z_ps1'\n",
    "    elif Sample == 'raisin_2': \n",
    "        g_label='g_des'; r_label='r_des'; i_label='i_des'; z_label='z_des'\n",
    "        \n",
    "    FilterNamesOnlyOnce=['g','r','i','z']\n",
    "       \n",
    "    for ii in range(len(FilterNamesOnlyOnce)): # Loop over filters\n",
    "        if FilterNamesOnlyOnce[ii] == 'g':\n",
    "            text_file.write(\"filter %s \\n\"%g_label )\n",
    "            for k in range(len(MJD_g)): # Loop over photometry in a given filter\n",
    "                phaseInt = MJD_g[k] - tBmax\n",
    "                if (MagError_g[k] < ErrorMagLimit and \n",
    "                    phaseInt > EarlyPhasesLimit and \n",
    "                    phaseInt < LatePhasesLimit):\n",
    "                    # old. if phaseInt > EarlyPhasesLimit and phaseInt < LatePhasesLimit:\n",
    "                    text_file.write(\"{0}  {1}  {2}\\n\".format(MJD_g[k], Magnitude_g[k], MagError_g[k]) )\n",
    "                else:\n",
    "                    text_file.write(\"## {0}  {1}  {2}\\n\".format(MJD_g[k], Magnitude_g[k], MagError_g[k]) )\n",
    "                    \n",
    "        if FilterNamesOnlyOnce[ii] == 'r':\n",
    "            text_file.write(\"filter %s \\n\"%r_label )\n",
    "            for k in range(len(MJD_r)):\n",
    "                phaseInt = MJD_r[k] - tBmax\n",
    "                if (MagError_r[k] < ErrorMagLimit and \n",
    "                    phaseInt > EarlyPhasesLimit and\n",
    "                    phaseInt < LatePhasesLimit):\n",
    "                    text_file.write(\"{0}  {1}  {2}\\n\".format(MJD_r[k], Magnitude_r[k], MagError_r[k]) )\n",
    "                else:\n",
    "                    text_file.write(\"## {0}  {1}  {2}\\n\".format(MJD_r[k], Magnitude_r[k], MagError_r[k]) )\n",
    "            \n",
    "        if FilterNamesOnlyOnce[ii] == 'i':\n",
    "            text_file.write(\"filter %s \\n\"%i_label )\n",
    "            for k in range(len(MJD_i)):\n",
    "                phaseInt = MJD_i[k] - tBmax\n",
    "                if (MagError_i[k] < ErrorMagLimit and \n",
    "                    phaseInt > EarlyPhasesLimit and \n",
    "                    phaseInt < LatePhasesLimit):\n",
    "                    text_file.write(\"{0}  {1}  {2}\\n\".format(MJD_i[k], Magnitude_i[k], MagError_i[k]) )\n",
    "                else:\n",
    "                    text_file.write(\"## {0}  {1}  {2}\\n\".format(MJD_i[k], Magnitude_i[k], MagError_i[k]) )\n",
    "            \n",
    "        if FilterNamesOnlyOnce[ii] == 'z':\n",
    "            text_file.write(\"filter %s \\n\"%z_label )\n",
    "            for k in range(len(MJD_z)):\n",
    "                phaseInt = MJD_z[k] - tBmax\n",
    "                if (MagError_z[k] < ErrorMagLimit and\n",
    "                    phaseInt > EarlyPhasesLimit and \n",
    "                    phaseInt < LatePhasesLimit):\n",
    "                    text_file.write(\"{0}  {1}  {2}\\n\".format(MJD_z[k], Magnitude_z[k], MagError_z[k]) )\n",
    "                else:\n",
    "                    text_file.write(\"## {0}  {1}  {2}\\n\".format(MJD_z[k], Magnitude_z[k], MagError_z[k]) )\n",
    "                    \n",
    "    text_file.close()\n",
    "    \n",
    "    countSN = countSN + 1\n",
    "    print 'Done:', sn_name\n",
    "\n",
    "print '-- The %r SNe done smoothly --'%countSN\n"
   ]
  },
  {
   "cell_type": "code",
   "execution_count": null,
   "metadata": {
    "collapsed": true
   },
   "outputs": [],
   "source": []
  }
 ],
 "metadata": {
  "kernelspec": {
   "display_name": "Python 2",
   "language": "python",
   "name": "python2"
  },
  "language_info": {
   "codemirror_mode": {
    "name": "ipython",
    "version": 2
   },
   "file_extension": ".py",
   "mimetype": "text/x-python",
   "name": "python",
   "nbconvert_exporter": "python",
   "pygments_lexer": "ipython2",
   "version": "2.7.16"
  }
 },
 "nbformat": 4,
 "nbformat_minor": 2
}
