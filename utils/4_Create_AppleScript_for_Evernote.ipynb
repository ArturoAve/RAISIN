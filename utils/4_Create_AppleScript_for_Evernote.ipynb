{
 "cells": [
  {
   "cell_type": "markdown",
   "metadata": {},
   "source": [
    "# Generate the AppleScript to create the Evernote for RAISIN\n",
    "\n",
    "Python 2.7"
   ]
  },
  {
   "cell_type": "code",
   "execution_count": 1,
   "metadata": {},
   "outputs": [],
   "source": [
    "import numpy as np\n",
    "import datetime # Get the current date and time\n",
    "\n",
    "#--------------------------------------------------------60\n",
    "code_created_by = 'Arturo_Avelino'\n",
    "# On date: 2019.06.25 (yyyy.mm.dd)\n",
    "code_name = '4_Create_AppleScript_for_Evernote.ipynb'\n",
    "code_version ='0.0.2'\n",
    "code_last_update='2019.07.13' # (yyyy.mm.dd)\n",
    "#--------------------------------------------------------60"
   ]
  },
  {
   "cell_type": "markdown",
   "metadata": {},
   "source": [
    "---"
   ]
  },
  {
   "cell_type": "markdown",
   "metadata": {},
   "source": [
    "## User"
   ]
  },
  {
   "cell_type": "code",
   "execution_count": 2,
   "metadata": {},
   "outputs": [],
   "source": [
    "# File listing the SNe to create the Evernote for:\n",
    "list_file = 'list_SNe_fitted.txt'\n",
    "\n",
    "# Directory where the plot files to be put in Evernote are located, and\n",
    "# also the list with the names of the SNe that corresponds those\n",
    "# plots\n",
    "dir_files = '/Users/arturo/Documents/Research/Workplace/raisin/raisin2/2019_07_04__v0_2_4/\\\n",
    "fits/EBV2/Mangled/Optical_NIR_g/'\n",
    "\n",
    "# Directory to save the generated Applescript.\n",
    "dir_save_output = '/Users/arturo/Dropbox/Research/Articulos/18_RAISINs/\\\n",
    "Codes/github/RAISIN/utils/'\n",
    "\n",
    "# suffix of the fit plots to identify them:\n",
    "fitplot_suffix = '_PlotFitText.png'\n",
    "\n",
    "# suffix of the filter plots to identify them:\n",
    "filterplot_suffix = '_Filters.png'\n",
    "\n",
    "# suffix of the kcorr plots to identify them:\n",
    "kcorplot_suffix = '_PlotKcorrs.png'\n",
    "\n",
    "#--------------------------------------------------------60\n",
    "\n",
    "# read the list of the SNe to create the Evernote for:\n",
    "snnames_np = np.genfromtxt(dir_files+list_file, dtype=['S12'])\n",
    "\n",
    "# Convert the numpy array to a list\n",
    "snnames_list = snnames_np['f0'].tolist()"
   ]
  },
  {
   "cell_type": "code",
   "execution_count": 3,
   "metadata": {},
   "outputs": [],
   "source": [
    "# Header to write in the Evernote\n",
    "\n",
    "title = \"RAISIN-2: Optical (griz-bands) + NIR SNooPy fits, EBV2 model, Mangled kcorr (v 0.1.0)\"\n",
    "Ever_notebook = \"RAISIN\""
   ]
  },
  {
   "cell_type": "code",
   "execution_count": 12,
   "metadata": {},
   "outputs": [
    {
     "data": {
      "text/plain": [
       "['DES15E2mhy',\n",
       " 'DES15E2nlz',\n",
       " 'DES15X2nkz',\n",
       " 'DES16C1cim',\n",
       " 'DES16E2rd',\n",
       " 'DES16S1agd',\n",
       " 'DES16S1bno',\n",
       " 'DES16X1cpf',\n",
       " 'DES16X2crr',\n",
       " 'DES16X3zd']"
      ]
     },
     "execution_count": 12,
     "metadata": {},
     "output_type": "execute_result"
    }
   ],
   "source": [
    "snnames_list"
   ]
  },
  {
   "cell_type": "code",
   "execution_count": null,
   "metadata": {},
   "outputs": [],
   "source": [
    "#-----------------------------------------------------------------------------80"
   ]
  },
  {
   "cell_type": "markdown",
   "metadata": {},
   "source": [
    "---"
   ]
  },
  {
   "cell_type": "markdown",
   "metadata": {},
   "source": [
    "## Automatic"
   ]
  },
  {
   "cell_type": "markdown",
   "metadata": {},
   "source": [
    "Metadata of the RAISIN SNe"
   ]
  },
  {
   "cell_type": "code",
   "execution_count": 4,
   "metadata": {},
   "outputs": [],
   "source": [
    "# Read metadata file\n",
    "raisin_metafile = 'RAISIN_metadata_for_codes.txt'\n",
    "dir_metafile = '/Users/arturo/Dropbox/Research/Articulos/18_RAISINs/\\\n",
    "Data/Metadata/'\n",
    "\n",
    "metadata_np = np.genfromtxt(dir_metafile+raisin_metafile, \n",
    "                            dtype=['S12', float, float, float, float, int,\n",
    "                                  float, float, float, float, float, float,\n",
    "                                  float, float])\n",
    "#--------------------------------------------------------60\n",
    "# Create a dictionary with the metadata info.\n",
    "\n",
    "# metadata_dict = {}\n",
    "# \n",
    "# for i2 in range(len(metadata_np)):\n",
    "#     snname_int1 = metadata_np['f0'][i2]\n",
    "#     zhelio_int1 = metadata_np['f1'][i2]\n",
    "# \n",
    "#     # Add the info to the dictionary\n",
    "#     metadata_dict[snname_int1] = zhelio_int1    "
   ]
  },
  {
   "cell_type": "code",
   "execution_count": 13,
   "metadata": {},
   "outputs": [
    {
     "data": {
      "text/plain": [
       "array(['DES16E2cxw', 'DES16X2crr', 'DES16E2clk', 'DES16C2cva',\n",
       "       'DES15X2kvt', 'DES15E2nlz', 'DES15C1nhv', 'DES16E2cqq',\n",
       "       'DES16X1cpf', 'DES15E2mhy', 'DES16E1dcx', 'DES15X2nkz',\n",
       "       'DES16S1bno', 'DES16S2afz', 'DES16E2rd', 'DES16X3zd', 'DES16S1agd',\n",
       "       'DES15C3odz', 'DES16C1cim', 'DES16C3cmy', 'DES15E2uc',\n",
       "       'DES15X2mey', 'DES16X3cry'], dtype='|S12')"
      ]
     },
     "execution_count": 13,
     "metadata": {},
     "output_type": "execute_result"
    }
   ],
   "source": [
    "metadata_np['f0']"
   ]
  },
  {
   "cell_type": "code",
   "execution_count": 16,
   "metadata": {},
   "outputs": [
    {
     "data": {
      "text/plain": [
       "'DES16E2cxw'"
      ]
     },
     "execution_count": 16,
     "metadata": {},
     "output_type": "execute_result"
    }
   ],
   "source": [
    "metadata_np['f0'][0]"
   ]
  },
  {
   "cell_type": "code",
   "execution_count": null,
   "metadata": {},
   "outputs": [],
   "source": [
    "\n",
    "DES16X2crr\n",
    "DES15E2nlz\n",
    "DES16X1cpf\n",
    "DES15E2mhy"
   ]
  },
  {
   "cell_type": "code",
   "execution_count": 18,
   "metadata": {},
   "outputs": [
    {
     "name": "stdout",
     "output_type": "stream",
     "text": [
      "DES16X2crr\n",
      "DES15E2nlz\n",
      "DES16X1cpf\n",
      "DES15E2mhy\n",
      "DES15X2nkz\n",
      "DES16S1bno\n",
      "DES16E2rd\n",
      "DES16X3zd\n",
      "DES16S1agd\n",
      "DES16C1cim\n"
     ]
    }
   ],
   "source": [
    "\n"
   ]
  },
  {
   "cell_type": "code",
   "execution_count": null,
   "metadata": {},
   "outputs": [],
   "source": []
  },
  {
   "cell_type": "code",
   "execution_count": 6,
   "metadata": {},
   "outputs": [],
   "source": [
    "#-----------------------------------------------------------------------------80"
   ]
  },
  {
   "cell_type": "markdown",
   "metadata": {},
   "source": [
    "### Main loop"
   ]
  },
  {
   "cell_type": "code",
   "execution_count": 19,
   "metadata": {},
   "outputs": [
    {
     "name": "stdout",
     "output_type": "stream",
     "text": [
      "DES16X2crr\n",
      "DES15E2nlz\n",
      "DES16X1cpf\n",
      "DES15E2mhy\n",
      "DES15X2nkz\n",
      "DES16S1bno\n",
      "DES16E2rd\n",
      "DES16X3zd\n",
      "DES16S1agd\n",
      "DES16C1cim\n"
     ]
    }
   ],
   "source": [
    "textfile_1 = open(dir_save_output+'5_Create_Evernote_RAISIN_.txt', 'w')\n",
    "\n",
    "#--------------------------------------------------------60\n",
    "# Explanation to write down in the Applescript on how to use the Applescript  \n",
    "# to create an Evernote note.\n",
    "    \n",
    "textfile_1.write(\"#       Applescript to create an Evernote note with plots and text\\n\");\n",
    "textfile_1.write(\"# \\n\");\n",
    "textfile_1.write(\"# This Applescript was generated using a python script (see details below).\\n\");\n",
    "textfile_1.write(\"# \\n\");\n",
    "textfile_1.write(\"# NOTE: Copy/paste the text of this file into a applescript ('.scpt') file.\\n\\n\")\n",
    "textfile_1.write(\"# AppleScript to automatically create an Evernote (EN) note with the RAISIN\\n\");\n",
    "textfile_1.write(\"# fits and filters plots, ordered in ascending order based on z_CMB, and\\n\");\n",
    "textfile_1.write(\"# writting a caption that will help to the collaborators to more easily\\n\");\n",
    "textfile_1.write(\"# look for any particular RAISIN using the text-search tool of their\\n\");\n",
    "textfile_1.write(\"# internet browsers while sharing the generated EN note.\\n\");\n",
    "textfile_1.write(\"# \\n\");\n",
    "textfile_1.write(\"#       WATCH OUT! About attaching a file to a note in Evernote:\\n\");\n",
    "textfile_1.write(\"# \\n\");\n",
    "textfile_1.write(\"# To attach a file (image, text file, PDF, etc) to a note, first it is\\n\");\n",
    "textfile_1.write(\"# necessary to have previously opened and attached the file in any note in\\n\");\n",
    "textfile_1.write(\"# Evernote! Otherwise, Evernote doesn’t attach the file when using the\\n\");\n",
    "textfile_1.write(\"# AppleScript command. So, my procedure is:\\n\");\n",
    "textfile_1.write(\"# \\n\");\n",
    "textfile_1.write(\"# 1. Disconnect for a moment the computer from the internet to prevent that\\n\");\n",
    "textfile_1.write(\"# Evernote sync the temporary note that I’m going to create in the next\\n\");\n",
    "textfile_1.write(\"# step.\\n\");\n",
    "textfile_1.write(\"# \\n\");\n",
    "textfile_1.write(\"# 2. Create a temporary new note in EN and drag-and-drop on it all the\\n\");\n",
    "textfile_1.write(\"# files (image, text file, PDF, etc) I want to attach. This will help to\\n\");\n",
    "textfile_1.write(\"# Evernote recognize those files.\\n\");\n",
    "textfile_1.write(\"# \\n\");\n",
    "textfile_1.write(\"# 3. Using AppleScript, create a new note in EN with the text, html and\\n\");\n",
    "textfile_1.write(\"# attached files I want, and with sorted or organized based on my\\n\");\n",
    "textfile_1.write(\"# preference. This note will be the definite one.\\n\");\n",
    "textfile_1.write(\"# \\n\");\n",
    "textfile_1.write(\"# 4. Remove the temporary note created in step 2. Remove it also from the\\n\");\n",
    "textfile_1.write(\"# Evernote Trash.\\n\");\n",
    "textfile_1.write(\"# \\n\");\n",
    "textfile_1.write(\"# 5. Reconnect the computer to internet and sync, et voila.\\n\");\n",
    "\n",
    "\n",
    "\n",
    "#--------------------------------------------------------60\n",
    "# Info on how the script was created.\n",
    "\n",
    "# Define the header text\n",
    "now = datetime.datetime.now() # Read the time and date right now\n",
    "text_timenow = now.strftime(\"%Y.%m.%d (yyyy.mm.dd); %H:%M hrs.\")\n",
    "text_timenow2 = now.strftime(\"%Y.%m.%d (yyyy.mm.dd)\")\n",
    "text_Date   = '# On date: %s\\n'%text_timenow\n",
    "text_Author = '# Code created by: %s.\\n'%code_created_by\n",
    "text_script = '# Script used: %s (version %s | last update: %s)\\n'%(\n",
    "    code_name, code_version, code_last_update)\n",
    "text_line = '#'+'-'*57 + '60\\n'\n",
    "\n",
    "# Write the header text\n",
    "textfile_1.write(text_line);\n",
    "textfile_1.write(text_Author); textfile_1.write(text_Date);\n",
    "textfile_1.write(text_script);\n",
    "textfile_1.write(text_line);\n",
    "#--------------------------------------------------------60\n",
    "\n",
    "line_separation  = '_'*60 + '\\n'\n",
    "\n",
    "\n",
    "textfile_1.write('\\ntell application \"Evernote\"\\n\\n')\n",
    "\n",
    "# Create the header of the Evernote:\n",
    "textfile_1.write('    # Create the header of the Evernote:\\n')\n",
    "\n",
    "textfile_1.write('    set note1 to create note title \"%s\" with text \\\n",
    "\"By Arturo Avelino\" notebook \"%s\"\\n\\n'%(title, Ever_notebook))\n",
    "textfile_1.write('    # Add some text at the top of the note.\\n')\n",
    "textfile_1.write('    append note1 text \"\\n')\n",
    "textfile_1.write('    \"\\n')\n",
    "textfile_1.write('    append note1 text \"Last actual update: %s\\n'%text_timenow2)\n",
    "textfile_1.write('    \"\\n\\n')\n",
    "\n",
    "textfile_1.write('    #=====================================================\\n')\n",
    "textfile_1.write('    # Attaching the plots and captions of each supernovae \\\n",
    "to the Evernote note.\\n\\n\\n')\n",
    "\n",
    "\n",
    "#-----------------------------------------------------------------------------80\n",
    "\n",
    "count_sn = 0\n",
    "\n",
    "print '# SNe to put in the Evernote:'\n",
    "\n",
    "# Loop over all the RAISIN in the metadata file.\n",
    "for i1 in range(len(metadata_np)):\n",
    "    \n",
    "    # Define the supernovae name\n",
    "    snname = metadata_np['f0'][i1]\n",
    "    # old. snname = snnames_list[i1]\n",
    "    \n",
    "    # If this RAISIN is in the list of SNe I want to add in the\n",
    "    # Evernote then procede to add its info to the Applescript.\n",
    "    if snname in snnames_list:\n",
    "    \n",
    "        print snname\n",
    "        \n",
    "        # Find out its redshift\n",
    "        # old. zhelio = metadata_dict[snname]\n",
    "        zhelio = metadata_np['f1'][i1]\n",
    "\n",
    "        # Add one to the counter. This will be used to print the \n",
    "        # number of the figures. \n",
    "        count_sn += 1\n",
    "\n",
    "        # Write the name of the SNe just as a quick reference:\n",
    "        textfile_1.write('    #      %s\\n'%snname)\n",
    "\n",
    "        #----- Fit plot -------\n",
    "        textfile_1.write('    append note1 attachment \"%s%s%s\"\\n'%(\n",
    "                                dir_files,snname,fitplot_suffix))\n",
    "        textfile_1.write('    append note1 text \"\\n')\n",
    "        textfile_1.write('    Fig %sa. %s fit. z_helio = %s\"\\n'%(\n",
    "                                count_sn, snname, zhelio))\n",
    "        textfile_1.write('    append note1 text \"\\n')\n",
    "        textfile_1.write('    \"\\n')\n",
    "\n",
    "        #----- Filter plot -------\n",
    "        textfile_1.write('    append note1 attachment \"%s%s%s\"\\n'%(\n",
    "                                dir_files,snname,filterplot_suffix))\n",
    "        textfile_1.write('    append note1 text \"\\n')\n",
    "        textfile_1.write('    Fig %sb. %s filters match. z_helio = %s\"\\n'%(\n",
    "                                count_sn, snname, zhelio))\n",
    "        textfile_1.write('    append note1 text \"\\n')\n",
    "        textfile_1.write('    \"\\n')\n",
    "\n",
    "        #----- Kcorr plot -------\n",
    "        textfile_1.write('    append note1 attachment \"%s%s%s\"\\n'%(\n",
    "                                dir_files,snname,kcorplot_suffix))\n",
    "        textfile_1.write('    append note1 text \"\\n')\n",
    "        textfile_1.write('    Fig %sc. %s k-corrections. z_helio = %s\"\\n'%(\n",
    "                                count_sn, snname, zhelio))\n",
    "        textfile_1.write('    append note1 text \"\\n\\n\n",
    "        ')\n",
    "        textfile_1.write(line_separation+'\\n\\n')\n",
    "        textfile_1.write('    \"\\n\\n')\n",
    "\n",
    "        #------------------------\n",
    "\n",
    "        # textfile_1.write('    \\n')\n",
    "\n",
    "#-----------------------------------------------------------------------------80\n",
    "\n",
    "textfile_1.write('end tell\\n')\n",
    "textfile_1.close()"
   ]
  },
  {
   "cell_type": "code",
   "execution_count": 20,
   "metadata": {},
   "outputs": [],
   "source": [
    "textfile_1.close();textfile_1.close();textfile_1.close();"
   ]
  },
  {
   "cell_type": "code",
   "execution_count": null,
   "metadata": {},
   "outputs": [],
   "source": []
  },
  {
   "cell_type": "code",
   "execution_count": null,
   "metadata": {},
   "outputs": [],
   "source": []
  }
 ],
 "metadata": {
  "kernelspec": {
   "display_name": "Python 2",
   "language": "python",
   "name": "python2"
  },
  "language_info": {
   "codemirror_mode": {
    "name": "ipython",
    "version": 2
   },
   "file_extension": ".py",
   "mimetype": "text/x-python",
   "name": "python",
   "nbconvert_exporter": "python",
   "pygments_lexer": "ipython2",
   "version": "2.7.16"
  }
 },
 "nbformat": 4,
 "nbformat_minor": 2
}
