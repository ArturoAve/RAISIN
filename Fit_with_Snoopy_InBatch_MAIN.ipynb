{
 "cells": [
  {
   "cell_type": "markdown",
   "metadata": {},
   "source": [
    "# Fit supernovae with SNooPy in batch\n",
    "\n",
    "Python 3.7 Anaconda\n",
    "\n",
    "NOTES:\n",
    "\n",
    "- Probably I have a bug because when I specify to fit all the optical+nir\n",
    "bands by listing all the bands explicitly, then with RAISIN-1 I couldn't\n",
    "fit any supernova. However, when I don't specify expliclity all the bands\n",
    "(then my script consider this as to fit all the bands), then I can\n",
    "fit all the supernovae with no issue. Check this."
   ]
  },
  {
   "cell_type": "code",
   "execution_count": 1,
   "metadata": {},
   "outputs": [
    {
     "name": "stdout",
     "output_type": "stream",
     "text": [
      "/Users/arturo/Dropbox/Research/Codes_Mains/Python/MyFunctions/github/MyPyFuns/SNeIa\n",
      "/Users/arturo/Dropbox/Research/Articulos/18_RAISINs/Codes/github/RAISIN\n"
     ]
    }
   ],
   "source": [
    "from snpy import *\n",
    "from matplotlib import pyplot as plt\n",
    "import numpy as np\n",
    "import datetime # Get the current date and time\n",
    "import os\n",
    "\n",
    "#----------------------\n",
    "%cd /Users/arturo/Dropbox/Research/Codes_Mains/Python/MyFunctions/github/MyPyFuns/SNeIa/\n",
    "import mysnpyfunc # My snoopy functions\n",
    "\n",
    "%cd /Users/arturo/Dropbox/Research/Articulos/18_RAISINs/Codes/github/RAISIN/\n",
    "\n",
    "#----------------------\n",
    "# import random # To compute k-corr uncertainties\n",
    "# import json # To save the simulated mag and k-corr uncertainties.\n",
    "\n",
    "# from scipy.integrate import quad as intquad # To integrate\n",
    "# import matplotlib as plt\n",
    "\n",
    "# import glob # To read the files in my directory\n",
    "\n",
    "# %pylab qt \n",
    "# For CANOPY python: to show the plots in a separated Windows instead of inline.\n",
    "# If used, then I don't have to put the instruction \"plt.close()\" at\n",
    "# the end of the plot because it will show the figure and instantaneously \n",
    "# close the windows too.\n",
    "\n",
    "#--------------------------------------------------------60\n",
    "code_created_by = 'Arturo_Avelino'\n",
    "# On date: '2019.06.17' (yyyy.mm.dd)\n",
    "code_name = 'Fit_with_Snoopy_InBatch_MAIN.ipynb'\n",
    "code_version = '0.1.4'\n",
    "code_last_update = '2019.08.14'"
   ]
  },
  {
   "cell_type": "code",
   "execution_count": 2,
   "metadata": {},
   "outputs": [],
   "source": [
    "##############################################################################80"
   ]
  },
  {
   "cell_type": "markdown",
   "metadata": {},
   "source": [
    "### Read the list of SNe to fit"
   ]
  },
  {
   "cell_type": "markdown",
   "metadata": {},
   "source": [
    "Change to the directory where the LCs files are located:"
   ]
  },
  {
   "cell_type": "code",
   "execution_count": 3,
   "metadata": {},
   "outputs": [],
   "source": [
    "dir_data = '/Users/arturo/Documents/Research/Workplace/raisin/raisin1/\\\n",
    "2019_08_05__v0_1_1/data_2019_02_28/'\n",
    "\n",
    "os.chdir(dir_data)"
   ]
  },
  {
   "cell_type": "code",
   "execution_count": null,
   "metadata": {},
   "outputs": [],
   "source": [
    "# cd /Users/arturo/Documents/Research/Workplace/raisin/raisin1/2019_08_05__v0_1_1/data  "
   ]
  },
  {
   "cell_type": "code",
   "execution_count": 4,
   "metadata": {},
   "outputs": [
    {
     "name": "stdout",
     "output_type": "stream",
     "text": [
      "PScA470041_snoopy.dat  PScE510457_snoopy.dat  PScJ550202_snoopy.dat\n",
      "PScA470110_snoopy.dat  PScF520062_snoopy.dat  PScJ560027_snoopy.dat\n",
      "PScA470240_snoopy.dat  PScF520107_snoopy.dat  PScJ560054_snoopy.dat\n",
      "PScB480464_snoopy.dat  PScF520188_snoopy.dat  PScK450082_snoopy.dat\n",
      "PScB480794_snoopy.dat  PScG530251_snoopy.dat  PScK450339_snoopy.dat\n",
      "PScC490037_snoopy.dat  PScH540087_snoopy.dat  about.txt\n",
      "PScC490521_snoopy.dat  PScH540118_snoopy.dat  list_SNe.txt\n",
      "PScD500100_snoopy.dat  PScJ440005_snoopy.dat\n",
      "PScD500301_snoopy.dat  PScJ440236_snoopy.dat\n"
     ]
    }
   ],
   "source": [
    "ls"
   ]
  },
  {
   "cell_type": "code",
   "execution_count": 5,
   "metadata": {},
   "outputs": [
    {
     "data": {
      "text/plain": [
       "'/Users/arturo/Documents/Research/Workplace/raisin/raisin1/2019_08_05__v0_1_1/data_2019_02_28'"
      ]
     },
     "execution_count": 5,
     "metadata": {},
     "output_type": "execute_result"
    }
   ],
   "source": [
    "pwd"
   ]
  },
  {
   "cell_type": "code",
   "execution_count": 6,
   "metadata": {},
   "outputs": [
    {
     "data": {
      "text/plain": [
       "23"
      ]
     },
     "execution_count": 6,
     "metadata": {},
     "output_type": "execute_result"
    }
   ],
   "source": [
    "list_sne = np.genfromtxt('list_SNe.txt', dtype=['S22', float])\n",
    "len(list_sne)"
   ]
  },
  {
   "cell_type": "code",
   "execution_count": null,
   "metadata": {},
   "outputs": [],
   "source": [
    "# list_sne[0][0]"
   ]
  },
  {
   "cell_type": "code",
   "execution_count": null,
   "metadata": {},
   "outputs": [],
   "source": [
    "#-----------------------------------------------------------------------------80"
   ]
  },
  {
   "cell_type": "markdown",
   "metadata": {},
   "source": [
    "Define the directory where I'll save the data:"
   ]
  },
  {
   "cell_type": "code",
   "execution_count": 7,
   "metadata": {},
   "outputs": [],
   "source": [
    "dir_save_output = '/Users/arturo/Documents/Research/Workplace/raisin/raisin1/\\\n",
    "2019_08_05__v0_1_1/fits/current/'\n",
    "\n",
    "if not os.path.exists(dir_save_output):\n",
    "    os.makedirs(dir_save_output)"
   ]
  },
  {
   "cell_type": "code",
   "execution_count": null,
   "metadata": {},
   "outputs": [],
   "source": [
    "#-----------------------------------------------------------------------------80"
   ]
  },
  {
   "cell_type": "code",
   "execution_count": null,
   "metadata": {},
   "outputs": [],
   "source": [
    "# t_Bmax"
   ]
  },
  {
   "cell_type": "code",
   "execution_count": null,
   "metadata": {},
   "outputs": [],
   "source": []
  },
  {
   "cell_type": "code",
   "execution_count": 14,
   "metadata": {},
   "outputs": [
    {
     "data": {
      "text/plain": [
       "\"b'cK450339_snoopy.da'\""
      ]
     },
     "execution_count": 14,
     "metadata": {},
     "output_type": "execute_result"
    }
   ],
   "source": [
    "str(list_sne[i1][0][2:-1])"
   ]
  },
  {
   "cell_type": "code",
   "execution_count": 13,
   "metadata": {},
   "outputs": [
    {
     "data": {
      "text/plain": [
       "(b'PScK450339_snoopy.dat', 56251.348)"
      ]
     },
     "execution_count": 13,
     "metadata": {},
     "output_type": "execute_result"
    }
   ],
   "source": [
    "list_sne[i1]"
   ]
  },
  {
   "cell_type": "code",
   "execution_count": 16,
   "metadata": {},
   "outputs": [
    {
     "data": {
      "text/plain": [
       "b'PScK450339_snoopy.dat'"
      ]
     },
     "execution_count": 16,
     "metadata": {},
     "output_type": "execute_result"
    }
   ],
   "source": [
    "list_sne[i1][0]"
   ]
  },
  {
   "cell_type": "code",
   "execution_count": 17,
   "metadata": {},
   "outputs": [
    {
     "data": {
      "text/plain": [
       "numpy.bytes_"
      ]
     },
     "execution_count": 17,
     "metadata": {},
     "output_type": "execute_result"
    }
   ],
   "source": [
    "type(list_sne[i1][0])"
   ]
  },
  {
   "cell_type": "code",
   "execution_count": 18,
   "metadata": {},
   "outputs": [
    {
     "data": {
      "text/plain": [
       "\"b'PScK450339_snoopy.dat'\""
      ]
     },
     "execution_count": 18,
     "metadata": {},
     "output_type": "execute_result"
    }
   ],
   "source": [
    "np.str(list_sne[i1][0])"
   ]
  },
  {
   "cell_type": "code",
   "execution_count": 19,
   "metadata": {},
   "outputs": [
    {
     "data": {
      "text/plain": [
       "'PScK450339_snoopy.dat'"
      ]
     },
     "execution_count": 19,
     "metadata": {},
     "output_type": "execute_result"
    }
   ],
   "source": [
    "list_sne[i1][0].decode('UTF-8')"
   ]
  },
  {
   "cell_type": "code",
   "execution_count": 20,
   "metadata": {},
   "outputs": [
    {
     "data": {
      "text/plain": [
       "str"
      ]
     },
     "execution_count": 20,
     "metadata": {},
     "output_type": "execute_result"
    }
   ],
   "source": [
    "type(list_sne[i1][0].decode('UTF-8'))"
   ]
  },
  {
   "cell_type": "code",
   "execution_count": null,
   "metadata": {},
   "outputs": [],
   "source": []
  },
  {
   "cell_type": "code",
   "execution_count": null,
   "metadata": {},
   "outputs": [],
   "source": []
  },
  {
   "cell_type": "markdown",
   "metadata": {},
   "source": [
    "### Main loop"
   ]
  },
  {
   "cell_type": "code",
   "execution_count": 21,
   "metadata": {},
   "outputs": [
    {
     "name": "stdout",
     "output_type": "stream",
     "text": [
      "      PScA470041_snoopy.dat : I'll try to fit it.\n",
      "#- Try to upload the file: PScA470041_snoopy.dat.\n",
      "#- File uploaded sucessfully.\n",
      "#- Try to specify the SNooPy model EBV_model.\n",
      "#- SNooPy EBV_model model specified sucessfully.\n",
      "#- PScA470041_snoopy.dat LC data: uploaded.\n",
      "\n",
      "# PScA470041_snoopy.dat couldn't be fitted.\n",
      "\n",
      "      PScA470110_snoopy.dat : I'll try to fit it.\n",
      "#- Try to upload the file: PScA470110_snoopy.dat.\n",
      "#- File uploaded sucessfully.\n",
      "#- Try to specify the SNooPy model EBV_model.\n",
      "#- SNooPy EBV_model model specified sucessfully.\n",
      "#- PScA470110_snoopy.dat LC data: uploaded.\n",
      "#- Fit: done.\n",
      "#- 'snpy' file: saved.\n",
      "#- Plot with no text: done and saved.\n",
      "#- Plot with text: done and saved.\n",
      "#- Plot overlay: done and saved.\n",
      "#- Plot k-corrections: done and saved.\n",
      "#- Plot filters: done and saved.\n",
      "--------------------------------------------------------------------------------\n",
      "SN  PScA470110\n",
      "z = 0.3460          ra= 52.07060         dec=-28.62330 EBV_MW = 0.0083 +/- 0.0007 \n",
      "Data in the following bands: f125w,  f160w,  g_ps1,  r_ps1,  i_ps1,  z_ps1,  \n",
      "Fit results (if any):\n",
      "   DM = 41.142  +/-  0.051  +/- 0.097 (sys)\n",
      "   dm15 = 1.085  +/-  0.102  +/- 0.060 (sys)\n",
      "   EBVhost = 0.051  +/-  0.068  +/- 0.060 (sys)\n",
      "   Tmax = 56313.734  +/-  0.000  +/- 0.340 (sys)\n",
      "#- Time, date, author, script: defined.\n",
      "#- Summary text file: done and saved.\n",
      "#- PScA470110 fitted with no issues.\n",
      "\n",
      "      PScA470240_snoopy.dat : I'll try to fit it.\n",
      "#- Try to upload the file: PScA470240_snoopy.dat.\n",
      "#- File uploaded sucessfully.\n",
      "#- Try to specify the SNooPy model EBV_model.\n",
      "#- SNooPy EBV_model model specified sucessfully.\n",
      "#- PScA470240_snoopy.dat LC data: uploaded.\n",
      "#- Fit: done.\n",
      "#- 'snpy' file: saved.\n",
      "#- Plot with no text: done and saved.\n",
      "#- Plot with text: done and saved.\n",
      "#- Plot overlay: done and saved.\n",
      "#- Plot k-corrections: done and saved.\n",
      "#- Plot filters: done and saved.\n",
      "--------------------------------------------------------------------------------\n",
      "SN  PScA470240\n",
      "z = 0.4300          ra=130.72300         dec= 45.90140 EBV_MW = 0.0240 +/- 0.0003 \n",
      "Data in the following bands: f125w,  f160w,  g_ps1,  r_ps1,  i_ps1,  z_ps1,  \n",
      "Fit results (if any):\n",
      "   DM = 42.125  +/-  0.055  +/- 0.077 (sys)\n",
      "   dm15 = 0.875  +/-  0.051  +/- 0.060 (sys)\n",
      "   EBVhost = -0.139  +/-  0.105  +/- 0.060 (sys)\n",
      "   Tmax = 56304.922  +/-  0.000  +/- 0.340 (sys)\n",
      "#- Time, date, author, script: defined.\n",
      "#- Summary text file: done and saved.\n",
      "#- PScA470240 fitted with no issues.\n",
      "\n",
      "      PScB480464_snoopy.dat : I'll try to fit it.\n",
      "#- Try to upload the file: PScB480464_snoopy.dat.\n",
      "#- File uploaded sucessfully.\n",
      "#- Try to specify the SNooPy model EBV_model.\n",
      "#- SNooPy EBV_model model specified sucessfully.\n",
      "#- PScB480464_snoopy.dat LC data: uploaded.\n",
      "\n",
      "# PScB480464_snoopy.dat couldn't be fitted.\n",
      "\n",
      "      PScB480794_snoopy.dat : I'll try to fit it.\n",
      "#- Try to upload the file: PScB480794_snoopy.dat.\n",
      "#- File uploaded sucessfully.\n",
      "#- Try to specify the SNooPy model EBV_model.\n",
      "#- SNooPy EBV_model model specified sucessfully.\n",
      "#- PScB480794_snoopy.dat LC data: uploaded.\n",
      "#- Fit: done.\n",
      "#- 'snpy' file: saved.\n",
      "#- Plot with no text: done and saved.\n",
      "#- Plot with text: done and saved.\n",
      "#- Plot overlay: done and saved.\n",
      "#- Plot k-corrections: done and saved.\n",
      "#- Plot filters: done and saved.\n",
      "--------------------------------------------------------------------------------\n",
      "SN  PScB480794\n",
      "z = 0.3342          ra=149.54180         dec=  1.36410 EBV_MW = 0.0166 +/- 0.0008 \n",
      "Data in the following bands: f125w,  f160w,  g_ps1,  r_ps1,  i_ps1,  z_ps1,  \n",
      "Fit results (if any):\n",
      "   DM = 41.135  +/-  0.059  +/- 0.104 (sys)\n",
      "   dm15 = 0.844  +/-  0.037  +/- 0.060 (sys)\n",
      "   EBVhost = 0.066  +/-  0.033  +/- 0.060 (sys)\n",
      "   Tmax = 56348.414  +/-  0.000  +/- 0.340 (sys)\n",
      "#- Time, date, author, script: defined.\n",
      "#- Summary text file: done and saved.\n",
      "#- PScB480794 fitted with no issues.\n",
      "\n",
      "      PScC490037_snoopy.dat : I'll try to fit it.\n",
      "#- Try to upload the file: PScC490037_snoopy.dat.\n"
     ]
    },
    {
     "name": "stderr",
     "output_type": "stream",
     "text": [
      "/Users/arturo/anaconda3/lib/python3.7/site-packages/snpy/model.py:547: RuntimeWarning: divide by zero encountered in power\n",
      "  weights.append(sum(where(mask, power(err,-2), 0)))\n"
     ]
    },
    {
     "name": "stdout",
     "output_type": "stream",
     "text": [
      "#- File uploaded sucessfully.\n",
      "#- Try to specify the SNooPy model EBV_model.\n",
      "#- SNooPy EBV_model model specified sucessfully.\n",
      "#- PScC490037_snoopy.dat LC data: uploaded.\n",
      "#- Fit: done.\n",
      "#- 'snpy' file: saved.\n",
      "#- Plot with no text: done and saved.\n",
      "#- Plot with text: done and saved.\n",
      "#- Plot overlay: done and saved.\n",
      "#- Plot k-corrections: done and saved.\n",
      "#- Plot filters: done and saved.\n",
      "--------------------------------------------------------------------------------\n",
      "SN  PScC490037\n",
      "z = 0.4219          ra=149.95720         dec=  0.81660 EBV_MW = 0.0190 +/- 0.0006 \n",
      "Data in the following bands: f125w,  f160w,  g_ps1,  r_ps1,  i_ps1,  z_ps1,  \n",
      "Fit results (if any):\n",
      "   DM = 41.945  +/-  0.106  +/- 0.123 (sys)\n",
      "   dm15 = 0.881  +/-  0.124  +/- 0.060 (sys)\n",
      "   EBVhost = -0.093  +/-  0.060  +/- 0.060 (sys)\n",
      "   Tmax = 56370.484  +/-  0.000  +/- 0.340 (sys)\n",
      "#- Time, date, author, script: defined.\n",
      "#- Summary text file: done and saved.\n",
      "#- PScC490037 fitted with no issues.\n",
      "\n",
      "      PScC490521_snoopy.dat : I'll try to fit it.\n",
      "#- Try to upload the file: PScC490521_snoopy.dat.\n",
      "#- File uploaded sucessfully.\n",
      "#- Try to specify the SNooPy model EBV_model.\n",
      "#- SNooPy EBV_model model specified sucessfully.\n",
      "#- PScC490521_snoopy.dat LC data: uploaded.\n",
      "\n",
      "# PScC490521_snoopy.dat couldn't be fitted.\n",
      "\n",
      "      PScD500100_snoopy.dat : I'll try to fit it.\n",
      "#- Try to upload the file: PScD500100_snoopy.dat.\n",
      "#- File uploaded sucessfully.\n",
      "#- Try to specify the SNooPy model EBV_model.\n",
      "#- SNooPy EBV_model model specified sucessfully.\n",
      "#- PScD500100_snoopy.dat LC data: uploaded.\n",
      "\n",
      "# PScD500100_snoopy.dat couldn't be fitted.\n",
      "\n",
      "      PScD500301_snoopy.dat : I'll try to fit it.\n",
      "#- Try to upload the file: PScD500301_snoopy.dat.\n",
      "#- File uploaded sucessfully.\n",
      "#- Try to specify the SNooPy model EBV_model.\n",
      "#- SNooPy EBV_model model specified sucessfully.\n",
      "#- PScD500301_snoopy.dat LC data: uploaded.\n",
      "\n",
      "# PScD500301_snoopy.dat couldn't be fitted.\n",
      "\n",
      "      PScE510457_snoopy.dat : I'll try to fit it.\n",
      "#- Try to upload the file: PScE510457_snoopy.dat.\n",
      "#- File uploaded sucessfully.\n",
      "#- Try to specify the SNooPy model EBV_model.\n",
      "#- SNooPy EBV_model model specified sucessfully.\n",
      "#- PScE510457_snoopy.dat LC data: uploaded.\n",
      "#- Fit: done.\n",
      "#- 'snpy' file: saved.\n",
      "#- Plot with no text: done and saved.\n",
      "#- Plot with text: done and saved.\n",
      "#- Plot overlay: done and saved.\n",
      "#- Plot k-corrections: done and saved.\n",
      "#- Plot filters: done and saved.\n",
      "--------------------------------------------------------------------------------\n",
      "SN  PScE510457\n",
      "z = 0.5020          ra=186.38880         dec= 48.13690 EBV_MW = 0.0113 +/- 0.0003 \n",
      "Data in the following bands: f160w,  g_ps1,  r_ps1,  i_ps1,  z_ps1,  \n",
      "Fit results (if any):\n",
      "   DM = 42.930  +/-  0.090  +/- 0.121 (sys)\n",
      "   dm15 = 0.700  +/-  0.099  +/- 0.060 (sys)\n",
      "   EBVhost = -0.080  +/-  0.058  +/- 0.060 (sys)\n",
      "   Tmax = 56431.578  +/-  0.000  +/- 0.340 (sys)\n",
      "#- Time, date, author, script: defined.\n",
      "#- Summary text file: done and saved.\n",
      "#- PScE510457 fitted with no issues.\n",
      "\n",
      "      PScF520062_snoopy.dat : I'll try to fit it.\n",
      "#- Try to upload the file: PScF520062_snoopy.dat.\n",
      "#- File uploaded sucessfully.\n",
      "#- Try to specify the SNooPy model EBV_model.\n",
      "#- SNooPy EBV_model model specified sucessfully.\n",
      "#- PScF520062_snoopy.dat LC data: uploaded.\n",
      "#- Fit: done.\n",
      "#- 'snpy' file: saved.\n",
      "#- Plot with no text: done and saved.\n",
      "#- Plot with text: done and saved.\n",
      "#- Plot overlay: done and saved.\n",
      "#- Plot k-corrections: done and saved.\n",
      "#- Plot filters: done and saved.\n",
      "--------------------------------------------------------------------------------\n",
      "SN  PScF520062\n",
      "z = 0.3080          ra=244.45140         dec= 54.63340 EBV_MW = 0.0089 +/- 0.0004 \n",
      "Data in the following bands: f125w,  f160w,  g_ps1,  r_ps1,  i_ps1,  z_ps1,  \n",
      "Fit results (if any):\n",
      "   DM = 41.198  +/-  0.049  +/- 0.100 (sys)\n",
      "   dm15 = 1.017  +/-  0.046  +/- 0.060 (sys)\n",
      "   EBVhost = 0.021  +/-  0.036  +/- 0.060 (sys)\n",
      "   Tmax = 56456.520  +/-  0.000  +/- 0.340 (sys)\n",
      "#- Time, date, author, script: defined.\n",
      "#- Summary text file: done and saved.\n",
      "#- PScF520062 fitted with no issues.\n",
      "\n",
      "      PScF520107_snoopy.dat : I'll try to fit it.\n",
      "#- Try to upload the file: PScF520107_snoopy.dat.\n"
     ]
    },
    {
     "name": "stderr",
     "output_type": "stream",
     "text": [
      "/Users/arturo/anaconda3/lib/python3.7/site-packages/snpy/model.py:547: RuntimeWarning: divide by zero encountered in power\n",
      "  weights.append(sum(where(mask, power(err,-2), 0)))\n"
     ]
    },
    {
     "name": "stdout",
     "output_type": "stream",
     "text": [
      "#- File uploaded sucessfully.\n",
      "#- Try to specify the SNooPy model EBV_model.\n",
      "#- SNooPy EBV_model model specified sucessfully.\n",
      "#- PScF520107_snoopy.dat LC data: uploaded.\n",
      "#- Fit: done.\n",
      "#- 'snpy' file: saved.\n",
      "#- Plot with no text: done and saved.\n",
      "#- Plot with text: done and saved.\n",
      "#- Plot overlay: done and saved.\n",
      "#- Plot k-corrections: done and saved.\n",
      "#- Plot filters: done and saved.\n",
      "--------------------------------------------------------------------------------\n",
      "SN  PScF520107\n",
      "z = 0.5190          ra=184.16100         dec= 47.81600 EBV_MW = 0.0156 +/- 0.0003 \n",
      "Data in the following bands: f160w,  g_ps1,  r_ps1,  i_ps1,  z_ps1,  \n",
      "Fit results (if any):\n",
      "   DM = 41.948  +/-  0.108  +/- 0.456 (sys)\n",
      "   dm15 = 0.816  +/-  0.112  +/- 0.060 (sys)\n",
      "   EBVhost = 0.905  +/-  0.138  +/- 0.060 (sys)\n",
      "   Tmax = 56456.012  +/-  0.000  +/- 0.340 (sys)\n",
      "#- Time, date, author, script: defined.\n",
      "#- Summary text file: done and saved.\n",
      "#- PScF520107 fitted with no issues.\n",
      "\n",
      "      PScF520188_snoopy.dat : I'll try to fit it.\n",
      "#- Try to upload the file: PScF520188_snoopy.dat.\n",
      "#- File uploaded sucessfully.\n",
      "#- Try to specify the SNooPy model EBV_model.\n",
      "#- SNooPy EBV_model model specified sucessfully.\n",
      "#- PScF520188_snoopy.dat LC data: uploaded.\n",
      "#- Fit: done.\n",
      "#- 'snpy' file: saved.\n",
      "#- Plot with no text: done and saved.\n",
      "#- Plot with text: done and saved.\n",
      "#- Plot overlay: done and saved.\n",
      "#- Plot k-corrections: done and saved.\n",
      "#- Plot filters: done and saved.\n",
      "--------------------------------------------------------------------------------\n",
      "SN  PScF520188\n",
      "z = 0.2830          ra=215.52400         dec= 52.54460 EBV_MW = 0.0078 +/- 0.0004 \n",
      "Data in the following bands: f125w,  f160w,  g_ps1,  r_ps1,  i_ps1,  z_ps1,  \n",
      "Fit results (if any):\n",
      "   DM = 40.497  +/-  0.032  +/- 0.148 (sys)\n",
      "   dm15 = 1.051  +/-  0.043  +/- 0.060 (sys)\n",
      "   EBVhost = -0.040  +/-  0.026  +/- 0.060 (sys)\n",
      "   Tmax = 56482.664  +/-  0.000  +/- 0.340 (sys)\n",
      "#- Time, date, author, script: defined.\n",
      "#- Summary text file: done and saved.\n",
      "#- PScF520188 fitted with no issues.\n",
      "\n",
      "      PScG530251_snoopy.dat : I'll try to fit it.\n",
      "#- Try to upload the file: PScG530251_snoopy.dat.\n"
     ]
    },
    {
     "name": "stderr",
     "output_type": "stream",
     "text": [
      "/Users/arturo/anaconda3/lib/python3.7/site-packages/snpy/model.py:547: RuntimeWarning: divide by zero encountered in power\n",
      "  weights.append(sum(where(mask, power(err,-2), 0)))\n"
     ]
    },
    {
     "name": "stdout",
     "output_type": "stream",
     "text": [
      "#- File uploaded sucessfully.\n",
      "#- Try to specify the SNooPy model EBV_model.\n",
      "#- SNooPy EBV_model model specified sucessfully.\n",
      "#- PScG530251_snoopy.dat LC data: uploaded.\n",
      "#- Fit: done.\n",
      "#- 'snpy' file: saved.\n",
      "#- Plot with no text: done and saved.\n",
      "#- Plot with text: done and saved.\n",
      "#- Plot overlay: done and saved.\n",
      "#- Plot k-corrections: done and saved.\n",
      "#- Plot filters: done and saved.\n",
      "--------------------------------------------------------------------------------\n",
      "SN  PScG530251\n",
      "z = 0.4100          ra=334.63430         dec=  1.11490 EBV_MW = 0.0651 +/- 0.0027 \n",
      "Data in the following bands: f125w,  f160w,  g_ps1,  r_ps1,  i_ps1,  z_ps1,  \n",
      "Fit results (if any):\n",
      "   DM = 42.196  +/-  0.067  +/- 0.099 (sys)\n",
      "   dm15 = 0.886  +/-  0.080  +/- 0.060 (sys)\n",
      "   EBVhost = 0.044  +/-  0.043  +/- 0.060 (sys)\n",
      "   Tmax = 56492.703  +/-  0.000  +/- 0.340 (sys)\n",
      "#- Time, date, author, script: defined.\n",
      "#- Summary text file: done and saved.\n",
      "#- PScG530251 fitted with no issues.\n",
      "\n",
      "      PScH540087_snoopy.dat : I'll try to fit it.\n",
      "#- Try to upload the file: PScH540087_snoopy.dat.\n",
      "#- File uploaded sucessfully.\n",
      "#- Try to specify the SNooPy model EBV_model.\n",
      "#- SNooPy EBV_model model specified sucessfully.\n",
      "#- PScH540087_snoopy.dat LC data: uploaded.\n",
      "#- Fit: done.\n",
      "#- 'snpy' file: saved.\n",
      "#- Plot with no text: done and saved.\n",
      "#- Plot with text: done and saved.\n",
      "#- Plot overlay: done and saved.\n",
      "#- Plot k-corrections: done and saved.\n",
      "#- Plot filters: done and saved.\n",
      "--------------------------------------------------------------------------------\n",
      "SN  PScH540087\n",
      "z = 0.2750          ra=335.37650         dec=  0.12950 EBV_MW = 0.0588 +/- 0.0007 \n",
      "Data in the following bands: f125w,  f160w,  g_ps1,  r_ps1,  i_ps1,  z_ps1,  \n",
      "Fit results (if any):\n",
      "   DM = 40.653  +/-  0.054  +/- 0.184 (sys)\n",
      "   dm15 = 1.028  +/-  0.048  +/- 0.060 (sys)\n",
      "   EBVhost = 0.056  +/-  0.036  +/- 0.060 (sys)\n",
      "   Tmax = 56520.648  +/-  0.000  +/- 0.340 (sys)\n",
      "#- Time, date, author, script: defined.\n",
      "#- Summary text file: done and saved.\n",
      "#- PScH540087 fitted with no issues.\n",
      "\n",
      "      PScH540118_snoopy.dat : I'll try to fit it.\n",
      "#- Try to upload the file: PScH540118_snoopy.dat.\n"
     ]
    },
    {
     "name": "stderr",
     "output_type": "stream",
     "text": [
      "/Users/arturo/anaconda3/lib/python3.7/site-packages/snpy/model.py:547: RuntimeWarning: divide by zero encountered in power\n",
      "  weights.append(sum(where(mask, power(err,-2), 0)))\n"
     ]
    },
    {
     "name": "stdout",
     "output_type": "stream",
     "text": [
      "#- File uploaded sucessfully.\n",
      "#- Try to specify the SNooPy model EBV_model.\n",
      "#- SNooPy EBV_model model specified sucessfully.\n",
      "#- PScH540118_snoopy.dat LC data: uploaded.\n",
      "#- Fit: done.\n",
      "#- 'snpy' file: saved.\n",
      "#- Plot with no text: done and saved.\n",
      "#- Plot with text: done and saved.\n",
      "#- Plot overlay: done and saved.\n",
      "#- Plot k-corrections: done and saved.\n",
      "#- Plot filters: done and saved.\n",
      "--------------------------------------------------------------------------------\n",
      "SN  PScH540118\n",
      "z = 0.4765          ra=351.82260         dec= -0.04810 EBV_MW = 0.0297 +/- 0.0008 \n",
      "Data in the following bands: f160w,  g_ps1,  r_ps1,  i_ps1,  z_ps1,  \n",
      "Fit results (if any):\n",
      "   DM = 42.212  +/-  0.093  +/- 0.160 (sys)\n",
      "   dm15 = 0.900  +/-  0.084  +/- 0.060 (sys)\n",
      "   EBVhost = 0.042  +/-  0.029  +/- 0.060 (sys)\n",
      "   Tmax = 56519.262  +/-  0.000  +/- 0.340 (sys)\n",
      "#- Time, date, author, script: defined.\n",
      "#- Summary text file: done and saved.\n",
      "#- PScH540118 fitted with no issues.\n",
      "\n",
      "      PScJ440005_snoopy.dat : I'll try to fit it.\n",
      "#- Try to upload the file: PScJ440005_snoopy.dat.\n",
      "#- File uploaded sucessfully.\n",
      "#- Try to specify the SNooPy model EBV_model.\n",
      "#- SNooPy EBV_model model specified sucessfully.\n",
      "#- PScJ440005_snoopy.dat LC data: uploaded.\n",
      "#- Fit: done.\n",
      "#- 'snpy' file: saved.\n",
      "#- Plot with no text: done and saved.\n",
      "#- Plot with text: done and saved.\n",
      "#- Plot overlay: done and saved.\n",
      "#- Plot k-corrections: done and saved.\n",
      "#- Plot filters: done and saved.\n",
      "--------------------------------------------------------------------------------\n",
      "SN  PScJ440005\n",
      "z = 0.3060          ra= 52.98930         dec=-28.88360 EBV_MW = 0.0078 +/- 0.0005 \n",
      "Data in the following bands: f125w,  f160w,  g_ps1,  r_ps1,  i_ps1,  z_ps1,  \n",
      "Fit results (if any):\n",
      "   DM = 40.953  +/-  0.061  +/- 0.124 (sys)\n",
      "   dm15 = 1.036  +/-  0.104  +/- 0.060 (sys)\n",
      "   EBVhost = 0.305  +/-  0.072  +/- 0.060 (sys)\n",
      "   Tmax = 56219.309  +/-  0.000  +/- 0.340 (sys)\n",
      "#- Time, date, author, script: defined.\n",
      "#- Summary text file: done and saved.\n",
      "#- PScJ440005 fitted with no issues.\n",
      "\n",
      "      PScJ440236_snoopy.dat : I'll try to fit it.\n",
      "#- Try to upload the file: PScJ440236_snoopy.dat.\n"
     ]
    },
    {
     "name": "stderr",
     "output_type": "stream",
     "text": [
      "/Users/arturo/anaconda3/lib/python3.7/site-packages/snpy/model.py:547: RuntimeWarning: divide by zero encountered in power\n",
      "  weights.append(sum(where(mask, power(err,-2), 0)))\n"
     ]
    },
    {
     "name": "stdout",
     "output_type": "stream",
     "text": [
      "#- File uploaded sucessfully.\n",
      "#- Try to specify the SNooPy model EBV_model.\n",
      "#- SNooPy EBV_model model specified sucessfully.\n",
      "#- PScJ440236_snoopy.dat LC data: uploaded.\n",
      "#- Fit: done.\n",
      "#- 'snpy' file: saved.\n",
      "#- Plot with no text: done and saved.\n",
      "#- Plot with text: done and saved.\n",
      "#- Plot overlay: done and saved.\n",
      "#- Plot k-corrections: done and saved.\n",
      "#- Plot filters: done and saved.\n",
      "--------------------------------------------------------------------------------\n",
      "SN  PScJ440236\n",
      "z = 0.4366          ra= 37.10190         dec= -4.42460 EBV_MW = 0.0227 +/- 0.0004 \n",
      "Data in the following bands: f125w,  f160w,  g_ps1,  r_ps1,  i_ps1,  z_ps1,  \n",
      "Fit results (if any):\n",
      "   DM = 42.106  +/-  0.033  +/- 0.089 (sys)\n",
      "   dm15 = 0.877  +/-  0.042  +/- 0.060 (sys)\n",
      "   EBVhost = -0.083  +/-  0.038  +/- 0.060 (sys)\n",
      "   Tmax = 56208.355  +/-  0.000  +/- 0.340 (sys)\n",
      "#- Time, date, author, script: defined.\n",
      "#- Summary text file: done and saved.\n",
      "#- PScJ440236 fitted with no issues.\n",
      "\n",
      "      PScJ550202_snoopy.dat : I'll try to fit it.\n",
      "#- Try to upload the file: PScJ550202_snoopy.dat.\n",
      "#- File uploaded sucessfully.\n",
      "#- Try to specify the SNooPy model EBV_model.\n",
      "#- SNooPy EBV_model model specified sucessfully.\n",
      "#- PScJ550202_snoopy.dat LC data: uploaded.\n",
      "#- Fit: done.\n",
      "#- 'snpy' file: saved.\n",
      "#- Plot with no text: done and saved.\n",
      "#- Plot with text: done and saved.\n",
      "#- Plot overlay: done and saved.\n",
      "#- Plot k-corrections: done and saved.\n",
      "#- Plot filters: done and saved.\n",
      "--------------------------------------------------------------------------------\n",
      "SN  PScJ550202\n",
      "z = 0.4220          ra=351.79990         dec= -0.78290 EBV_MW = 0.0394 +/- 0.0018 \n",
      "Data in the following bands: f125w,  f160w,  r_ps1,  i_ps1,  z_ps1,  \n",
      "Fit results (if any):\n",
      "   DM = 41.866  +/-  0.069  +/- 0.139 (sys)\n",
      "   dm15 = 1.047  +/-  0.121  +/- 0.060 (sys)\n",
      "   EBVhost = -0.162  +/-  0.077  +/- 0.060 (sys)\n",
      "   Tmax = 56571.652  +/-  0.000  +/- 0.340 (sys)\n",
      "#- Time, date, author, script: defined.\n",
      "#- Summary text file: done and saved.\n",
      "#- PScJ550202 fitted with no issues.\n",
      "\n",
      "      PScJ560027_snoopy.dat : I'll try to fit it.\n",
      "#- Try to upload the file: PScJ560027_snoopy.dat.\n",
      "#- File uploaded sucessfully.\n",
      "#- Try to specify the SNooPy model EBV_model.\n",
      "#- SNooPy EBV_model model specified sucessfully.\n",
      "#- PScJ560027_snoopy.dat LC data: uploaded.\n",
      "#- Fit: done.\n",
      "#- 'snpy' file: saved.\n",
      "#- Plot with no text: done and saved.\n",
      "#- Plot with text: done and saved.\n",
      "#- Plot overlay: done and saved.\n",
      "#- Plot k-corrections: done and saved.\n",
      "#- Plot filters: done and saved.\n",
      "--------------------------------------------------------------------------------\n",
      "SN  PScJ560027\n",
      "z = 0.4400          ra= 35.85063         dec= -3.08395 EBV_MW = 0.0224 +/- 0.0005 \n",
      "Data in the following bands: f125w,  f160w,  g_ps1,  r_ps1,  i_ps1,  z_ps1,  \n",
      "Fit results (if any):\n",
      "   DM = 41.838  +/-  0.054  +/- 0.104 (sys)\n",
      "   dm15 = 1.187  +/-  0.068  +/- 0.060 (sys)\n",
      "   EBVhost = -0.222  +/-  0.035  +/- 0.060 (sys)\n",
      "   Tmax = 56569.227  +/-  0.000  +/- 0.340 (sys)\n",
      "#- Time, date, author, script: defined.\n",
      "#- Summary text file: done and saved.\n",
      "#- PScJ560027 fitted with no issues.\n",
      "\n",
      "      PScJ560054_snoopy.dat : I'll try to fit it.\n",
      "#- Try to upload the file: PScJ560054_snoopy.dat.\n",
      "#- File uploaded sucessfully.\n",
      "#- Try to specify the SNooPy model EBV_model.\n",
      "#- SNooPy EBV_model model specified sucessfully.\n",
      "#- PScJ560054_snoopy.dat LC data: uploaded.\n",
      "#- Fit: done.\n",
      "#- 'snpy' file: saved.\n",
      "#- Plot with no text: done and saved.\n",
      "#- Plot with text: done and saved.\n",
      "#- Plot overlay: done and saved.\n",
      "#- Plot k-corrections: done and saved.\n",
      "#- Plot filters: done and saved.\n",
      "--------------------------------------------------------------------------------\n",
      "SN  PScJ560054\n",
      "z = 0.4816          ra=353.29580         dec= -0.33640 EBV_MW = 0.0293 +/- 0.0007 \n",
      "Data in the following bands: f125w,  f160w,  g_ps1,  r_ps1,  i_ps1,  z_ps1,  \n",
      "Fit results (if any):\n",
      "   DM = 42.183  +/-  0.070  +/- 0.125 (sys)\n",
      "   dm15 = 0.879  +/-  0.065  +/- 0.060 (sys)\n",
      "   EBVhost = -0.091  +/-  0.046  +/- 0.060 (sys)\n",
      "   Tmax = 56575.344  +/-  0.000  +/- 0.340 (sys)\n",
      "#- Time, date, author, script: defined.\n",
      "#- Summary text file: done and saved.\n",
      "#- PScJ560054 fitted with no issues.\n",
      "\n",
      "      PScK450082_snoopy.dat : I'll try to fit it.\n",
      "#- Try to upload the file: PScK450082_snoopy.dat.\n",
      "#- File uploaded sucessfully.\n",
      "#- Try to specify the SNooPy model EBV_model.\n",
      "#- SNooPy EBV_model model specified sucessfully.\n",
      "#- PScK450082_snoopy.dat LC data: uploaded.\n",
      "\n",
      "# PScK450082_snoopy.dat couldn't be fitted.\n",
      "\n",
      "      PScK450339_snoopy.dat : I'll try to fit it.\n",
      "#- Try to upload the file: PScK450339_snoopy.dat.\n",
      "#- File uploaded sucessfully.\n",
      "#- Try to specify the SNooPy model EBV_model.\n",
      "#- SNooPy EBV_model model specified sucessfully.\n",
      "#- PScK450339_snoopy.dat LC data: uploaded.\n",
      "#- Fit: done.\n",
      "#- 'snpy' file: saved.\n",
      "#- Plot with no text: done and saved.\n",
      "#- Plot with text: done and saved.\n",
      "#- Plot overlay: done and saved.\n",
      "#- Plot k-corrections: done and saved.\n",
      "#- Plot filters: done and saved.\n",
      "--------------------------------------------------------------------------------\n",
      "SN  PScK450339\n",
      "z = 0.4104          ra= 36.28740         dec= -3.35340 EBV_MW = 0.0207 +/- 0.0004 \n",
      "Data in the following bands: f125w,  f160w,  g_ps1,  r_ps1,  i_ps1,  z_ps1,  \n",
      "Fit results (if any):\n",
      "   DM = 41.912  +/-  0.076  +/- 0.071 (sys)\n",
      "   dm15 = 1.031  +/-  0.088  +/- 0.060 (sys)\n",
      "   EBVhost = -0.179  +/-  0.056  +/- 0.060 (sys)\n",
      "   Tmax = 56251.348  +/-  0.000  +/- 0.340 (sys)\n",
      "#- Time, date, author, script: defined.\n",
      "#- Summary text file: done and saved.\n",
      "#- PScK450339 fitted with no issues.\n",
      "\n",
      "\n",
      "--- 17 SNe fitted | 6 SNe not fitted ---\n",
      "\n",
      "# Failed 6 SNe:\n",
      "['PScA470041_snoopy.dat', 'PScB480464_snoopy.dat', 'PScC490521_snoopy.dat', 'PScD500100_snoopy.dat', 'PScD500301_snoopy.dat', 'PScK450082_snoopy.dat']\n"
     ]
    }
   ],
   "source": [
    "count_sn = 0\n",
    "count_sn_errors = 0\n",
    "fail_sne = []\n",
    "\n",
    "textfile_1 = open(dir_save_output+'Settings_fits.txt', 'w')\n",
    "textfile_2 = open(dir_save_output+'Failed_fits.log', 'w')\n",
    "\n",
    "textfile_1.write('#       Settings of the fits\\n')\n",
    "textfile_1.write('# Directory where the data is located\\n')\n",
    "textfile_1.write('# %s\\n'%dir_data)\n",
    "\n",
    "textfile_2.write('# Failed supernovae to be fitted:\\n')\n",
    "\n",
    "#--------------------------------------------------------60\n",
    "\n",
    "# Define the header text\n",
    "now = datetime.datetime.now() # Read the time and date right now\n",
    "text_timenow = now.strftime(\"%Y.%m.%d (yyyy.mm.dd); %H:%M hrs (ET).\")\n",
    "text_Date   = '# On date: %s\\n'%text_timenow\n",
    "text_Author = '# Data table created by: %s.\\n'%code_created_by\n",
    "text_script = '# Script used: %s (version %s | last update: %s)\\n'%(\n",
    "    code_name, code_version, code_last_update)\n",
    "text_line = '#'+'-'*57 + '60\\n'\n",
    "\n",
    "# Write the header text\n",
    "textfile_1.write(text_line);\n",
    "textfile_1.write(text_Author); textfile_1.write(text_Date);\n",
    "textfile_1.write(text_script);\n",
    "textfile_1.write(text_line);\n",
    "\n",
    "#--------------------------------------------------------60\n",
    "\n",
    "for i1 in range(len(list_sne)):\n",
    "    \n",
    "    # snname = str(list_sne[i1][0])  # Python 2.7\n",
    "    snname = list_sne[i1][0].decode('UTF-8')  # Python 3.7\n",
    "    print('     ', snname, \": I'll try to fit it.\")\n",
    "    \n",
    "    # When using a precomputed value for t_Bmax.\n",
    "    t_Bmax = list_sne[i1][1]\n",
    "\n",
    "    try:\n",
    "        mysnpyfunc.snpyfit(snname, \n",
    "                         \n",
    "           # Options: ('EBV_model', 'EBV_model2', 'max_model')\n",
    "           model='EBV_model', \n",
    "                           \n",
    "           mangled_kcorr=True,\n",
    "                           \n",
    "           # When using a precomputed value for t_Bmax, otherwise\n",
    "           # comment the following line:\n",
    "           Tmax = t_Bmax, \n",
    "                          \n",
    "           #------------------------------\n",
    "           # Note: If \"bands_to_fit[]\" is not specified, then all band in the\n",
    "           # LC data file are fitted.\n",
    "                           \n",
    "           #      RAISIN-2\n",
    "           # bands_to_fit=['g_des', 'r_des', 'i_des','z_des', 'f125w','f160w'],\n",
    "           # bands_to_fit=['r_des', 'i_des', 'z_des', 'f125w', 'f160w'],\n",
    "           # bands_to_fit=['g_des', 'r_des', 'i_des', 'z_des'],\n",
    "           # bands_to_fit=['r_des', 'i_des', 'z_des'],\n",
    "           # bands_to_fit=['f125w','f160w'],\n",
    "           # bands_to_fit=['f160w'],\n",
    "                      \n",
    "           #      RAISIN-1\n",
    "           bands_to_fit=['g_ps1', 'r_ps1', 'i_ps1', 'z_ps1', 'f125w', 'f160w'],\n",
    "           # bands_to_fit=['r_ps1', 'i_ps1', 'z_ps1', 'f125w', 'f160w'],\n",
    "           # bands_to_fit=['g_ps1', 'r_ps1', 'i_ps1', 'z_ps1'],\n",
    "           # bands_to_fit=['r_ps1', 'i_ps1', 'z_ps1'],\n",
    "              \n",
    "           #------------------------------\n",
    "                           \n",
    "           num_char_trim=-11,\n",
    "           debug = True,\n",
    "           dir_save_output = dir_save_output\n",
    "           )\n",
    "\n",
    "    #     #-------------------------------------------\n",
    "    #     # When using a precomputed value for t_Bmax.\n",
    "    \n",
    "    #     t_Bmax = list_sne[i1][1]\n",
    "    #     mysnpyfunc.snpyfit(snname, Tmax = t_Bmax, \n",
    "    #        bands_to_fit=['z_des','f160w'],\n",
    "    #        obs_rest_bands=[['f160w', 'J_K']],\n",
    "    #        dir_save_output = dir_save_output)\n",
    "    \n",
    "        count_sn += 1\n",
    "    \n",
    "    except:\n",
    "        print(\"\\n# %s couldn't be fitted.\\n\"%snname)\n",
    "        fail_sne += [snname]\n",
    "        textfile_2.write('%s\\n'%snname)\n",
    "        count_sn_errors += 1\n",
    "            \n",
    "#--------------------------------------------------------60\n",
    "\n",
    "text_100 = '\\n--- %s SNe fitted | %s SNe not fitted ---\\n'%(\n",
    "    count_sn, count_sn_errors)\n",
    "text_110 = '# Failed %s SNe:'%count_sn_errors\n",
    "\n",
    "textfile_1.write(text_100); textfile_1.write(text_110)\n",
    "\n",
    "print(text_100)\n",
    "print(text_110)\n",
    "print(fail_sne)\n",
    "\n",
    "textfile_1.close()\n",
    "textfile_2.close()"
   ]
  },
  {
   "cell_type": "code",
   "execution_count": 22,
   "metadata": {},
   "outputs": [],
   "source": [
    "textfile_1.close(); textfile_1.close(); textfile_1.close();\n",
    "textfile_2.close(); textfile_2.close(); textfile_2.close(); "
   ]
  },
  {
   "cell_type": "code",
   "execution_count": null,
   "metadata": {},
   "outputs": [],
   "source": [
    "##############################################################################80"
   ]
  },
  {
   "cell_type": "code",
   "execution_count": null,
   "metadata": {},
   "outputs": [],
   "source": []
  },
  {
   "cell_type": "code",
   "execution_count": null,
   "metadata": {},
   "outputs": [],
   "source": []
  }
 ],
 "metadata": {
  "kernelspec": {
   "display_name": "Python 3",
   "language": "python",
   "name": "python3"
  },
  "language_info": {
   "codemirror_mode": {
    "name": "ipython",
    "version": 3
   },
   "file_extension": ".py",
   "mimetype": "text/x-python",
   "name": "python",
   "nbconvert_exporter": "python",
   "pygments_lexer": "ipython3",
   "version": "3.7.3"
  }
 },
 "nbformat": 4,
 "nbformat_minor": 4
}
